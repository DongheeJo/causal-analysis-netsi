{
 "cells": [
  {
   "cell_type": "markdown",
   "metadata": {},
   "source": [
    "# NETSI Special Topic: Causal Analysis\n",
    "## Jupyter notebook on Fisher's exact inference\n",
    "\n",
    "In this notebook, we are going to perform Fisher's exact inference. With the advancement of computational capacity, Fisher's exact inference is quickly becoming an attractive alternative to Neyman's superpopulation approach. Let's see how it works!\n",
    "\n",
    "For this exercise, we will use a clinical trial study by van der Leij et al. (2019). The research question of this paper is whether providing hiding box to sheltered cats makes them be less stressed and lose less weight.\n",
    "* [Article link](https://journals.plos.org/plosone/article?id=10.1371/journal.pone.0223492)\n",
    "* [Data link](https://dataverse.nl/dataset.xhtml?persistentId=hdl:10411/T8LKML)\n",
    "\n",
    "Assignment mechanism is not exactly specified in the article. Here, we will assume that it is stratified by gender. (Male: 6 treated out of 11; Female: 6 treated out of 12)"
   ]
  },
  {
   "cell_type": "code",
   "execution_count": 1,
   "metadata": {},
   "outputs": [
    {
     "name": "stderr",
     "output_type": "stream",
     "text": [
      "── \u001b[1mAttaching packages\u001b[22m ─────────────────────────────────────── tidyverse 1.2.1 ──\n",
      "\n",
      "\u001b[32m✔\u001b[39m \u001b[34mggplot2\u001b[39m 3.2.1     \u001b[32m✔\u001b[39m \u001b[34mpurrr  \u001b[39m 0.3.3\n",
      "\u001b[32m✔\u001b[39m \u001b[34mtibble \u001b[39m 2.1.3     \u001b[32m✔\u001b[39m \u001b[34mdplyr  \u001b[39m 0.8.3\n",
      "\u001b[32m✔\u001b[39m \u001b[34mtidyr  \u001b[39m 1.0.0     \u001b[32m✔\u001b[39m \u001b[34mstringr\u001b[39m 1.4.0\n",
      "\u001b[32m✔\u001b[39m \u001b[34mreadr  \u001b[39m 1.3.1     \u001b[32m✔\u001b[39m \u001b[34mforcats\u001b[39m 0.4.0\n",
      "\n",
      "── \u001b[1mConflicts\u001b[22m ────────────────────────────────────────── tidyverse_conflicts() ──\n",
      "\u001b[31m✖\u001b[39m \u001b[34mdplyr\u001b[39m::\u001b[32mfilter()\u001b[39m masks \u001b[34mstats\u001b[39m::filter()\n",
      "\u001b[31m✖\u001b[39m \u001b[34mdplyr\u001b[39m::\u001b[32mlag()\u001b[39m    masks \u001b[34mstats\u001b[39m::lag()\n",
      "\n",
      "Loading required package: Matrix\n",
      "\n",
      "\n",
      "Attaching package: ‘Matrix’\n",
      "\n",
      "\n",
      "The following objects are masked from ‘package:tidyr’:\n",
      "\n",
      "    expand, pack, unpack\n",
      "\n",
      "\n"
     ]
    }
   ],
   "source": [
    "## Initial setting\n",
    "set.seed(15)\n",
    "library(tidyverse)\n",
    "library(lfe) # For OLS\n",
    "\n",
    "## Download data\n",
    "df <- read.table(\"https://raw.github.com/DongheeJo/causal-analysis-netsi/master/data/HidingBox/data.txt\",\n",
    "    sep=\"\\t\",header=TRUE)\n",
    "\n",
    "## Sort by gender\n",
    "df <- df[order(df$gender,df$id),]\n",
    "rownames(df) <- 1:nrow(df)\n",
    "\n",
    "## In order to avoid dealing with missing data, let's plug in age = 6 for NA\n",
    "# (of course in real research you can't do this)\n",
    "df[8,'age']<-6"
   ]
  },
  {
   "cell_type": "markdown",
   "metadata": {},
   "source": [
    "**1) Let's first calculate Fisher's exact p-value**"
   ]
  },
  {
   "cell_type": "code",
   "execution_count": 2,
   "metadata": {},
   "outputs": [],
   "source": [
    "## Calculate (quite intiutive) test statistic of choice: weighted average of T_dif for males and females\n",
    "# Some discussion can be found in Section 9.3 of Imbens and Rubin\n",
    "df_grp <- df %>% add_count(gender) %>% group_by(gender, treat) %>%\n",
    "    summarize(stress12 = mean(stress12), weight12 = mean(weight12), count = mean(n)) %>%\n",
    "    arrange(desc(gender), desc(treat))\n",
    "# df_grp[1,]: gender 1 treat 1\n",
    "# df_grp[2,]: gender 1 treat 0\n",
    "# df_grp[3,]: gender 0 treat 1\n",
    "# df_grp[4,]: gender 0 treat 0\n",
    "T_stress <- abs(\n",
    "    df_grp[1,'count']*(df_grp[1,'stress12']-df_grp[2,'stress12']) +\n",
    "    df_grp[3,'count']*(df_grp[3,'stress12']-df_grp[4,'stress12'])\n",
    "    ) %>% pull()\n",
    "T_weight <- abs(\n",
    "    df_grp[1,'count']*(df_grp[1,'weight12']-df_grp[2,'weight12']) +\n",
    "    df_grp[3,'count']*(df_grp[3,'weight12']-df_grp[4,'weight12'])\n",
    "    ) %>% pull()"
   ]
  },
  {
   "cell_type": "code",
   "execution_count": 3,
   "metadata": {},
   "outputs": [
    {
     "data": {
      "text/html": [
       "7.50396560583334"
      ],
      "text/latex": [
       "7.50396560583334"
      ],
      "text/markdown": [
       "7.50396560583334"
      ],
      "text/plain": [
       "[1] 7.503966"
      ]
     },
     "metadata": {},
     "output_type": "display_data"
    }
   ],
   "source": [
    "T_stress"
   ]
  },
  {
   "cell_type": "code",
   "execution_count": 4,
   "metadata": {},
   "outputs": [
    {
     "data": {
      "text/html": [
       "35.6811227584333"
      ],
      "text/latex": [
       "35.6811227584333"
      ],
      "text/markdown": [
       "35.6811227584333"
      ],
      "text/plain": [
       "[1] 35.68112"
      ]
     },
     "metadata": {},
     "output_type": "display_data"
    }
   ],
   "source": [
    "T_weight"
   ]
  },
  {
   "cell_type": "code",
   "execution_count": 5,
   "metadata": {},
   "outputs": [
    {
     "data": {
      "text/html": [
       "426888"
      ],
      "text/latex": [
       "426888"
      ],
      "text/markdown": [
       "426888"
      ],
      "text/plain": [
       "[1] 426888"
      ]
     },
     "metadata": {},
     "output_type": "display_data"
    }
   ],
   "source": [
    "## For complete test, how many re-randomization do we need?\n",
    "num_m <- table(df$gender)[[\"0\"]][1]\n",
    "num_f <- table(df$gender)[[\"1\"]][1]\n",
    "choose(num_f,6)*choose(num_m,6)"
   ]
  },
  {
   "cell_type": "code",
   "execution_count": 6,
   "metadata": {},
   "outputs": [],
   "source": [
    "perm_mat <- function(n, m) {\n",
    "  indices <- expand.grid(replicate(m, 1:n ,simplify=FALSE))\n",
    "  invalid_order <- apply(indices, 1, function(x) is.unsorted(x, strictly = TRUE))\n",
    "  invalid_order_rev <- apply(indices, 1, function(x) is.unsorted(x, strictly = TRUE))\n",
    "  indices <- indices[!(invalid_order | invalid_order_rev),]\n",
    "  return(indices)\n",
    "}\n",
    "\n",
    "m_indices <- perm_mat(num_m, 6)\n",
    "f_indices <- num_m + perm_mat(num_f, 6)\n",
    "\n",
    "treated_indices <- merge(m_indices, f_indices, by=NULL)"
   ]
  },
  {
   "cell_type": "code",
   "execution_count": 7,
   "metadata": {},
   "outputs": [
    {
     "data": {
      "text/html": [
       "<ol class=list-inline>\n",
       "\t<li>426888</li>\n",
       "\t<li>12</li>\n",
       "</ol>\n"
      ],
      "text/latex": [
       "\\begin{enumerate*}\n",
       "\\item 426888\n",
       "\\item 12\n",
       "\\end{enumerate*}\n"
      ],
      "text/markdown": [
       "1. 426888\n",
       "2. 12\n",
       "\n",
       "\n"
      ],
      "text/plain": [
       "[1] 426888     12"
      ]
     },
     "metadata": {},
     "output_type": "display_data"
    }
   ],
   "source": [
    "dim(treated_indices)"
   ]
  },
  {
   "cell_type": "code",
   "execution_count": 8,
   "metadata": {},
   "outputs": [],
   "source": [
    "## Instead, let's re-randomize num_sim times and get distribution of T_dif\n",
    "#num_sim = 10000\n",
    "n_permute <- dim(treated_indices)[1]\n",
    "\n",
    "sim_T <- as.data.frame(matrix(0, ncol = 2, nrow = n_permute))\n",
    "\n",
    "for (s in 1:n_permute) {\n",
    "    sim_df <- df\n",
    "\n",
    "    sim_df$treat <- 0\n",
    "    sim_df$treat[as.integer(treated_indices[s,])] <- 1\n",
    "    sim_df_grp <- sim_df %>% add_count(gender) %>% group_by(gender, treat) %>%\n",
    "        summarize(stress12 = mean(stress12), weight12 = mean(weight12), count = mean(n)) %>%\n",
    "        arrange(desc(gender), desc(treat))\n",
    "    sim_T$T_stress[s] <- abs(\n",
    "        sim_df_grp[1,'count']*(sim_df_grp[1,'stress12']-sim_df_grp[2,'stress12']) +\n",
    "        sim_df_grp[3,'count']*(sim_df_grp[3,'stress12']-sim_df_grp[4,'stress12'])\n",
    "        ) %>% pull()\n",
    "    sim_T$T_weight[s] <- abs(\n",
    "        sim_df_grp[1,'count']*(sim_df_grp[1,'weight12']-sim_df_grp[2,'weight12']) +\n",
    "        sim_df_grp[3,'count']*(sim_df_grp[3,'weight12']-sim_df_grp[4,'weight12'])\n",
    "        ) %>% pull()\n",
    "}"
   ]
  },
  {
   "cell_type": "code",
   "execution_count": null,
   "metadata": {},
   "outputs": [],
   "source": []
  },
  {
   "cell_type": "code",
   "execution_count": 9,
   "metadata": {},
   "outputs": [
    {
     "name": "stdout",
     "output_type": "stream",
     "text": [
      "[1] \"P-value for stress:  0.00128605161072694\"\n"
     ]
    },
    {
     "data": {
      "image/png": "[encoded data removed]",
      "text/plain": [
       "plot without title"
      ]
     },
     "metadata": {
      "image/png": {
       "height": 420,
       "width": 420
      },
      "text/plain": {
       "height": 420,
       "width": 420
      }
     },
     "output_type": "display_data"
    },
    {
     "name": "stdout",
     "output_type": "stream",
     "text": [
      "[1] \"P-value for weight:  0.414474054084444\"\n"
     ]
    },
    {
     "data": {
      "image/png": "[encoded data removed]",
      "text/plain": [
       "plot without title"
      ]
     },
     "metadata": {
      "image/png": {
       "height": 420,
       "width": 420
      },
      "text/plain": {
       "height": 420,
       "width": 420
      }
     },
     "output_type": "display_data"
    }
   ],
   "source": [
    "## Draw randomization distribution of our test statistics and calculate p_value.\n",
    "\n",
    "# 1. Stress\n",
    "ggplot(data=sim_T) +\n",
    "    geom_histogram(mapping=aes(x=T_stress), boundary=0, binwidth=0.5) +\n",
    "    geom_vline(xintercept=T_stress, color=\"red\") +\n",
    "    ggtitle(\"Randomization distribution for stress difference\")\n",
    "p_stress <- sum(sim_T$T_stress >= T_stress)/n_permute\n",
    "print(paste(\"P-value for stress: \",p_stress))\n",
    "\n",
    "# 2. weight\n",
    "ggplot(data=sim_T) +\n",
    "    geom_histogram(mapping=aes(x=T_weight), boundary=0, binwidth=5) +\n",
    "    geom_vline(xintercept=T_weight, color=\"red\") +\n",
    "    ggtitle(\"Randomization distribution for weight difference\")\n",
    "p_weight <- sum(sim_T$T_weight >= T_weight)/n_permute\n",
    "print(paste(\"P-value for weight: \",p_weight))"
   ]
  },
  {
   "cell_type": "markdown",
   "metadata": {},
   "source": [
    "**2) How to take into account covariates?**\n",
    "\n",
    "We can choose regression coefficient (with all the pre-experiment covariates as controls) as our test statistic."
   ]
  },
  {
   "cell_type": "code",
   "execution_count": 10,
   "metadata": {},
   "outputs": [],
   "source": [
    "## Instead, let's re-randomize num_sim times and get distribution of T_dif\n",
    "#num_sim = 10000\n",
    "n_permute <- dim(treated_indices)[1]\n",
    "\n",
    "sim_T <- as.data.frame(matrix(0, ncol = 2, nrow = n_permute))\n",
    "\n",
    "\n",
    "for (s in 1:n_permute) {\n",
    "    sim_df <- df\n",
    "\n",
    "    sim_df$treat <- 0\n",
    "    sim_df$treat[as.integer(treated_indices[s,])] <- 1\n",
    "    sim_T$T_stress[s] <- coef(summary(felm(stress12 ~ treat + age | gender, data=sim_df)))[\"treat\",1]\n",
    "    sim_T$T_weight[s] <- coef(summary(felm(weight12 ~ treat + age | gender, data=sim_df)))[\"treat\",1]\n",
    "}"
   ]
  },
  {
   "cell_type": "code",
   "execution_count": 11,
   "metadata": {},
   "outputs": [
    {
     "name": "stdout",
     "output_type": "stream",
     "text": [
      "[1] \"P-value for stress:  0.000632484398718165\"\n"
     ]
    },
    {
     "data": {
      "image/png": "[encoded data removed]",
      "text/plain": [
       "plot without title"
      ]
     },
     "metadata": {
      "image/png": {
       "height": 420,
       "width": 420
      },
      "text/plain": {
       "height": 420,
       "width": 420
      }
     },
     "output_type": "display_data"
    },
    {
     "name": "stdout",
     "output_type": "stream",
     "text": [
      "[1] \"P-value for weight:  0.212336725323738\"\n"
     ]
    },
    {
     "data": {
      "image/png": "[encoded data removed]",
      "text/plain": [
       "plot without title"
      ]
     },
     "metadata": {
      "image/png": {
       "height": 420,
       "width": 420
      },
      "text/plain": {
       "height": 420,
       "width": 420
      }
     },
     "output_type": "display_data"
    }
   ],
   "source": [
    "## Draw randomization distribution of our test statistics and calculate p_value.\n",
    "\n",
    "# 1. Stress\n",
    "T_stress <- coef(summary(felm(stress12 ~ treat + age | gender, data=df)))[\"treat\",1]\n",
    "ggplot(data=sim_T) +\n",
    "    geom_histogram(mapping=aes(x=T_stress), boundary=0, binwidth=0.01) +\n",
    "    geom_vline(xintercept=T_stress, color=\"red\") +\n",
    "    geom_vline(xintercept=-T_stress, color=\"red\") +\n",
    "    ggtitle(\"Randomization distribution for coefficient in stress regression\")\n",
    "p_stress <- sum(abs(sim_T$T_stress) >= abs(T_stress))/n_permute\n",
    "print(paste(\"P-value for stress: \",p_stress))\n",
    "\n",
    "# 2. weight\n",
    "T_weight <- coef(summary(felm(weight12 ~ treat + age | gender, data=df)))[\"treat\",1]\n",
    "ggplot(data=sim_T) +\n",
    "    geom_histogram(mapping=aes(x=T_weight), boundary=0, binwidth=0.1) +\n",
    "    geom_vline(xintercept=T_weight, color=\"red\") +\n",
    "    geom_vline(xintercept=-T_weight, color=\"red\") +\n",
    "    ggtitle(\"Randomization distribution for coefficient in weight regression\")\n",
    "p_weight <- sum(abs(sim_T$T_weight) >= abs(T_weight))/n_permute\n",
    "print(paste(\"P-value for weight: \",p_weight))"
   ]
  },
  {
   "cell_type": "markdown",
   "metadata": {},
   "source": [
    "**3) Constructing confidence interval**"
   ]
  },
  {
   "cell_type": "code",
   "execution_count": 12,
   "metadata": {},
   "outputs": [
    {
     "name": "stdout",
     "output_type": "stream",
     "text": [
      "[1] \"Finished simulation 100\"\n"
     ]
    }
   ],
   "source": [
    "## Stress: what is the minimum/maximum uniform treatment effect C that we stop\n",
    "#   rejecting the null of tau_i = C for all i at 95% confidence interval?\n",
    "stress_C <- seq(from=-1,to=0,by=0.025)\n",
    "weight_C <- seq(from=-3,to=7,by=0.25)\n",
    "num_sim = 100\n",
    "cnames <- c()\n",
    "sim_T <- as.data.frame(matrix(0, ncol = 2*length(stress_C), nrow = num_sim))\n",
    "for (cnum in 1:length(stress_C)) {\n",
    "    cnames <- c(cnames,paste(\"T_stress_s\",cnum,sep=\"\"))\n",
    "    cnames <- c(cnames,paste(\"T_weight_s\",cnum,sep=\"\"))\n",
    "}\n",
    "names(sim_T) <- cnames\n",
    "\n",
    "for (s in 1:num_sim) {\n",
    "    \n",
    "    # re-randomize\n",
    "    a <- sample(1:num_m, 6)\n",
    "    b <- sample((num_m+1):(num_m+num_f),6)\n",
    "    df$sim_treat <- 0\n",
    "    df$sim_treat[c(a,b)] <- 1\n",
    "    \n",
    "    for (cnum in 1:length(stress_C)) {\n",
    "        # calculate imputed value of Y_i[0]\n",
    "        c_stress <- stress_C[cnum]\n",
    "        c_weight <- weight_C[cnum]\n",
    "        df$stress12_s <- df$stress12\n",
    "        df$weight12_s <- df$weight12\n",
    "        df[(df$treat==1)&(df$sim_treat==0),\"stress12_s\"] <- df[(df$treat==1)&(df$sim_treat==0),\"stress12\"] - c_stress\n",
    "        df[(df$treat==0)&(df$sim_treat==1),\"stress12_s\"] <- df[(df$treat==0)&(df$sim_treat==1),\"stress12\"] + c_stress\n",
    "        df[(df$treat==1)&(df$sim_treat==0),\"weight12_s\"] <- df[(df$treat==1)&(df$sim_treat==0),\"weight12\"] - c_weight\n",
    "        df[(df$treat==0)&(df$sim_treat==1),\"weight12_s\"] <- df[(df$treat==0)&(df$sim_treat==1),\"weight12\"] + c_weight\n",
    "        # Run regressions\n",
    "        sim_T[s,paste(\"T_stress_s\",cnum,sep=\"\")] <- coef(summary(felm(stress12_s ~ sim_treat + age | gender, data=df)))[\"sim_treat\",1]\n",
    "        sim_T[s,paste(\"T_weight_s\",cnum,sep=\"\")] <- coef(summary(felm(weight12_s ~ sim_treat + age | gender, data=df)))[\"sim_treat\",1]\n",
    "    }\n",
    "    \n",
    "    # Monitoring (doesn't work right now; reported after everything is finished)\n",
    "    if (s%%100 == 0) {\n",
    "        print(paste(\"Finished simulation\",s))\n",
    "    }\n",
    "}"
   ]
  },
  {
   "cell_type": "code",
   "execution_count": 13,
   "metadata": {},
   "outputs": [
    {
     "data": {
      "text/html": [
       "0"
      ],
      "text/latex": [
       "0"
      ],
      "text/markdown": [
       "0"
      ],
      "text/plain": [
       "[1] 0"
      ]
     },
     "metadata": {},
     "output_type": "display_data"
    },
    {
     "data": {
      "text/html": [
       "0"
      ],
      "text/latex": [
       "0"
      ],
      "text/markdown": [
       "0"
      ],
      "text/plain": [
       "[1] 0"
      ]
     },
     "metadata": {},
     "output_type": "display_data"
    },
    {
     "data": {
      "text/html": [
       "0"
      ],
      "text/latex": [
       "0"
      ],
      "text/markdown": [
       "0"
      ],
      "text/plain": [
       "[1] 0"
      ]
     },
     "metadata": {},
     "output_type": "display_data"
    },
    {
     "data": {
      "text/html": [
       "0.28"
      ],
      "text/latex": [
       "0.28"
      ],
      "text/markdown": [
       "0.28"
      ],
      "text/plain": [
       "[1] 0.28"
      ]
     },
     "metadata": {},
     "output_type": "display_data"
    }
   ],
   "source": [
    "## first check whether the p-value for C=0 is similar to what we found above.\n",
    "# Note that we calculate p-value and confidence interval in the same simulation.\n",
    "stress_C[41]\n",
    "weight_C[13]\n",
    "sum(abs(sim_T$T_stress_s41) >= abs(T_stress))/num_sim\n",
    "sum(abs(sim_T$T_weight_s13) >= abs(T_weight))/num_sim"
   ]
  },
  {
   "cell_type": "code",
   "execution_count": 14,
   "metadata": {},
   "outputs": [
    {
     "data": {
      "text/html": [
       "<table>\n",
       "<caption>A data.frame: 41 × 6</caption>\n",
       "<thead>\n",
       "\t<tr><th scope=col>C_stress</th><th scope=col>pval_stress</th><th scope=col>CI_stress_95</th><th scope=col>C_weight</th><th scope=col>pval_weight</th><th scope=col>CI_weight_95</th></tr>\n",
       "\t<tr><th scope=col>&lt;dbl&gt;</th><th scope=col>&lt;dbl&gt;</th><th scope=col>&lt;lgl&gt;</th><th scope=col>&lt;dbl&gt;</th><th scope=col>&lt;dbl&gt;</th><th scope=col>&lt;lgl&gt;</th></tr>\n",
       "</thead>\n",
       "<tbody>\n",
       "\t<tr><td>-1.000</td><td>0.00</td><td>FALSE</td><td>-3.00</td><td>0.01</td><td>FALSE</td></tr>\n",
       "\t<tr><td>-0.975</td><td>0.00</td><td>FALSE</td><td>-2.75</td><td>0.02</td><td>FALSE</td></tr>\n",
       "\t<tr><td>-0.950</td><td>0.00</td><td>FALSE</td><td>-2.50</td><td>0.03</td><td>FALSE</td></tr>\n",
       "\t<tr><td>-0.925</td><td>0.00</td><td>FALSE</td><td>-2.25</td><td>0.03</td><td>FALSE</td></tr>\n",
       "\t<tr><td>-0.900</td><td>0.00</td><td>FALSE</td><td>-2.00</td><td>0.04</td><td>FALSE</td></tr>\n",
       "\t<tr><td>-0.875</td><td>0.00</td><td>FALSE</td><td>-1.75</td><td>0.04</td><td>FALSE</td></tr>\n",
       "\t<tr><td>-0.850</td><td>0.00</td><td>FALSE</td><td>-1.50</td><td>0.05</td><td> TRUE</td></tr>\n",
       "\t<tr><td>-0.825</td><td>0.00</td><td>FALSE</td><td>-1.25</td><td>0.06</td><td> TRUE</td></tr>\n",
       "\t<tr><td>-0.800</td><td>0.00</td><td>FALSE</td><td>-1.00</td><td>0.08</td><td> TRUE</td></tr>\n",
       "\t<tr><td>-0.775</td><td>0.01</td><td>FALSE</td><td>-0.75</td><td>0.14</td><td> TRUE</td></tr>\n",
       "\t<tr><td>-0.750</td><td>0.01</td><td>FALSE</td><td>-0.50</td><td>0.14</td><td> TRUE</td></tr>\n",
       "\t<tr><td>-0.725</td><td>0.01</td><td>FALSE</td><td>-0.25</td><td>0.19</td><td> TRUE</td></tr>\n",
       "\t<tr><td>-0.700</td><td>0.01</td><td>FALSE</td><td> 0.00</td><td>0.28</td><td> TRUE</td></tr>\n",
       "\t<tr><td>-0.675</td><td>0.02</td><td>FALSE</td><td> 0.25</td><td>0.31</td><td> TRUE</td></tr>\n",
       "\t<tr><td>-0.650</td><td>0.02</td><td>FALSE</td><td> 0.50</td><td>0.36</td><td> TRUE</td></tr>\n",
       "\t<tr><td>-0.625</td><td>0.02</td><td>FALSE</td><td> 0.75</td><td>0.38</td><td> TRUE</td></tr>\n",
       "\t<tr><td>-0.600</td><td>0.02</td><td>FALSE</td><td> 1.00</td><td>0.44</td><td> TRUE</td></tr>\n",
       "\t<tr><td>-0.575</td><td>0.05</td><td> TRUE</td><td> 1.25</td><td>0.53</td><td> TRUE</td></tr>\n",
       "\t<tr><td>-0.550</td><td>0.08</td><td> TRUE</td><td> 1.50</td><td>0.65</td><td> TRUE</td></tr>\n",
       "\t<tr><td>-0.525</td><td>0.13</td><td> TRUE</td><td> 1.75</td><td>0.74</td><td> TRUE</td></tr>\n",
       "\t<tr><td>-0.500</td><td>0.23</td><td> TRUE</td><td> 2.00</td><td>0.82</td><td> TRUE</td></tr>\n",
       "\t<tr><td>-0.475</td><td>0.40</td><td> TRUE</td><td> 2.25</td><td>0.91</td><td> TRUE</td></tr>\n",
       "\t<tr><td>-0.450</td><td>0.51</td><td> TRUE</td><td> 2.50</td><td>0.99</td><td> TRUE</td></tr>\n",
       "\t<tr><td>-0.425</td><td>0.64</td><td> TRUE</td><td> 2.75</td><td>0.86</td><td> TRUE</td></tr>\n",
       "\t<tr><td>-0.400</td><td>0.79</td><td> TRUE</td><td> 3.00</td><td>0.76</td><td> TRUE</td></tr>\n",
       "\t<tr><td>-0.375</td><td>0.95</td><td> TRUE</td><td> 3.25</td><td>0.64</td><td> TRUE</td></tr>\n",
       "\t<tr><td>-0.350</td><td>0.94</td><td> TRUE</td><td> 3.50</td><td>0.49</td><td> TRUE</td></tr>\n",
       "\t<tr><td>-0.325</td><td>0.78</td><td> TRUE</td><td> 3.75</td><td>0.44</td><td> TRUE</td></tr>\n",
       "\t<tr><td>-0.300</td><td>0.60</td><td> TRUE</td><td> 4.00</td><td>0.39</td><td> TRUE</td></tr>\n",
       "\t<tr><td>-0.275</td><td>0.49</td><td> TRUE</td><td> 4.25</td><td>0.31</td><td> TRUE</td></tr>\n",
       "\t<tr><td>-0.250</td><td>0.33</td><td> TRUE</td><td> 4.50</td><td>0.24</td><td> TRUE</td></tr>\n",
       "\t<tr><td>-0.225</td><td>0.28</td><td> TRUE</td><td> 4.75</td><td>0.20</td><td> TRUE</td></tr>\n",
       "\t<tr><td>-0.200</td><td>0.20</td><td> TRUE</td><td> 5.00</td><td>0.18</td><td> TRUE</td></tr>\n",
       "\t<tr><td>-0.175</td><td>0.13</td><td> TRUE</td><td> 5.25</td><td>0.15</td><td> TRUE</td></tr>\n",
       "\t<tr><td>-0.150</td><td>0.08</td><td> TRUE</td><td> 5.50</td><td>0.11</td><td> TRUE</td></tr>\n",
       "\t<tr><td>-0.125</td><td>0.05</td><td> TRUE</td><td> 5.75</td><td>0.08</td><td> TRUE</td></tr>\n",
       "\t<tr><td>-0.100</td><td>0.03</td><td>FALSE</td><td> 6.00</td><td>0.06</td><td> TRUE</td></tr>\n",
       "\t<tr><td>-0.075</td><td>0.02</td><td>FALSE</td><td> 6.25</td><td>0.06</td><td> TRUE</td></tr>\n",
       "\t<tr><td>-0.050</td><td>0.00</td><td>FALSE</td><td> 6.50</td><td>0.02</td><td>FALSE</td></tr>\n",
       "\t<tr><td>-0.025</td><td>0.00</td><td>FALSE</td><td> 6.75</td><td>0.02</td><td>FALSE</td></tr>\n",
       "\t<tr><td> 0.000</td><td>0.00</td><td>FALSE</td><td> 7.00</td><td>0.01</td><td>FALSE</td></tr>\n",
       "</tbody>\n",
       "</table>\n"
      ],
      "text/latex": [
       "A data.frame: 41 × 6\n",
       "\\begin{tabular}{llllll}\n",
       " C\\_stress & pval\\_stress & CI\\_stress\\_95 & C\\_weight & pval\\_weight & CI\\_weight\\_95\\\\\n",
       " <dbl> & <dbl> & <lgl> & <dbl> & <dbl> & <lgl>\\\\\n",
       "\\hline\n",
       "\t -1.000 & 0.00 & FALSE & -3.00 & 0.01 & FALSE\\\\\n",
       "\t -0.975 & 0.00 & FALSE & -2.75 & 0.02 & FALSE\\\\\n",
       "\t -0.950 & 0.00 & FALSE & -2.50 & 0.03 & FALSE\\\\\n",
       "\t -0.925 & 0.00 & FALSE & -2.25 & 0.03 & FALSE\\\\\n",
       "\t -0.900 & 0.00 & FALSE & -2.00 & 0.04 & FALSE\\\\\n",
       "\t -0.875 & 0.00 & FALSE & -1.75 & 0.04 & FALSE\\\\\n",
       "\t -0.850 & 0.00 & FALSE & -1.50 & 0.05 &  TRUE\\\\\n",
       "\t -0.825 & 0.00 & FALSE & -1.25 & 0.06 &  TRUE\\\\\n",
       "\t -0.800 & 0.00 & FALSE & -1.00 & 0.08 &  TRUE\\\\\n",
       "\t -0.775 & 0.01 & FALSE & -0.75 & 0.14 &  TRUE\\\\\n",
       "\t -0.750 & 0.01 & FALSE & -0.50 & 0.14 &  TRUE\\\\\n",
       "\t -0.725 & 0.01 & FALSE & -0.25 & 0.19 &  TRUE\\\\\n",
       "\t -0.700 & 0.01 & FALSE &  0.00 & 0.28 &  TRUE\\\\\n",
       "\t -0.675 & 0.02 & FALSE &  0.25 & 0.31 &  TRUE\\\\\n",
       "\t -0.650 & 0.02 & FALSE &  0.50 & 0.36 &  TRUE\\\\\n",
       "\t -0.625 & 0.02 & FALSE &  0.75 & 0.38 &  TRUE\\\\\n",
       "\t -0.600 & 0.02 & FALSE &  1.00 & 0.44 &  TRUE\\\\\n",
       "\t -0.575 & 0.05 &  TRUE &  1.25 & 0.53 &  TRUE\\\\\n",
       "\t -0.550 & 0.08 &  TRUE &  1.50 & 0.65 &  TRUE\\\\\n",
       "\t -0.525 & 0.13 &  TRUE &  1.75 & 0.74 &  TRUE\\\\\n",
       "\t -0.500 & 0.23 &  TRUE &  2.00 & 0.82 &  TRUE\\\\\n",
       "\t -0.475 & 0.40 &  TRUE &  2.25 & 0.91 &  TRUE\\\\\n",
       "\t -0.450 & 0.51 &  TRUE &  2.50 & 0.99 &  TRUE\\\\\n",
       "\t -0.425 & 0.64 &  TRUE &  2.75 & 0.86 &  TRUE\\\\\n",
       "\t -0.400 & 0.79 &  TRUE &  3.00 & 0.76 &  TRUE\\\\\n",
       "\t -0.375 & 0.95 &  TRUE &  3.25 & 0.64 &  TRUE\\\\\n",
       "\t -0.350 & 0.94 &  TRUE &  3.50 & 0.49 &  TRUE\\\\\n",
       "\t -0.325 & 0.78 &  TRUE &  3.75 & 0.44 &  TRUE\\\\\n",
       "\t -0.300 & 0.60 &  TRUE &  4.00 & 0.39 &  TRUE\\\\\n",
       "\t -0.275 & 0.49 &  TRUE &  4.25 & 0.31 &  TRUE\\\\\n",
       "\t -0.250 & 0.33 &  TRUE &  4.50 & 0.24 &  TRUE\\\\\n",
       "\t -0.225 & 0.28 &  TRUE &  4.75 & 0.20 &  TRUE\\\\\n",
       "\t -0.200 & 0.20 &  TRUE &  5.00 & 0.18 &  TRUE\\\\\n",
       "\t -0.175 & 0.13 &  TRUE &  5.25 & 0.15 &  TRUE\\\\\n",
       "\t -0.150 & 0.08 &  TRUE &  5.50 & 0.11 &  TRUE\\\\\n",
       "\t -0.125 & 0.05 &  TRUE &  5.75 & 0.08 &  TRUE\\\\\n",
       "\t -0.100 & 0.03 & FALSE &  6.00 & 0.06 &  TRUE\\\\\n",
       "\t -0.075 & 0.02 & FALSE &  6.25 & 0.06 &  TRUE\\\\\n",
       "\t -0.050 & 0.00 & FALSE &  6.50 & 0.02 & FALSE\\\\\n",
       "\t -0.025 & 0.00 & FALSE &  6.75 & 0.02 & FALSE\\\\\n",
       "\t  0.000 & 0.00 & FALSE &  7.00 & 0.01 & FALSE\\\\\n",
       "\\end{tabular}\n"
      ],
      "text/markdown": [
       "\n",
       "A data.frame: 41 × 6\n",
       "\n",
       "| C_stress &lt;dbl&gt; | pval_stress &lt;dbl&gt; | CI_stress_95 &lt;lgl&gt; | C_weight &lt;dbl&gt; | pval_weight &lt;dbl&gt; | CI_weight_95 &lt;lgl&gt; |\n",
       "|---|---|---|---|---|---|\n",
       "| -1.000 | 0.00 | FALSE | -3.00 | 0.01 | FALSE |\n",
       "| -0.975 | 0.00 | FALSE | -2.75 | 0.02 | FALSE |\n",
       "| -0.950 | 0.00 | FALSE | -2.50 | 0.03 | FALSE |\n",
       "| -0.925 | 0.00 | FALSE | -2.25 | 0.03 | FALSE |\n",
       "| -0.900 | 0.00 | FALSE | -2.00 | 0.04 | FALSE |\n",
       "| -0.875 | 0.00 | FALSE | -1.75 | 0.04 | FALSE |\n",
       "| -0.850 | 0.00 | FALSE | -1.50 | 0.05 |  TRUE |\n",
       "| -0.825 | 0.00 | FALSE | -1.25 | 0.06 |  TRUE |\n",
       "| -0.800 | 0.00 | FALSE | -1.00 | 0.08 |  TRUE |\n",
       "| -0.775 | 0.01 | FALSE | -0.75 | 0.14 |  TRUE |\n",
       "| -0.750 | 0.01 | FALSE | -0.50 | 0.14 |  TRUE |\n",
       "| -0.725 | 0.01 | FALSE | -0.25 | 0.19 |  TRUE |\n",
       "| -0.700 | 0.01 | FALSE |  0.00 | 0.28 |  TRUE |\n",
       "| -0.675 | 0.02 | FALSE |  0.25 | 0.31 |  TRUE |\n",
       "| -0.650 | 0.02 | FALSE |  0.50 | 0.36 |  TRUE |\n",
       "| -0.625 | 0.02 | FALSE |  0.75 | 0.38 |  TRUE |\n",
       "| -0.600 | 0.02 | FALSE |  1.00 | 0.44 |  TRUE |\n",
       "| -0.575 | 0.05 |  TRUE |  1.25 | 0.53 |  TRUE |\n",
       "| -0.550 | 0.08 |  TRUE |  1.50 | 0.65 |  TRUE |\n",
       "| -0.525 | 0.13 |  TRUE |  1.75 | 0.74 |  TRUE |\n",
       "| -0.500 | 0.23 |  TRUE |  2.00 | 0.82 |  TRUE |\n",
       "| -0.475 | 0.40 |  TRUE |  2.25 | 0.91 |  TRUE |\n",
       "| -0.450 | 0.51 |  TRUE |  2.50 | 0.99 |  TRUE |\n",
       "| -0.425 | 0.64 |  TRUE |  2.75 | 0.86 |  TRUE |\n",
       "| -0.400 | 0.79 |  TRUE |  3.00 | 0.76 |  TRUE |\n",
       "| -0.375 | 0.95 |  TRUE |  3.25 | 0.64 |  TRUE |\n",
       "| -0.350 | 0.94 |  TRUE |  3.50 | 0.49 |  TRUE |\n",
       "| -0.325 | 0.78 |  TRUE |  3.75 | 0.44 |  TRUE |\n",
       "| -0.300 | 0.60 |  TRUE |  4.00 | 0.39 |  TRUE |\n",
       "| -0.275 | 0.49 |  TRUE |  4.25 | 0.31 |  TRUE |\n",
       "| -0.250 | 0.33 |  TRUE |  4.50 | 0.24 |  TRUE |\n",
       "| -0.225 | 0.28 |  TRUE |  4.75 | 0.20 |  TRUE |\n",
       "| -0.200 | 0.20 |  TRUE |  5.00 | 0.18 |  TRUE |\n",
       "| -0.175 | 0.13 |  TRUE |  5.25 | 0.15 |  TRUE |\n",
       "| -0.150 | 0.08 |  TRUE |  5.50 | 0.11 |  TRUE |\n",
       "| -0.125 | 0.05 |  TRUE |  5.75 | 0.08 |  TRUE |\n",
       "| -0.100 | 0.03 | FALSE |  6.00 | 0.06 |  TRUE |\n",
       "| -0.075 | 0.02 | FALSE |  6.25 | 0.06 |  TRUE |\n",
       "| -0.050 | 0.00 | FALSE |  6.50 | 0.02 | FALSE |\n",
       "| -0.025 | 0.00 | FALSE |  6.75 | 0.02 | FALSE |\n",
       "|  0.000 | 0.00 | FALSE |  7.00 | 0.01 | FALSE |\n",
       "\n"
      ],
      "text/plain": [
       "   C_stress pval_stress CI_stress_95 C_weight pval_weight CI_weight_95\n",
       "1  -1.000   0.00        FALSE        -3.00    0.01        FALSE       \n",
       "2  -0.975   0.00        FALSE        -2.75    0.02        FALSE       \n",
       "3  -0.950   0.00        FALSE        -2.50    0.03        FALSE       \n",
       "4  -0.925   0.00        FALSE        -2.25    0.03        FALSE       \n",
       "5  -0.900   0.00        FALSE        -2.00    0.04        FALSE       \n",
       "6  -0.875   0.00        FALSE        -1.75    0.04        FALSE       \n",
       "7  -0.850   0.00        FALSE        -1.50    0.05         TRUE       \n",
       "8  -0.825   0.00        FALSE        -1.25    0.06         TRUE       \n",
       "9  -0.800   0.00        FALSE        -1.00    0.08         TRUE       \n",
       "10 -0.775   0.01        FALSE        -0.75    0.14         TRUE       \n",
       "11 -0.750   0.01        FALSE        -0.50    0.14         TRUE       \n",
       "12 -0.725   0.01        FALSE        -0.25    0.19         TRUE       \n",
       "13 -0.700   0.01        FALSE         0.00    0.28         TRUE       \n",
       "14 -0.675   0.02        FALSE         0.25    0.31         TRUE       \n",
       "15 -0.650   0.02        FALSE         0.50    0.36         TRUE       \n",
       "16 -0.625   0.02        FALSE         0.75    0.38         TRUE       \n",
       "17 -0.600   0.02        FALSE         1.00    0.44         TRUE       \n",
       "18 -0.575   0.05         TRUE         1.25    0.53         TRUE       \n",
       "19 -0.550   0.08         TRUE         1.50    0.65         TRUE       \n",
       "20 -0.525   0.13         TRUE         1.75    0.74         TRUE       \n",
       "21 -0.500   0.23         TRUE         2.00    0.82         TRUE       \n",
       "22 -0.475   0.40         TRUE         2.25    0.91         TRUE       \n",
       "23 -0.450   0.51         TRUE         2.50    0.99         TRUE       \n",
       "24 -0.425   0.64         TRUE         2.75    0.86         TRUE       \n",
       "25 -0.400   0.79         TRUE         3.00    0.76         TRUE       \n",
       "26 -0.375   0.95         TRUE         3.25    0.64         TRUE       \n",
       "27 -0.350   0.94         TRUE         3.50    0.49         TRUE       \n",
       "28 -0.325   0.78         TRUE         3.75    0.44         TRUE       \n",
       "29 -0.300   0.60         TRUE         4.00    0.39         TRUE       \n",
       "30 -0.275   0.49         TRUE         4.25    0.31         TRUE       \n",
       "31 -0.250   0.33         TRUE         4.50    0.24         TRUE       \n",
       "32 -0.225   0.28         TRUE         4.75    0.20         TRUE       \n",
       "33 -0.200   0.20         TRUE         5.00    0.18         TRUE       \n",
       "34 -0.175   0.13         TRUE         5.25    0.15         TRUE       \n",
       "35 -0.150   0.08         TRUE         5.50    0.11         TRUE       \n",
       "36 -0.125   0.05         TRUE         5.75    0.08         TRUE       \n",
       "37 -0.100   0.03        FALSE         6.00    0.06         TRUE       \n",
       "38 -0.075   0.02        FALSE         6.25    0.06         TRUE       \n",
       "39 -0.050   0.00        FALSE         6.50    0.02        FALSE       \n",
       "40 -0.025   0.00        FALSE         6.75    0.02        FALSE       \n",
       "41  0.000   0.00        FALSE         7.00    0.01        FALSE       "
      ]
     },
     "metadata": {},
     "output_type": "display_data"
    }
   ],
   "source": [
    "## Summarize simulated statistics for each C and create confidence interval\n",
    "pvals <- as.data.frame(matrix(0, ncol = 6, nrow = length(stress_C)))\n",
    "names(pvals) <- c(\"C_stress\",\"pval_stress\",\"CI_stress_95\",\"C_weight\",\"pval_weight\",\"CI_weight_95\")\n",
    "for (cnum in 1:length(stress_C)) {\n",
    "    pvals[cnum,'C_stress'] <- stress_C[cnum]\n",
    "    pvals[cnum,'pval_stress'] <- sum(abs(sim_T[paste(\"T_stress_s\",cnum,sep=\"\")]-stress_C[cnum]) \n",
    "                                     >= abs(T_stress-stress_C[cnum]))/num_sim\n",
    "    pvals[cnum,'C_weight'] <- weight_C[cnum]\n",
    "    pvals[cnum,'pval_weight'] <- sum(abs(sim_T[paste(\"T_weight_s\",cnum,sep=\"\")]-weight_C[cnum]) \n",
    "                                     >= abs(T_weight-weight_C[cnum]))/num_sim\n",
    "\n",
    "}\n",
    "pvals$CI_stress_95 <- (pvals$pval_stress >= 0.05)\n",
    "pvals$CI_weight_95 <- (pvals$pval_weight >= 0.05)\n",
    "pvals\n",
    "# Note: to be conservative, add one more top and bottom."
   ]
  },
  {
   "cell_type": "code",
   "execution_count": 15,
   "metadata": {},
   "outputs": [
    {
     "data": {
      "text/html": [
       "<table>\n",
       "<caption>A matrix: 1 × 2 of type dbl</caption>\n",
       "<thead>\n",
       "\t<tr><th></th><th scope=col>2.5 %</th><th scope=col>97.5 %</th></tr>\n",
       "</thead>\n",
       "<tbody>\n",
       "\t<tr><th scope=row>treat</th><td>-0.6135744</td><td>-0.1108078</td></tr>\n",
       "</tbody>\n",
       "</table>\n"
      ],
      "text/latex": [
       "A matrix: 1 × 2 of type dbl\n",
       "\\begin{tabular}{r|ll}\n",
       "  & 2.5 \\% & 97.5 \\%\\\\\n",
       "\\hline\n",
       "\ttreat & -0.6135744 & -0.1108078\\\\\n",
       "\\end{tabular}\n"
      ],
      "text/markdown": [
       "\n",
       "A matrix: 1 × 2 of type dbl\n",
       "\n",
       "| <!--/--> | 2.5 % | 97.5 % |\n",
       "|---|---|---|\n",
       "| treat | -0.6135744 | -0.1108078 |\n",
       "\n"
      ],
      "text/plain": [
       "      2.5 %      97.5 %    \n",
       "treat -0.6135744 -0.1108078"
      ]
     },
     "metadata": {},
     "output_type": "display_data"
    },
    {
     "data": {
      "text/html": [
       "<table>\n",
       "<caption>A matrix: 1 × 2 of type dbl</caption>\n",
       "<thead>\n",
       "\t<tr><th></th><th scope=col>2.5 %</th><th scope=col>97.5 %</th></tr>\n",
       "</thead>\n",
       "<tbody>\n",
       "\t<tr><th scope=row>treat</th><td>-1.638132</td><td>6.468515</td></tr>\n",
       "</tbody>\n",
       "</table>\n"
      ],
      "text/latex": [
       "A matrix: 1 × 2 of type dbl\n",
       "\\begin{tabular}{r|ll}\n",
       "  & 2.5 \\% & 97.5 \\%\\\\\n",
       "\\hline\n",
       "\ttreat & -1.638132 & 6.468515\\\\\n",
       "\\end{tabular}\n"
      ],
      "text/markdown": [
       "\n",
       "A matrix: 1 × 2 of type dbl\n",
       "\n",
       "| <!--/--> | 2.5 % | 97.5 % |\n",
       "|---|---|---|\n",
       "| treat | -1.638132 | 6.468515 |\n",
       "\n"
      ],
      "text/plain": [
       "      2.5 %     97.5 %  \n",
       "treat -1.638132 6.468515"
      ]
     },
     "metadata": {},
     "output_type": "display_data"
    }
   ],
   "source": [
    "## Compare with regression confidence interval\n",
    "st <- felm(stress12 ~ treat + age | gender, data=df)\n",
    "wt <- felm(weight12 ~ treat + age | gender, data=df)\n",
    "confint(st, \"treat\")\n",
    "confint(wt, \"treat\")"
   ]
  },
  {
   "cell_type": "code",
   "execution_count": null,
   "metadata": {},
   "outputs": [],
   "source": []
  },
  {
   "cell_type": "markdown",
   "metadata": {},
   "source": [
    "## Re-doing the analysis (sans CIs) using `ri2`"
   ]
  },
  {
   "cell_type": "code",
   "execution_count": 16,
   "metadata": {},
   "outputs": [
    {
     "name": "stderr",
     "output_type": "stream",
     "text": [
      "Loading required package: randomizr\n",
      "\n",
      "Loading required package: estimatr\n",
      "\n"
     ]
    }
   ],
   "source": [
    "## Initial setting\n",
    "set.seed(15)\n",
    "library(tidyverse)\n",
    "library(ri2)\n",
    "\n",
    "## Download data\n",
    "df <- read.table(\"https://raw.github.com/DongheeJo/causal-analysis-netsi/master/data/HidingBox/data.txt\",\n",
    "                 sep=\"\\t\",header=TRUE)\n",
    "\n",
    "## Sort by gender\n",
    "df <- df[order(df$gender,df$id),]\n",
    "rownames(df) <- 1:nrow(df)\n",
    "\n",
    "## In order to avoid dealing with missing data, let's plug in age = 6 for NA\n",
    "# (of course in real research you can't do this)\n",
    "df[8,'age']<-6"
   ]
  },
  {
   "cell_type": "code",
   "execution_count": 17,
   "metadata": {},
   "outputs": [
    {
     "data": {
      "text/plain": [
       "Random assignment procedure: Block random assignment \n",
       "Number of units: 23 \n",
       "Number of blocks: 2\n",
       "Number of treatment arms: 2 \n",
       "The possible treatment categories are 0 and 1.\n",
       "The number of possible random assignments is 426888.  \n",
       "The probabilities of assignment are NOT constant across units. Your analysis strategy must account for differential probabilities of assignment, typically by employing inverse probability weights."
      ]
     },
     "metadata": {},
     "output_type": "display_data"
    }
   ],
   "source": [
    "declaration <- declare_ra(N = dim(df)[1],\n",
    "                          m = 6,\n",
    "                          blocks = df$gender)\n",
    "declaration"
   ]
  },
  {
   "cell_type": "code",
   "execution_count": 18,
   "metadata": {},
   "outputs": [
    {
     "data": {
      "text/plain": [
       "   term estimate two_tailed_p_value\n",
       "1 treat 2.425917          0.2111491"
      ]
     },
     "metadata": {},
     "output_type": "display_data"
    }
   ],
   "source": [
    "model <- conduct_ri(formula = weight12 ~ treat + age + gender,\n",
    "                    declaration = declaration,\n",
    "                    sharp_hypothesis = 0,\n",
    "                    data = df,\n",
    "                    assignment = \"treat\",\n",
    "                    sims = Inf, # \"Inf\" means use the full randomization distribution, not samples\n",
    "                    IPW = TRUE)\n",
    "model"
   ]
  },
  {
   "cell_type": "code",
   "execution_count": 19,
   "metadata": {},
   "outputs": [
    {
     "data": {
      "image/png": "[encoded data removed]",
      "text/plain": [
       "plot without title"
      ]
     },
     "metadata": {
      "image/png": {
       "height": 420,
       "width": 420
      },
      "text/plain": {
       "height": 420,
       "width": 420
      }
     },
     "output_type": "display_data"
    }
   ],
   "source": [
    "plot(model)"
   ]
  },
  {
   "cell_type": "code",
   "execution_count": 20,
   "metadata": {},
   "outputs": [
    {
     "data": {
      "text/plain": [
       "   term   estimate two_tailed_p_value\n",
       "1 treat -0.3610461       0.0007285283"
      ]
     },
     "metadata": {},
     "output_type": "display_data"
    }
   ],
   "source": [
    "model <- conduct_ri(formula = stress12 ~ treat + age + gender,\n",
    "                    declaration = declaration,\n",
    "                    sharp_hypothesis = 0,\n",
    "                    data = df,\n",
    "                    assignment = \"treat\",\n",
    "                    sims = Inf, # \"Inf\" means use the full randomization distribution, not samples\n",
    "                    IPW = TRUE)\n",
    "model"
   ]
  },
  {
   "cell_type": "code",
   "execution_count": 21,
   "metadata": {},
   "outputs": [
    {
     "data": {
      "image/png": "[encoded data removed]",
      "text/plain": [
       "plot without title"
      ]
     },
     "metadata": {
      "image/png": {
       "height": 420,
       "width": 420
      },
      "text/plain": {
       "height": 420,
       "width": 420
      }
     },
     "output_type": "display_data"
    }
   ],
   "source": [
    "plot(model)"
   ]
  },
  {
   "cell_type": "code",
   "execution_count": null,
   "metadata": {},
   "outputs": [],
   "source": []
  }
 ],
 "metadata": {
  "kernelspec": {
   "display_name": "R",
   "language": "R",
   "name": "ir"
  },
  "language_info": {
   "codemirror_mode": "r",
   "file_extension": ".r",
   "mimetype": "text/x-r-source",
   "name": "R",
   "pygments_lexer": "r",
   "version": "3.6.2"
  }
 },
 "nbformat": 4,
 "nbformat_minor": 4
}
