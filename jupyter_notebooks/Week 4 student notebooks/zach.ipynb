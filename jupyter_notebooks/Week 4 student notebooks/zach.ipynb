{
 "cells": [
  {
   "cell_type": "code",
   "execution_count": 218,
   "metadata": {},
   "outputs": [],
   "source": [
    "# Set seed and parameters\n",
    "library(lfe) # for OLS (easier robust SE)\n",
    "library(AER) # for IV\n",
    "set.seed(10)\n",
    "N <- 50000\n",
    "options(warn=-1)"
   ]
  },
  {
   "cell_type": "code",
   "execution_count": 259,
   "metadata": {},
   "outputs": [],
   "source": [
    "##Simulation testing the robustness of IV to low-levels of correlation between the instrument and predictor\n",
    "\n",
    "\n",
    "cor_vals <- c()\n",
    "ols_estimates <- c()\n",
    "iv_estimates <- c()\n",
    "\n",
    "num_trials <- 10\n",
    "## smaller noise val reduces correlation between the instrument and predictor\n",
    "noise_vals <- c(1, 0.4, 0.3, 0.2, 0.1, 0.05, 0.025, 0.0125, 0.00625)\n",
    "\n",
    "for (noise_val in noise_vals){\n",
    "    for (trial in 1:num_trials){\n",
    "        ## Create empty dataframe\n",
    "        df <- data.frame(\"ID\" = 1:N)\n",
    "\n",
    "        ## Assign aggressive (arrest) or soft treatment randomly\n",
    "        df$aggresive <- floor(runif(N, min=0, max=2))\n",
    "\n",
    "        ## unobserved cofounder\n",
    "        df$drunkness <- runif(N, min=0, max=1.25)\n",
    "\n",
    "        ## More likely to be arrested if assigned aggressive, less likely to be arrested arrested in soft\n",
    "        df$arrest <- as.integer((noise_val*df$aggresive +  df$drunkness >= 0.5))\n",
    "\n",
    "        ## individual found guilty of DV again\n",
    "        ## less likely to reoffend if arrested\n",
    "        ## more likely to reoffend the more drunk\n",
    "        df$reoffend <- as.integer(((-0.3)*df$arrest + df$drunkness + runif(N, min=0, max=1) >= 0.5)) \n",
    "        \n",
    "        ## get correlation between intstrament and observed variable\n",
    "        cor_vals <- c(cor_vals, cor(df$aggresive, df$arrest))\n",
    "        \n",
    "        ## Regression result\n",
    "        OLS <- felm(reoffend ~ arrest, data=df)\n",
    "        ## estimated coefficient of arrest\n",
    "        ols_estimates <- c(ols_estimates, summary(OLS)$coefficients[2])\n",
    "        \n",
    "        ## IV result\n",
    "        IV = ivreg(reoffend ~ arrest | aggresive, data = df)\n",
    "        iv_estimates <- c(iv_estimates, summary(IV)$coefficients[2])    \n",
    "    }\n",
    "}"
   ]
  },
  {
   "cell_type": "code",
   "execution_count": 260,
   "metadata": {},
   "outputs": [],
   "source": [
    "## get avg and var of results\n",
    "avg_cor_vals <- c()\n",
    "avg_ols_vals <- c()\n",
    "var_ols_vals <- c()\n",
    "avg_iv_vals <- c()\n",
    "var_iv_vals <- c()\n",
    "\n",
    "n <- length(cor_vals)\n",
    "\n",
    "split_cor_vals <- split(cor_vals, rep(1:ceiling(n/num_trials), each=num_trials)[1:n])\n",
    "for(item in split_cor_vals){avg_cor_vals <- c(avg_cor_vals, mean(item))}\n",
    "\n",
    "split_ols_vals <- split(ols_estimates, rep(1:ceiling(n/num_trials), each=num_trials)[1:n])\n",
    "for(item in split_ols_vals){avg_ols_vals <- c(avg_ols_vals, mean(item))}\n",
    "for(item in split_ols_vals){var_ols_vals <- c(var_ols_vals, var(item))}\n",
    "\n",
    "split_iv_vals <- split(iv_estimates, rep(1:ceiling(n/num_trials), each=num_trials)[1:n])\n",
    "for(item in split_iv_vals){avg_iv_vals <- c(avg_iv_vals, mean(item))}\n",
    "for(item in split_iv_vals){var_iv_vals <- c(var_iv_vals, var(item))}"
   ]
  },
  {
   "cell_type": "code",
   "execution_count": 272,
   "metadata": {},
   "outputs": [
    {
     "data": {
      "image/png": "[encoded data removed]",
      "text/plain": [
       "Plot with title \"black-true_value, red-ols_est, green-iv_est\""
      ]
     },
     "metadata": {},
     "output_type": "display_data"
    }
   ],
   "source": [
    "plot(avg_cor_vals, avg_iv_vals, type=\"l\", col='green', ylab = \"Avg. Parameter Estimate\", xlab = \"Cor(aggressive, arrest)\", main='black-true_value, red-ols_est, green-iv_est')\n",
    "lines(avg_cor_vals, avg_ols_vals, col='red')\n",
    "lines(avg_cor_vals, c(-0.3, -0.3,-0.3, -0.3,-0.3, -0.3,-0.3, -0.3,-0.3), col='black')"
   ]
  },
  {
   "cell_type": "code",
   "execution_count": 271,
   "metadata": {},
   "outputs": [
    {
     "data": {
      "image/png": "[encoded data removed]",
      "text/plain": [
       "Plot with title \"red-ols_var, green-iv_var\""
      ]
     },
     "metadata": {},
     "output_type": "display_data"
    }
   ],
   "source": [
    "plot(avg_cor_vals, var_iv_vals, type=\"l\", col='green', ylab = \"Parameter Estimate Variance\", xlab = \"Cor(aggressive, arrest)\", main='red-ols_var, green-iv_var')\n",
    "lines(avg_cor_vals, var_ols_vals, col='red')"
   ]
  },
  {
   "cell_type": "markdown",
   "metadata": {},
   "source": [
    "## I am very surprised that the IV approach seems very robust to small levels of correlation between the instrument and predictor. Maybe I am doing something wrong but this should be violating one of the assumptions."
   ]
  },
  {
   "cell_type": "code",
   "execution_count": null,
   "metadata": {},
   "outputs": [],
   "source": []
  }
 ],
 "metadata": {
  "kernelspec": {
   "display_name": "R",
   "language": "R",
   "name": "ir"
  },
  "language_info": {
   "codemirror_mode": "r",
   "file_extension": ".r",
   "mimetype": "text/x-r-source",
   "name": "R",
   "pygments_lexer": "r",
   "version": "3.6.1"
  }
 },
 "nbformat": 4,
 "nbformat_minor": 4
}
