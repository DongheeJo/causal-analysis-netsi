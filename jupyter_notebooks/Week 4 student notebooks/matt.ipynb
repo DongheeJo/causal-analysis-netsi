{
 "cells": [
  {
   "cell_type": "markdown",
   "metadata": {},
   "source": [
    "# How Violations of the Monotonoicity and First-Stage Assumpions Affect IV Estimates"
   ]
  },
  {
   "cell_type": "code",
   "execution_count": 1,
   "metadata": {},
   "outputs": [
    {
     "name": "stderr",
     "output_type": "stream",
     "text": [
      "Loading required package: Matrix\n",
      "\n",
      "Loading required package: car\n",
      "\n",
      "Loading required package: carData\n",
      "\n",
      "Loading required package: lmtest\n",
      "\n",
      "Loading required package: zoo\n",
      "\n",
      "\n",
      "Attaching package: ‘zoo’\n",
      "\n",
      "\n",
      "The following objects are masked from ‘package:base’:\n",
      "\n",
      "    as.Date, as.Date.numeric\n",
      "\n",
      "\n",
      "\n",
      "Attaching package: ‘lmtest’\n",
      "\n",
      "\n",
      "The following object is masked from ‘package:lfe’:\n",
      "\n",
      "    waldtest\n",
      "\n",
      "\n",
      "Loading required package: sandwich\n",
      "\n",
      "Loading required package: survival\n",
      "\n"
     ]
    }
   ],
   "source": [
    "## Set seed and parameters\n",
    "library(lfe) # for OLS (easier robust SE)\n",
    "library(AER) # for IV\n",
    "library(data.table)\n",
    "set.seed(20015)\n",
    "N <- 50000"
   ]
  },
  {
   "cell_type": "markdown",
   "metadata": {},
   "source": [
    "Let's look at the effect of confidence on test scores. Since both confidence and scores are influence by the student's underlying talent, we need an instrument to experimentally vary their confidence. We therefore expose half of them to a priming treatment to increase their confidence. The priming effects are heterogenous. For now, we'll assume they are monotonic and non-zero in expectation. Later, we'll violate these assumptions.\n",
    "* *talent* is an unobserved (latent) variable that drives both confidence and score\n",
    "* *primed* is a binary indicator for whether a student was primed\n",
    "* *confidence* is how well the student expects to do after being exposed to the prime or placebo\n",
    "* *score* is how well the student actually does"
   ]
  },
  {
   "cell_type": "code",
   "execution_count": 2,
   "metadata": {},
   "outputs": [],
   "source": [
    "# Note that this is a data.table, which will make adding variables much easier after this\n",
    "d <- data.table(talent = runif(N, 0, 100),\n",
    "                primed = rbinom(N, size=1, prob=0.5))"
   ]
  },
  {
   "cell_type": "markdown",
   "metadata": {},
   "source": [
    "First stage effects of priming on confidence are heterogenous, ranging from 0 to 10"
   ]
  },
  {
   "cell_type": "code",
   "execution_count": 3,
   "metadata": {},
   "outputs": [],
   "source": [
    "d[, stage.1.effect := 10*runif(N, 0, 1)]"
   ]
  },
  {
   "cell_type": "markdown",
   "metadata": {},
   "source": [
    "Confidence equals talent plus the stage.1.effect (if student was primed) plus noise"
   ]
  },
  {
   "cell_type": "code",
   "execution_count": 4,
   "metadata": {},
   "outputs": [],
   "source": [
    "d[, confidence := talent + stage.1.effect * primed + runif(N, -10, 10)]"
   ]
  },
  {
   "cell_type": "markdown",
   "metadata": {},
   "source": [
    "A student's score is 75% the direct result of talent and 25% the result of confidence"
   ]
  },
  {
   "cell_type": "code",
   "execution_count": 5,
   "metadata": {},
   "outputs": [],
   "source": [
    "d[, score := talent*0.75 + confidence * 0.25]"
   ]
  },
  {
   "cell_type": "markdown",
   "metadata": {},
   "source": [
    "A peek at the first stage - priming clearly affects confidence (effect is about 5)"
   ]
  },
  {
   "cell_type": "code",
   "execution_count": 6,
   "metadata": {},
   "outputs": [
    {
     "data": {
      "text/html": [
       "<table>\n",
       "<caption>A data.table: 2 × 2</caption>\n",
       "<thead>\n",
       "\t<tr><th scope=col>primed</th><th scope=col>V1</th></tr>\n",
       "\t<tr><th scope=col>&lt;int&gt;</th><th scope=col>&lt;dbl&gt;</th></tr>\n",
       "</thead>\n",
       "<tbody>\n",
       "\t<tr><td>0</td><td>49.96717</td></tr>\n",
       "\t<tr><td>1</td><td>54.93231</td></tr>\n",
       "</tbody>\n",
       "</table>\n"
      ],
      "text/latex": [
       "A data.table: 2 × 2\n",
       "\\begin{tabular}{ll}\n",
       " primed & V1\\\\\n",
       " <int> & <dbl>\\\\\n",
       "\\hline\n",
       "\t 0 & 49.96717\\\\\n",
       "\t 1 & 54.93231\\\\\n",
       "\\end{tabular}\n"
      ],
      "text/markdown": [
       "\n",
       "A data.table: 2 × 2\n",
       "\n",
       "| primed &lt;int&gt; | V1 &lt;dbl&gt; |\n",
       "|---|---|\n",
       "| 0 | 49.96717 |\n",
       "| 1 | 54.93231 |\n",
       "\n"
      ],
      "text/plain": [
       "  primed V1      \n",
       "1 0      49.96717\n",
       "2 1      54.93231"
      ]
     },
     "metadata": {},
     "output_type": "display_data"
    }
   ],
   "source": [
    "d[,mean(confidence), by = primed]"
   ]
  },
  {
   "cell_type": "markdown",
   "metadata": {},
   "source": [
    "A peek at the reduced form - priming clearlly affects score"
   ]
  },
  {
   "cell_type": "code",
   "execution_count": 7,
   "metadata": {
    "scrolled": true
   },
   "outputs": [
    {
     "data": {
      "text/html": [
       "<table>\n",
       "<caption>A data.table: 2 × 2</caption>\n",
       "<thead>\n",
       "\t<tr><th scope=col>primed</th><th scope=col>V1</th></tr>\n",
       "\t<tr><th scope=col>&lt;int&gt;</th><th scope=col>&lt;dbl&gt;</th></tr>\n",
       "</thead>\n",
       "<tbody>\n",
       "\t<tr><td>0</td><td>50.00487</td></tr>\n",
       "\t<tr><td>1</td><td>51.14293</td></tr>\n",
       "</tbody>\n",
       "</table>\n"
      ],
      "text/latex": [
       "A data.table: 2 × 2\n",
       "\\begin{tabular}{ll}\n",
       " primed & V1\\\\\n",
       " <int> & <dbl>\\\\\n",
       "\\hline\n",
       "\t 0 & 50.00487\\\\\n",
       "\t 1 & 51.14293\\\\\n",
       "\\end{tabular}\n"
      ],
      "text/markdown": [
       "\n",
       "A data.table: 2 × 2\n",
       "\n",
       "| primed &lt;int&gt; | V1 &lt;dbl&gt; |\n",
       "|---|---|\n",
       "| 0 | 50.00487 |\n",
       "| 1 | 51.14293 |\n",
       "\n"
      ],
      "text/plain": [
       "  primed V1      \n",
       "1 0      50.00487\n",
       "2 1      51.14293"
      ]
     },
     "metadata": {},
     "output_type": "display_data"
    }
   ],
   "source": [
    "d[,mean(score), by = primed] (effect is about about 1.1)"
   ]
  },
  {
   "cell_type": "markdown",
   "metadata": {},
   "source": [
    "1.1/5 = 0. 22 Thus, the IV estimator correctly estimates that confidence is responsible for about a quart of a student's score. Let's see if the 2sls estimator gives us the same thing."
   ]
  },
  {
   "cell_type": "code",
   "execution_count": 9,
   "metadata": {},
   "outputs": [
    {
     "data": {
      "text/plain": [
       "\n",
       "Call:\n",
       "ivreg(formula = score ~ confidence | primed, data = d)\n",
       "\n",
       "Residuals:\n",
       "     Min       1Q   Median       3Q      Max \n",
       "-38.7172 -19.1978  -0.2206  19.2539  38.8447 \n",
       "\n",
       "Coefficients:\n",
       "            Estimate Std. Error t value Pr(>|t|)    \n",
       "(Intercept) 38.55188    2.10490  18.315  < 2e-16 ***\n",
       "confidence   0.22921    0.04009   5.718 1.09e-08 ***\n",
       "---\n",
       "Signif. codes:  0 ‘***’ 0.001 ‘**’ 0.01 ‘*’ 0.05 ‘.’ 0.1 ‘ ’ 1\n",
       "\n",
       "Residual standard error: 22.25 on 49998 degrees of freedom\n",
       "Multiple R-Squared: 0.4078,\tAdjusted R-squared: 0.4078 \n",
       "Wald test: 32.69 on 1 and 49998 DF,  p-value: 1.086e-08 \n"
      ]
     },
     "metadata": {},
     "output_type": "display_data"
    }
   ],
   "source": [
    "IV <- ivreg(score ~ confidence | primed , data = d)\n",
    "summary(IV, robust=TRUE)"
   ]
  },
  {
   "cell_type": "markdown",
   "metadata": {},
   "source": [
    "Now let's see what happens when there are defiers in the population. The following fucntion allows you to var the proportion of defiers by shifting the range of first_state effects downwards from [0,10] (no defiers) all the way down to [-10,0] (all defiers)."
   ]
  },
  {
   "cell_type": "code",
   "execution_count": 10,
   "metadata": {},
   "outputs": [],
   "source": [
    "change_first_stage <- function(prop.defiers){\n",
    "    e <- d\n",
    "    e[, stage.1.effect := 10*runif(N, 0-prop.defiers, 1-prop.defiers)]\n",
    "    e[, confidence := talent + stage.1.effect*primed + runif(N, -10, 10)]\n",
    "    e[, score := talent*0.75 + confidence * 0.25]\n",
    "    IV <- ivreg(score ~ confidence | primed , data = e)\n",
    "    t <- summary(IV, robust=TRUE)\n",
    "    return(c(\"prop defiers\" = prop.defiers,round(t$coefficients[2,c(1,4)],3)))\n",
    "}"
   ]
  },
  {
   "cell_type": "code",
   "execution_count": 11,
   "metadata": {},
   "outputs": [
    {
     "data": {
      "text/html": [
       "<ol>\n",
       "\t<li><dl class=dl-horizontal>\n",
       "\t<dt>prop defiers</dt>\n",
       "\t\t<dd>0</dd>\n",
       "\t<dt>Estimate</dt>\n",
       "\t\t<dd>0.229</dd>\n",
       "\t<dt>Pr(&gt;|t|)</dt>\n",
       "\t\t<dd>0</dd>\n",
       "</dl>\n",
       "</li>\n",
       "\t<li><dl class=dl-horizontal>\n",
       "\t<dt>prop defiers</dt>\n",
       "\t\t<dd>0.1</dd>\n",
       "\t<dt>Estimate</dt>\n",
       "\t\t<dd>0.223</dd>\n",
       "\t<dt>Pr(&gt;|t|)</dt>\n",
       "\t\t<dd>0</dd>\n",
       "</dl>\n",
       "</li>\n",
       "\t<li><dl class=dl-horizontal>\n",
       "\t<dt>prop defiers</dt>\n",
       "\t\t<dd>0.2</dd>\n",
       "\t<dt>Estimate</dt>\n",
       "\t\t<dd>0.215</dd>\n",
       "\t<dt>Pr(&gt;|t|)</dt>\n",
       "\t\t<dd>0.002</dd>\n",
       "</dl>\n",
       "</li>\n",
       "\t<li><dl class=dl-horizontal>\n",
       "\t<dt>prop defiers</dt>\n",
       "\t\t<dd>0.3</dd>\n",
       "\t<dt>Estimate</dt>\n",
       "\t\t<dd>0.193</dd>\n",
       "\t<dt>Pr(&gt;|t|)</dt>\n",
       "\t\t<dd>0.093</dd>\n",
       "</dl>\n",
       "</li>\n",
       "\t<li><dl class=dl-horizontal>\n",
       "\t<dt>prop defiers</dt>\n",
       "\t\t<dd>0.4</dd>\n",
       "\t<dt>Estimate</dt>\n",
       "\t\t<dd>0.131</dd>\n",
       "\t<dt>Pr(&gt;|t|)</dt>\n",
       "\t\t<dd>0.612</dd>\n",
       "</dl>\n",
       "</li>\n",
       "\t<li><dl class=dl-horizontal>\n",
       "\t<dt>prop defiers</dt>\n",
       "\t\t<dd>0.5</dd>\n",
       "\t<dt>Estimate</dt>\n",
       "\t\t<dd>3.944</dd>\n",
       "\t<dt>Pr(&gt;|t|)</dt>\n",
       "\t\t<dd>0.889</dd>\n",
       "</dl>\n",
       "</li>\n",
       "\t<li><dl class=dl-horizontal>\n",
       "\t<dt>prop defiers</dt>\n",
       "\t\t<dd>0.6</dd>\n",
       "\t<dt>Estimate</dt>\n",
       "\t\t<dd>0.34</dd>\n",
       "\t<dt>Pr(&gt;|t|)</dt>\n",
       "\t\t<dd>0.023</dd>\n",
       "</dl>\n",
       "</li>\n",
       "\t<li><dl class=dl-horizontal>\n",
       "\t<dt>prop defiers</dt>\n",
       "\t\t<dd>0.7</dd>\n",
       "\t<dt>Estimate</dt>\n",
       "\t\t<dd>0.301</dd>\n",
       "\t<dt>Pr(&gt;|t|)</dt>\n",
       "\t\t<dd>0.001</dd>\n",
       "</dl>\n",
       "</li>\n",
       "\t<li><dl class=dl-horizontal>\n",
       "\t<dt>prop defiers</dt>\n",
       "\t\t<dd>0.8</dd>\n",
       "\t<dt>Estimate</dt>\n",
       "\t\t<dd>0.284</dd>\n",
       "\t<dt>Pr(&gt;|t|)</dt>\n",
       "\t\t<dd>0</dd>\n",
       "</dl>\n",
       "</li>\n",
       "\t<li><dl class=dl-horizontal>\n",
       "\t<dt>prop defiers</dt>\n",
       "\t\t<dd>0.9</dd>\n",
       "\t<dt>Estimate</dt>\n",
       "\t\t<dd>0.275</dd>\n",
       "\t<dt>Pr(&gt;|t|)</dt>\n",
       "\t\t<dd>0</dd>\n",
       "</dl>\n",
       "</li>\n",
       "\t<li><dl class=dl-horizontal>\n",
       "\t<dt>prop defiers</dt>\n",
       "\t\t<dd>1</dd>\n",
       "\t<dt>Estimate</dt>\n",
       "\t\t<dd>0.27</dd>\n",
       "\t<dt>Pr(&gt;|t|)</dt>\n",
       "\t\t<dd>0</dd>\n",
       "</dl>\n",
       "</li>\n",
       "</ol>\n"
      ],
      "text/latex": [
       "\\begin{enumerate}\n",
       "\\item \\begin{description*}\n",
       "\\item[prop defiers] 0\n",
       "\\item[Estimate] 0.229\n",
       "\\item[Pr(>\\textbackslash{}textbar\\{\\}t\\textbackslash{}textbar\\{\\})] 0\n",
       "\\end{description*}\n",
       "\n",
       "\\item \\begin{description*}\n",
       "\\item[prop defiers] 0.1\n",
       "\\item[Estimate] 0.223\n",
       "\\item[Pr(>\\textbackslash{}textbar\\{\\}t\\textbackslash{}textbar\\{\\})] 0\n",
       "\\end{description*}\n",
       "\n",
       "\\item \\begin{description*}\n",
       "\\item[prop defiers] 0.2\n",
       "\\item[Estimate] 0.215\n",
       "\\item[Pr(>\\textbackslash{}textbar\\{\\}t\\textbackslash{}textbar\\{\\})] 0.002\n",
       "\\end{description*}\n",
       "\n",
       "\\item \\begin{description*}\n",
       "\\item[prop defiers] 0.3\n",
       "\\item[Estimate] 0.193\n",
       "\\item[Pr(>\\textbackslash{}textbar\\{\\}t\\textbackslash{}textbar\\{\\})] 0.093\n",
       "\\end{description*}\n",
       "\n",
       "\\item \\begin{description*}\n",
       "\\item[prop defiers] 0.4\n",
       "\\item[Estimate] 0.131\n",
       "\\item[Pr(>\\textbackslash{}textbar\\{\\}t\\textbackslash{}textbar\\{\\})] 0.612\n",
       "\\end{description*}\n",
       "\n",
       "\\item \\begin{description*}\n",
       "\\item[prop defiers] 0.5\n",
       "\\item[Estimate] 3.944\n",
       "\\item[Pr(>\\textbackslash{}textbar\\{\\}t\\textbackslash{}textbar\\{\\})] 0.889\n",
       "\\end{description*}\n",
       "\n",
       "\\item \\begin{description*}\n",
       "\\item[prop defiers] 0.6\n",
       "\\item[Estimate] 0.34\n",
       "\\item[Pr(>\\textbackslash{}textbar\\{\\}t\\textbackslash{}textbar\\{\\})] 0.023\n",
       "\\end{description*}\n",
       "\n",
       "\\item \\begin{description*}\n",
       "\\item[prop defiers] 0.7\n",
       "\\item[Estimate] 0.301\n",
       "\\item[Pr(>\\textbackslash{}textbar\\{\\}t\\textbackslash{}textbar\\{\\})] 0.001\n",
       "\\end{description*}\n",
       "\n",
       "\\item \\begin{description*}\n",
       "\\item[prop defiers] 0.8\n",
       "\\item[Estimate] 0.284\n",
       "\\item[Pr(>\\textbackslash{}textbar\\{\\}t\\textbackslash{}textbar\\{\\})] 0\n",
       "\\end{description*}\n",
       "\n",
       "\\item \\begin{description*}\n",
       "\\item[prop defiers] 0.9\n",
       "\\item[Estimate] 0.275\n",
       "\\item[Pr(>\\textbackslash{}textbar\\{\\}t\\textbackslash{}textbar\\{\\})] 0\n",
       "\\end{description*}\n",
       "\n",
       "\\item \\begin{description*}\n",
       "\\item[prop defiers] 1\n",
       "\\item[Estimate] 0.27\n",
       "\\item[Pr(>\\textbackslash{}textbar\\{\\}t\\textbackslash{}textbar\\{\\})] 0\n",
       "\\end{description*}\n",
       "\n",
       "\\end{enumerate}\n"
      ],
      "text/markdown": [
       "1. prop defiers\n",
       ":   0Estimate\n",
       ":   0.229Pr(&amp;gt;|t|)\n",
       ":   0\n",
       "\n",
       "\n",
       "2. prop defiers\n",
       ":   0.1Estimate\n",
       ":   0.223Pr(&amp;gt;|t|)\n",
       ":   0\n",
       "\n",
       "\n",
       "3. prop defiers\n",
       ":   0.2Estimate\n",
       ":   0.215Pr(&amp;gt;|t|)\n",
       ":   0.002\n",
       "\n",
       "\n",
       "4. prop defiers\n",
       ":   0.3Estimate\n",
       ":   0.193Pr(&amp;gt;|t|)\n",
       ":   0.093\n",
       "\n",
       "\n",
       "5. prop defiers\n",
       ":   0.4Estimate\n",
       ":   0.131Pr(&amp;gt;|t|)\n",
       ":   0.612\n",
       "\n",
       "\n",
       "6. prop defiers\n",
       ":   0.5Estimate\n",
       ":   3.944Pr(&amp;gt;|t|)\n",
       ":   0.889\n",
       "\n",
       "\n",
       "7. prop defiers\n",
       ":   0.6Estimate\n",
       ":   0.34Pr(&amp;gt;|t|)\n",
       ":   0.023\n",
       "\n",
       "\n",
       "8. prop defiers\n",
       ":   0.7Estimate\n",
       ":   0.301Pr(&amp;gt;|t|)\n",
       ":   0.001\n",
       "\n",
       "\n",
       "9. prop defiers\n",
       ":   0.8Estimate\n",
       ":   0.284Pr(&amp;gt;|t|)\n",
       ":   0\n",
       "\n",
       "\n",
       "10. prop defiers\n",
       ":   0.9Estimate\n",
       ":   0.275Pr(&amp;gt;|t|)\n",
       ":   0\n",
       "\n",
       "\n",
       "11. prop defiers\n",
       ":   1Estimate\n",
       ":   0.27Pr(&amp;gt;|t|)\n",
       ":   0\n",
       "\n",
       "\n",
       "\n",
       "\n"
      ],
      "text/plain": [
       "[[1]]\n",
       "prop defiers     Estimate     Pr(>|t|) \n",
       "       0.000        0.229        0.000 \n",
       "\n",
       "[[2]]\n",
       "prop defiers     Estimate     Pr(>|t|) \n",
       "       0.100        0.223        0.000 \n",
       "\n",
       "[[3]]\n",
       "prop defiers     Estimate     Pr(>|t|) \n",
       "       0.200        0.215        0.002 \n",
       "\n",
       "[[4]]\n",
       "prop defiers     Estimate     Pr(>|t|) \n",
       "       0.300        0.193        0.093 \n",
       "\n",
       "[[5]]\n",
       "prop defiers     Estimate     Pr(>|t|) \n",
       "       0.400        0.131        0.612 \n",
       "\n",
       "[[6]]\n",
       "prop defiers     Estimate     Pr(>|t|) \n",
       "       0.500        3.944        0.889 \n",
       "\n",
       "[[7]]\n",
       "prop defiers     Estimate     Pr(>|t|) \n",
       "       0.600        0.340        0.023 \n",
       "\n",
       "[[8]]\n",
       "prop defiers     Estimate     Pr(>|t|) \n",
       "       0.700        0.301        0.001 \n",
       "\n",
       "[[9]]\n",
       "prop defiers     Estimate     Pr(>|t|) \n",
       "       0.800        0.284        0.000 \n",
       "\n",
       "[[10]]\n",
       "prop defiers     Estimate     Pr(>|t|) \n",
       "       0.900        0.275        0.000 \n",
       "\n",
       "[[11]]\n",
       "prop defiers     Estimate     Pr(>|t|) \n",
       "        1.00         0.27         0.00 \n"
      ]
     },
     "metadata": {},
     "output_type": "display_data"
    }
   ],
   "source": [
    "values = seq(0,1,0.1)\n",
    "lapply( values, change_first_stage)"
   ]
  },
  {
   "cell_type": "markdown",
   "metadata": {},
   "source": [
    "Note that as the proportion of defiers increases the the estimates become downwardly biased the variance gets worse. At the point where half the sample are defiers the first-stage assumption fails as there is no longer any effect of the instrument (priming) on the treatment (confidence). As the proportion of defiers surpasses 0.5 however, there is once again a correlation between istrument and treatment---a negative correlation. The variance is still high but begins to drop. The bias is upward now, but getting smaller as well. Eventually when the entire population are defiers the bias vanishess and the variance becomes as precise as when we stated. Moral: \"Defier\" is in the eye-of-the-beholder. One researcher's defier is another researcher's complier.  What matters is how close the first-stage is to being monotonic (either upwards or downwards) as this will affect both bias and variance."
   ]
  }
 ],
 "metadata": {
  "kernelspec": {
   "display_name": "R",
   "language": "R",
   "name": "ir"
  },
  "language_info": {
   "codemirror_mode": "r",
   "file_extension": ".r",
   "mimetype": "text/x-r-source",
   "name": "R",
   "pygments_lexer": "r",
   "version": "3.6.1"
  }
 },
 "nbformat": 4,
 "nbformat_minor": 4
}
