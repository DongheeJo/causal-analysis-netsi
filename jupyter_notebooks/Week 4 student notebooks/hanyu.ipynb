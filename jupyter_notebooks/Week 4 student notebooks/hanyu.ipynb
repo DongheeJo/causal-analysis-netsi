{
 "cells": [
  {
   "cell_type": "markdown",
   "metadata": {},
   "source": [
    "# NETSI Special Topic: Causal Analysis\n",
    "## Jupyter notebook on instrumental variable approach (IV)"
   ]
  },
  {
   "cell_type": "code",
   "execution_count": 3,
   "metadata": {
    "scrolled": true
   },
   "outputs": [
    {
     "name": "stderr",
     "output_type": "stream",
     "text": [
      "Loading required package: Matrix\n",
      "Loading required package: car\n",
      "Loading required package: carData\n",
      "Loading required package: lmtest\n",
      "Loading required package: zoo\n",
      "\n",
      "Attaching package: ‘zoo’\n",
      "\n",
      "The following objects are masked from ‘package:base’:\n",
      "\n",
      "    as.Date, as.Date.numeric\n",
      "\n",
      "\n",
      "Attaching package: ‘lmtest’\n",
      "\n",
      "The following object is masked from ‘package:lfe’:\n",
      "\n",
      "    waldtest\n",
      "\n",
      "Loading required package: sandwich\n",
      "Loading required package: survival\n"
     ]
    }
   ],
   "source": [
    "## Set seed and parameters\n",
    "library(lfe) # for OLS (easier robust SE)\n",
    "library(AER) # for IV\n",
    "set.seed(10)\n",
    "N <- 50000"
   ]
  },
  {
   "cell_type": "code",
   "execution_count": 3,
   "metadata": {},
   "outputs": [],
   "source": [
    "set.seed(10)\n",
    "N <- 50000"
   ]
  },
  {
   "cell_type": "markdown",
   "metadata": {},
   "source": [
    "### Naive OLS\n",
    "Causal link from private to salary is confounded by the household wealth, as in the last notebook."
   ]
  },
  {
   "cell_type": "code",
   "execution_count": 4,
   "metadata": {},
   "outputs": [
    {
     "name": "stdout",
     "output_type": "stream",
     "text": [
      "\n",
      " TRUE \n",
      "50000 \n"
     ]
    },
    {
     "data": {
      "text/html": [
       "<table>\n",
       "<thead><tr><th scope=col>ID</th><th scope=col>urban</th><th scope=col>hhw</th><th scope=col>private0</th><th scope=col>private1</th><th scope=col>private</th><th scope=col>salary0</th><th scope=col>salary1</th><th scope=col>salary</th></tr></thead>\n",
       "<tbody>\n",
       "\t<tr><td>1        </td><td>1        </td><td>0        </td><td>0        </td><td>1        </td><td>1        </td><td> 54717.43</td><td> 64717.43</td><td> 64717.43</td></tr>\n",
       "\t<tr><td>2        </td><td>0        </td><td>1        </td><td>1        </td><td>1        </td><td>1        </td><td>141185.69</td><td>151185.69</td><td>151185.69</td></tr>\n",
       "\t<tr><td>3        </td><td>0        </td><td>1        </td><td>1        </td><td>1        </td><td>1        </td><td> 57274.26</td><td> 67274.26</td><td> 67274.26</td></tr>\n",
       "\t<tr><td>4        </td><td>1        </td><td>0        </td><td>0        </td><td>0        </td><td>0        </td><td> 22573.59</td><td> 32573.59</td><td> 22573.59</td></tr>\n",
       "\t<tr><td>5        </td><td>0        </td><td>1        </td><td>1        </td><td>1        </td><td>1        </td><td> 54664.85</td><td> 64664.85</td><td> 64664.85</td></tr>\n",
       "\t<tr><td>6        </td><td>0        </td><td>1        </td><td>1        </td><td>1        </td><td>1        </td><td> 51817.56</td><td> 61817.56</td><td> 61817.56</td></tr>\n",
       "</tbody>\n",
       "</table>\n"
      ],
      "text/latex": [
       "\\begin{tabular}{r|lllllllll}\n",
       " ID & urban & hhw & private0 & private1 & private & salary0 & salary1 & salary\\\\\n",
       "\\hline\n",
       "\t 1         & 1         & 0         & 0         & 1         & 1         &  54717.43 &  64717.43 &  64717.43\\\\\n",
       "\t 2         & 0         & 1         & 1         & 1         & 1         & 141185.69 & 151185.69 & 151185.69\\\\\n",
       "\t 3         & 0         & 1         & 1         & 1         & 1         &  57274.26 &  67274.26 &  67274.26\\\\\n",
       "\t 4         & 1         & 0         & 0         & 0         & 0         &  22573.59 &  32573.59 &  22573.59\\\\\n",
       "\t 5         & 0         & 1         & 1         & 1         & 1         &  54664.85 &  64664.85 &  64664.85\\\\\n",
       "\t 6         & 0         & 1         & 1         & 1         & 1         &  51817.56 &  61817.56 &  61817.56\\\\\n",
       "\\end{tabular}\n"
      ],
      "text/markdown": [
       "\n",
       "ID | urban | hhw | private0 | private1 | private | salary0 | salary1 | salary | \n",
       "|---|---|---|---|---|---|\n",
       "| 1         | 1         | 0         | 0         | 1         | 1         |  54717.43 |  64717.43 |  64717.43 | \n",
       "| 2         | 0         | 1         | 1         | 1         | 1         | 141185.69 | 151185.69 | 151185.69 | \n",
       "| 3         | 0         | 1         | 1         | 1         | 1         |  57274.26 |  67274.26 |  67274.26 | \n",
       "| 4         | 1         | 0         | 0         | 0         | 0         |  22573.59 |  32573.59 |  22573.59 | \n",
       "| 5         | 0         | 1         | 1         | 1         | 1         |  54664.85 |  64664.85 |  64664.85 | \n",
       "| 6         | 0         | 1         | 1         | 1         | 1         |  51817.56 |  61817.56 |  61817.56 | \n",
       "\n",
       "\n"
      ],
      "text/plain": [
       "  ID urban hhw private0 private1 private salary0   salary1   salary   \n",
       "1 1  1     0   0        1        1        54717.43  64717.43  64717.43\n",
       "2 2  0     1   1        1        1       141185.69 151185.69 151185.69\n",
       "3 3  0     1   1        1        1        57274.26  67274.26  67274.26\n",
       "4 4  1     0   0        0        0        22573.59  32573.59  22573.59\n",
       "5 5  0     1   1        1        1        54664.85  64664.85  64664.85\n",
       "6 6  0     1   1        1        1        51817.56  61817.56  61817.56"
      ]
     },
     "metadata": {},
     "output_type": "display_data"
    },
    {
     "name": "stdout",
     "output_type": "stream",
     "text": [
      "\n",
      "Call:\n",
      "   felm(formula = salary ~ private, data = df) \n",
      "\n",
      "Residuals:\n",
      "    Min      1Q  Median      3Q     Max \n",
      "-167244  -27112       9   27124  165052 \n",
      "\n",
      "Coefficients:\n",
      "            Estimate Robust s.e t value Pr(>|t|)    \n",
      "(Intercept)  51737.9      240.2  215.40   <2e-16 ***\n",
      "private      17144.1      361.5   47.42   <2e-16 ***\n",
      "---\n",
      "Signif. codes:  0 ‘***’ 0.001 ‘**’ 0.01 ‘*’ 0.05 ‘.’ 0.1 ‘ ’ 1\n",
      "\n",
      "Residual standard error: 40140 on 49998 degrees of freedom\n",
      "Multiple R-squared(full model): 0.04312   Adjusted R-squared: 0.0431 \n",
      "Multiple R-squared(proj model): 0.04312   Adjusted R-squared: 0.0431 \n",
      "F-statistic(full model, *iid*): 2253 on 1 and 49998 DF, p-value: < 2.2e-16 \n",
      "F-statistic(proj model):  2249 on 1 and 49998 DF, p-value: < 2.2e-16 \n",
      "\n",
      "\n"
     ]
    }
   ],
   "source": [
    "## Create empty dataframe\n",
    "df <- data.frame(\"ID\" = 1:N)\n",
    "\n",
    "## Simulate location (we'll assume private schools are only in urban area)\n",
    "df$urban <- floor(runif(N, min=0, max=2))\n",
    "\n",
    "## Simulate household wealth\n",
    "### Let's assume that what matters is HH wealth is > 1M or not (specific amount does not matter)\n",
    "df$hhw <- floor(runif(N, min=0, max=2))\n",
    "\n",
    "## Simulate the kid's decision to attend private college \n",
    "### Instead of completely random, more likely to attend private college if from wealthy HH\n",
    "### Living in urban area can sometimes turn decision toward attending private (but not vice versa)\n",
    "### Let's follow potential outcomes approach and simulate both private0 (D0) and private1 (D1)\n",
    "df$private0 <- 0.7*df$hhw + runif(N, min=0, max=1) # private school decision by non-urban (private if >1)\n",
    "df$private1 <- df$private0 + 0.2 # private school decision by urban (private if >1)\n",
    "df$private0 <- 1*(df$private0>1) # Replace with binary numbers\n",
    "df$private1 <- 1*(df$private1>1)\n",
    "\n",
    "### Check monotonicity\n",
    "print(table(df$private1>=df$private0))\n",
    "\n",
    "## Determine private1 vs private0 based on urban status\n",
    "df$private <- df$urban * df$private1 + (1-df$urban) * df$private0\n",
    "\n",
    "## Simulate earning\n",
    "treatment.effect <- 10000\n",
    "df$salary0 <- 50000 + df$hhw*10000 + rnorm(N, mean=0, sd=40000) ## potential outcome, when attending public (Y0)\n",
    "df$salary1 <- df$salary0 + treatment.effect ## potential outcome, when attending private (Y1)\n",
    "df$salary <- df$private * df$salary1 + (1-df$private) * df$salary0\n",
    "\n",
    "## Some sample data\n",
    "head(df)\n",
    "\n",
    "## Regression result\n",
    "OLS <- felm(salary ~ private, data=df)\n",
    "print(summary(OLS, robust=TRUE))"
   ]
  },
  {
   "cell_type": "markdown",
   "metadata": {},
   "source": [
    "### Instrumental variable approach\n",
    "\n",
    "As you can see above, we get biased result when we run this Naive regression. Suppose we don't observe household wealth, so including household wealth in our regression is impossible. What can we do?\n",
    "\n",
    "Fortunately, we have an instrument: urban affects wage only through private (exclusion), being urban can only make you to attend private college (monotonicity), and being in urban is not correlated with private school potential outcomes and wage potential outcomes (exogeneity).\n",
    "\n",
    "Using this, we can run IV and get unbiased estimate for the causal effect of interest."
   ]
  },
  {
   "cell_type": "code",
   "execution_count": 5,
   "metadata": {},
   "outputs": [
    {
     "name": "stdout",
     "output_type": "stream",
     "text": [
      "\n",
      "Call:\n",
      "ivreg(formula = salary ~ private | urban, data = df)\n",
      "\n",
      "Residuals:\n",
      "       Min         1Q     Median         3Q        Max \n",
      "-170859.19  -27217.07      27.89   27159.31  169552.14 \n",
      "\n",
      "Coefficients:\n",
      "            Estimate Std. Error t value Pr(>|t|)    \n",
      "(Intercept)  55352.6      846.4  65.394  < 2e-16 ***\n",
      "private       9029.3     1856.6   4.863 1.16e-06 ***\n",
      "---\n",
      "Signif. codes:  0 ‘***’ 0.001 ‘**’ 0.01 ‘*’ 0.05 ‘.’ 0.1 ‘ ’ 1\n",
      "\n",
      "Residual standard error: 40340 on 49998 degrees of freedom\n",
      "Multiple R-Squared: 0.03346,\tAdjusted R-squared: 0.03344 \n",
      "Wald test: 23.65 on 1 and 49998 DF,  p-value: 1.158e-06 \n",
      "\n"
     ]
    }
   ],
   "source": [
    "IV = ivreg(salary ~ private | urban , data = df)\n",
    "print(summary(IV, robust=TRUE))"
   ]
  },
  {
   "cell_type": "code",
   "execution_count": 6,
   "metadata": {},
   "outputs": [
    {
     "name": "stdout",
     "output_type": "stream",
     "text": [
      "[1] 9029.257\n"
     ]
    }
   ],
   "source": [
    "## Check the result from ivreg is equivalent to FS/RF\n",
    "FS <- felm(private ~ urban, data = df)\n",
    "RF <- felm(salary ~ urban, data = df)\n",
    "FS.coef <- coef(summary(FS))[\"urban\",1]\n",
    "RF.coef <- coef(summary(RF))[\"urban\",1]\n",
    "print(RF.coef/FS.coef)"
   ]
  },
  {
   "cell_type": "markdown",
   "metadata": {},
   "source": [
    "### Causal relationship of the previous simulation represented by DAG"
   ]
  },
  {
   "cell_type": "code",
   "execution_count": 7,
   "metadata": {},
   "outputs": [
    {
     "name": "stderr",
     "output_type": "stream",
     "text": [
      "\n",
      "Attaching package: ‘igraph’\n",
      "\n",
      "The following objects are masked from ‘package:stats’:\n",
      "\n",
      "    decompose, spectrum\n",
      "\n",
      "The following object is masked from ‘package:base’:\n",
      "\n",
      "    union\n",
      "\n"
     ]
    }
   ],
   "source": [
    "library(igraph) # Some igraph tutorial: https://kateto.net/netscix2016.html"
   ]
  },
  {
   "cell_type": "code",
   "execution_count": 8,
   "metadata": {},
   "outputs": [
    {
     "data": {
      "image/png": "[encoded data removed]",
      "text/plain": [
       "Plot with title “”"
      ]
     },
     "metadata": {},
     "output_type": "display_data"
    }
   ],
   "source": [
    "g1 <- graph_from_literal(Urban--+Private,Private--+Salary,HHW--+Private,HHW--+Salary)\n",
    "E(g1)$lty <- c(1,1,2,2)\n",
    "options(repr.plot.height=5)\n",
    "plot(g1, edge.arrow.size=0.5, edge.color=\"black\", vertex.color=\"white\", vertex.size=5, \n",
    "     vertex.frame.color=\"grey\", vertex.label.color=\"black\", \n",
    "     vertex.label.cex=0.8, vertex.label.dist=1.5, edge.curved=0)"
   ]
  },
  {
   "cell_type": "markdown",
   "metadata": {},
   "source": [
    "### LATE\n",
    "To demonstrate that the treatment effect that we're identifying is treatment effect of compliers, let's give much bigger treatment effect to always-takers and never-takers this time."
   ]
  },
  {
   "cell_type": "code",
   "execution_count": 9,
   "metadata": {},
   "outputs": [
    {
     "name": "stdout",
     "output_type": "stream",
     "text": [
      "\n",
      "Call:\n",
      "ivreg(formula = salary ~ private | urban, data = df.late)\n",
      "\n",
      "Residuals:\n",
      "      Min        1Q    Median        3Q       Max \n",
      "-162834.6  -28396.3     115.8   28326.7  195514.5 \n",
      "\n",
      "Coefficients:\n",
      "            Estimate Std. Error t value Pr(>|t|)    \n",
      "(Intercept)  60394.0      878.3   68.76  < 2e-16 ***\n",
      "private      13254.5     1926.4    6.88 6.04e-12 ***\n",
      "---\n",
      "Signif. codes:  0 ‘***’ 0.001 ‘**’ 0.01 ‘*’ 0.05 ‘.’ 0.1 ‘ ’ 1\n",
      "\n",
      "Residual standard error: 41860 on 49998 degrees of freedom\n",
      "Multiple R-Squared: 0.08986,\tAdjusted R-squared: 0.08984 \n",
      "Wald test: 47.34 on 1 and 49998 DF,  p-value: 6.036e-12 \n",
      "\n"
     ]
    }
   ],
   "source": [
    "df.late <- df\n",
    "te.compliers <- 10000\n",
    "te.others <- 30000 # 10 times bigger treatment effect\n",
    "\n",
    "## potential outcome, when attending public (Y0)\n",
    "df.late$salary0 <- 50000 + df.late$hhw*10000 + rnorm(N, mean=0, sd=40000)\n",
    "\n",
    "## potential outcome, when attending private (Y1)\n",
    "df.late$salary1 <- df.late$salary0 + \n",
    "                    te.compliers*(df.late$private1>df.late$private0) +\n",
    "                    te.others*(df.late$private1==df.late$private0)\n",
    "df.late$salary <- df.late$private * df.late$salary1 + (1-df.late$private) * df.late$salary0\n",
    "\n",
    "## IV\n",
    "IV = ivreg(salary ~ private | urban , data = df.late)\n",
    "print(summary(IV, robust=TRUE))\n",
    "\n",
    "### Check that the result ~= treatment effect that we gave to the compliers"
   ]
  },
  {
   "cell_type": "markdown",
   "metadata": {},
   "source": [
    "### Violations of IV assumptions\n",
    "Now let's take a look at one of the cases where IV assumptions are violated. One example of IV assumption violation is when there is direct effect of being in urban area on our outcome variable (salary). Let's first draw DAG representing this situation, and then simulate it."
   ]
  },
  {
   "cell_type": "code",
   "execution_count": 10,
   "metadata": {},
   "outputs": [
    {
     "data": {
      "image/png": "[encoded data removed]",
      "text/plain": [
       "Plot with title “”"
      ]
     },
     "metadata": {},
     "output_type": "display_data"
    }
   ],
   "source": [
    "g1 <- graph_from_literal(Urban--+Private,Private--+Salary,HHW--+Private,HHW--+Salary,Urban--+Salary)\n",
    "E(g1)$lty <- c(1,1,1,2,2)\n",
    "options(repr.plot.height=5)\n",
    "plot(g1, edge.arrow.size=0.5, edge.color=\"black\", vertex.color=\"white\", vertex.size=5, \n",
    "     vertex.frame.color=\"grey\", vertex.label.color=\"black\", \n",
    "     vertex.label.cex=0.8, vertex.label.dist=1.5, edge.curved=0.1)"
   ]
  },
  {
   "cell_type": "code",
   "execution_count": 11,
   "metadata": {},
   "outputs": [
    {
     "name": "stdout",
     "output_type": "stream",
     "text": [
      "\n",
      "Call:\n",
      "ivreg(formula = salary ~ private | urban, data = df.v)\n",
      "\n",
      "Residuals:\n",
      "      Min        1Q    Median        3Q       Max \n",
      "-176731.8  -30989.4     173.2   31381.8  185080.4 \n",
      "\n",
      "Coefficients:\n",
      "            Estimate Std. Error t value Pr(>|t|)    \n",
      "(Intercept)  37730.9      954.3   39.54   <2e-16 ***\n",
      "private      60372.5     2093.0   28.84   <2e-16 ***\n",
      "---\n",
      "Signif. codes:  0 ‘***’ 0.001 ‘**’ 0.01 ‘*’ 0.05 ‘.’ 0.1 ‘ ’ 1\n",
      "\n",
      "Residual standard error: 45480 on 49998 degrees of freedom\n",
      "Multiple R-Squared: -0.1923,\tAdjusted R-squared: -0.1923 \n",
      "Wald test:   832 on 1 and 49998 DF,  p-value: < 2.2e-16 \n",
      "\n"
     ]
    }
   ],
   "source": [
    "df.v <- df\n",
    "\n",
    "## Simulate earning\n",
    "treatment.effect <- 10000\n",
    "df.v$salary0 <- 50000 + df.v$hhw*10000 + 10000*df.v$urban + rnorm(N, mean=0, sd=40000) ## potential outcome, when attending public (Y0)\n",
    "df.v$salary1 <- df.v$salary0 + treatment.effect ## potential outcome, when attending private (Y1)\n",
    "df.v$salary <- df.v$private * df.v$salary1 + (1-df.v$private) * df.v$salary0\n",
    "\n",
    "## IV\n",
    "IV = ivreg(salary ~ private | urban , data = df.v)\n",
    "print(summary(IV, robust=TRUE))\n",
    "\n",
    "### As you can see, this can introduce pretty serious problem..."
   ]
  },
  {
   "cell_type": "markdown",
   "metadata": {},
   "source": [
    "### Exercise\n",
    "Show a simulation exercise where another IV assumption is violated."
   ]
  },
  {
   "cell_type": "markdown",
   "metadata": {},
   "source": [
    "We've already shown the importance of the exclusion assumption above, so we'll break the independence assumption. That is, the instrument is no longer \"as good as randomly assigned.\" It's not hard to imagine that household wealth and urbanity are linked; cost of living is generally higher in urban areas.\n",
    "\n"
   ]
  },
  {
   "cell_type": "code",
   "execution_count": 12,
   "metadata": {},
   "outputs": [
    {
     "data": {
      "image/png": "[encoded data removed]",
      "text/plain": [
       "Plot with title “”"
      ]
     },
     "metadata": {},
     "output_type": "display_data"
    }
   ],
   "source": [
    "g1 <- graph_from_literal(Urban--+Private,Private--+Salary,HHW--+Private,HHW--+Salary, Urban--+HHW)\n",
    "E(g1)$lty <- c(1,2,1,2,2)\n",
    "options(repr.plot.height=5)\n",
    "plot(g1, edge.arrow.size=0.5, edge.color=\"black\", vertex.color=\"white\", vertex.size=5, \n",
    "     vertex.frame.color=\"grey\", vertex.label.color=\"black\", \n",
    "     vertex.label.cex=0.8, vertex.label.dist=1.5, edge.curved=0)"
   ]
  },
  {
   "cell_type": "code",
   "execution_count": 4,
   "metadata": {},
   "outputs": [
    {
     "name": "stdout",
     "output_type": "stream",
     "text": [
      "\n",
      " TRUE \n",
      "50000 \n",
      "[1] 0.9046486\n",
      "\n",
      " TRUE \n",
      "50000 \n"
     ]
    },
    {
     "data": {
      "text/html": [
       "<table>\n",
       "<thead><tr><th scope=col>ID</th><th scope=col>hhw</th><th scope=col>urban0</th><th scope=col>urban1</th><th scope=col>urban</th><th scope=col>private0</th><th scope=col>private1</th><th scope=col>private</th><th scope=col>salary0</th><th scope=col>salary1</th><th scope=col>salary</th></tr></thead>\n",
       "<tbody>\n",
       "\t<tr><td>1        </td><td>1        </td><td>1        </td><td>1        </td><td>1        </td><td>1        </td><td>1        </td><td>1        </td><td> 64717.43</td><td> 74717.43</td><td> 74717.43</td></tr>\n",
       "\t<tr><td>2        </td><td>0        </td><td>0        </td><td>1        </td><td>0        </td><td>0        </td><td>0        </td><td>0        </td><td>131185.69</td><td>141185.69</td><td>131185.69</td></tr>\n",
       "\t<tr><td>3        </td><td>0        </td><td>0        </td><td>1        </td><td>0        </td><td>0        </td><td>1        </td><td>0        </td><td> 47274.26</td><td> 57274.26</td><td> 47274.26</td></tr>\n",
       "\t<tr><td>4        </td><td>1        </td><td>0        </td><td>0        </td><td>0        </td><td>0        </td><td>0        </td><td>0        </td><td> 32573.59</td><td> 42573.59</td><td> 32573.59</td></tr>\n",
       "\t<tr><td>5        </td><td>0        </td><td>0        </td><td>1        </td><td>0        </td><td>0        </td><td>0        </td><td>0        </td><td> 44664.85</td><td> 54664.85</td><td> 44664.85</td></tr>\n",
       "\t<tr><td>6        </td><td>0        </td><td>0        </td><td>0        </td><td>0        </td><td>0        </td><td>0        </td><td>0        </td><td> 41817.56</td><td> 51817.56</td><td> 41817.56</td></tr>\n",
       "</tbody>\n",
       "</table>\n"
      ],
      "text/latex": [
       "\\begin{tabular}{r|lllllllllll}\n",
       " ID & hhw & urban0 & urban1 & urban & private0 & private1 & private & salary0 & salary1 & salary\\\\\n",
       "\\hline\n",
       "\t 1         & 1         & 1         & 1         & 1         & 1         & 1         & 1         &  64717.43 &  74717.43 &  74717.43\\\\\n",
       "\t 2         & 0         & 0         & 1         & 0         & 0         & 0         & 0         & 131185.69 & 141185.69 & 131185.69\\\\\n",
       "\t 3         & 0         & 0         & 1         & 0         & 0         & 1         & 0         &  47274.26 &  57274.26 &  47274.26\\\\\n",
       "\t 4         & 1         & 0         & 0         & 0         & 0         & 0         & 0         &  32573.59 &  42573.59 &  32573.59\\\\\n",
       "\t 5         & 0         & 0         & 1         & 0         & 0         & 0         & 0         &  44664.85 &  54664.85 &  44664.85\\\\\n",
       "\t 6         & 0         & 0         & 0         & 0         & 0         & 0         & 0         &  41817.56 &  51817.56 &  41817.56\\\\\n",
       "\\end{tabular}\n"
      ],
      "text/markdown": [
       "\n",
       "ID | hhw | urban0 | urban1 | urban | private0 | private1 | private | salary0 | salary1 | salary | \n",
       "|---|---|---|---|---|---|\n",
       "| 1         | 1         | 1         | 1         | 1         | 1         | 1         | 1         |  64717.43 |  74717.43 |  74717.43 | \n",
       "| 2         | 0         | 0         | 1         | 0         | 0         | 0         | 0         | 131185.69 | 141185.69 | 131185.69 | \n",
       "| 3         | 0         | 0         | 1         | 0         | 0         | 1         | 0         |  47274.26 |  57274.26 |  47274.26 | \n",
       "| 4         | 1         | 0         | 0         | 0         | 0         | 0         | 0         |  32573.59 |  42573.59 |  32573.59 | \n",
       "| 5         | 0         | 0         | 1         | 0         | 0         | 0         | 0         |  44664.85 |  54664.85 |  44664.85 | \n",
       "| 6         | 0         | 0         | 0         | 0         | 0         | 0         | 0         |  41817.56 |  51817.56 |  41817.56 | \n",
       "\n",
       "\n"
      ],
      "text/plain": [
       "  ID hhw urban0 urban1 urban private0 private1 private salary0   salary1  \n",
       "1 1  1   1      1      1     1        1        1        64717.43  74717.43\n",
       "2 2  0   0      1      0     0        0        0       131185.69 141185.69\n",
       "3 3  0   0      1      0     0        1        0        47274.26  57274.26\n",
       "4 4  1   0      0      0     0        0        0        32573.59  42573.59\n",
       "5 5  0   0      1      0     0        0        0        44664.85  54664.85\n",
       "6 6  0   0      0      0     0        0        0        41817.56  51817.56\n",
       "  salary   \n",
       "1  74717.43\n",
       "2 131185.69\n",
       "3  47274.26\n",
       "4  32573.59\n",
       "5  44664.85\n",
       "6  41817.56"
      ]
     },
     "metadata": {},
     "output_type": "display_data"
    },
    {
     "name": "stdout",
     "output_type": "stream",
     "text": [
      "\n",
      "Call:\n",
      "   felm(formula = salary ~ private, data = df) \n",
      "\n",
      "Residuals:\n",
      "    Min      1Q  Median      3Q     Max \n",
      "-165473  -26963      24   27009  162899 \n",
      "\n",
      "Coefficients:\n",
      "            Estimate Robust s.e t value Pr(>|t|)    \n",
      "(Intercept)  51034.5      238.3  214.19   <2e-16 ***\n",
      "private      18932.1      361.4   52.39   <2e-16 ***\n",
      "---\n",
      "Signif. codes:  0 ‘***’ 0.001 ‘**’ 0.01 ‘*’ 0.05 ‘.’ 0.1 ‘ ’ 1\n",
      "\n",
      "Residual standard error: 40060 on 49998 degrees of freedom\n",
      "Multiple R-squared(full model): 0.05212   Adjusted R-squared: 0.0521 \n",
      "Multiple R-squared(proj model): 0.05212   Adjusted R-squared: 0.0521 \n",
      "F-statistic(full model, *iid*): 2749 on 1 and 49998 DF, p-value: < 2.2e-16 \n",
      "F-statistic(proj model):  2745 on 1 and 49998 DF, p-value: < 2.2e-16 \n",
      "\n",
      "\n"
     ]
    }
   ],
   "source": [
    "#we modify Donghee's code here:\n",
    "set.seed(10)\n",
    "N <- 50000\n",
    "## Create empty dataframe\n",
    "df <- data.frame(\"ID\" = 1:N)\n",
    "\n",
    "##we  randomly assign hh wealth\n",
    "df$hhw <- floor(runif(N, min=0, max=2))\n",
    "\n",
    "##urbanity is now affected by hhw status\n",
    "#we'll use the same potential outcomes framework:\n",
    "df$urban0 <- 0.7*df$hhw + runif(N, min=0, max=1) \n",
    "df$urban1 <- df$urban0 + 0.2\n",
    "df$urban0 <- 1*(df$urban0>1) \n",
    "\n",
    "df$urban1 <- 1*(df$urban1>1)\n",
    "### Check monotonicity\n",
    "print(table(df$urban1>=df$urban0))\n",
    "\n",
    "df$urban <- df$hhw * df$urban1 + (1-df$hhw) * df$urban0\n",
    "\n",
    "print(cor(df$urban, df$hhw))\n",
    "\n",
    "## Now we do the same as before:\n",
    "df$private0 <- 0.7*df$hhw + runif(N, min=0, max=1) # private school decision by non-urban (private if >1)\n",
    "df$private1 <- df$private0 + 0.2 # private school decision by urban (private if >1)\n",
    "df$private0 <- 1*(df$private0>1) # Replace with binary numbers\n",
    "df$private1 <- 1*(df$private1>1)\n",
    "\n",
    "### Check monotonicity\n",
    "print(table(df$private1>=df$private0))\n",
    "\n",
    "## Determine private1 vs private0 based on urban status\n",
    "df$private <- df$urban * df$private1 + (1-df$urban) * df$private0\n",
    "\n",
    "## Simulate earning\n",
    "treatment.effect <- 10000\n",
    "df$salary0 <- 50000 + df$hhw*10000 + rnorm(N, mean=0, sd=40000) ## potential outcome, when attending public (Y0)\n",
    "df$salary1 <- df$salary0 + treatment.effect ## potential outcome, when attending private (Y1)\n",
    "df$salary <- df$private * df$salary1 + (1-df$private) * df$salary0\n",
    "\n",
    "## Some sample data\n",
    "head(df)\n",
    "\n",
    "## Regression result\n",
    "OLS <- felm(salary ~ private, data=df)\n",
    "print(summary(OLS, robust=TRUE))"
   ]
  },
  {
   "cell_type": "markdown",
   "metadata": {},
   "source": [
    "like before, this naive regression overestimates the impact of private school. IV doesn't help though:"
   ]
  },
  {
   "cell_type": "code",
   "execution_count": 5,
   "metadata": {},
   "outputs": [
    {
     "name": "stdout",
     "output_type": "stream",
     "text": [
      "\n",
      "Call:\n",
      "ivreg(formula = salary ~ private | urban, data = df)\n",
      "\n",
      "Residuals:\n",
      "       Min         1Q     Median         3Q        Max \n",
      "-166430.52  -26977.13     -43.04   27007.59  163644.45 \n",
      "\n",
      "Coefficients:\n",
      "            Estimate Std. Error t value Pr(>|t|)    \n",
      "(Intercept)  50289.5      260.1  193.38   <2e-16 ***\n",
      "private      20634.4      430.7   47.91   <2e-16 ***\n",
      "---\n",
      "Signif. codes:  0 ‘***’ 0.001 ‘**’ 0.01 ‘*’ 0.05 ‘.’ 0.1 ‘ ’ 1\n",
      "\n",
      "Residual standard error: 40060 on 49998 degrees of freedom\n",
      "Multiple R-Squared: 0.05169,\tAdjusted R-squared: 0.05168 \n",
      "Wald test:  2296 on 1 and 49998 DF,  p-value: < 2.2e-16 \n",
      "\n"
     ]
    }
   ],
   "source": [
    "#IV approach:\n",
    "IV = ivreg(salary ~ private | urban , data = df)\n",
    "print(summary(IV, robust=TRUE))"
   ]
  },
  {
   "cell_type": "markdown",
   "metadata": {},
   "source": [
    "What's going on here? The IV estimate is overestimating the impact of private school because urbanity is not a perfect instrument.  urbanity is correlated with hhw and hhw is corrrelated with private school, so using urbanity as an instrument is going to overemphasize the amount of high hhw people who chose to private school. This biases the IV estimate of private school on salary even more upwards than the OLS estimate."
   ]
  },
  {
   "cell_type": "code",
   "execution_count": null,
   "metadata": {},
   "outputs": [],
   "source": []
  }
 ],
 "metadata": {
  "kernelspec": {
   "display_name": "R",
   "language": "R",
   "name": "ir"
  },
  "language_info": {
   "codemirror_mode": "r",
   "file_extension": ".r",
   "mimetype": "text/x-r-source",
   "name": "R",
   "pygments_lexer": "r",
   "version": "3.6.1"
  }
 },
 "nbformat": 4,
 "nbformat_minor": 2
}
