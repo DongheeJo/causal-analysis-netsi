{
 "cells": [
  {
   "cell_type": "markdown",
   "metadata": {},
   "source": [
    "# NETSI Special Topic: Causal Analysis\n",
    "## Jupyter notebook on instrumental variable approach (IV)"
   ]
  },
  {
   "cell_type": "code",
   "execution_count": 5,
   "metadata": {
    "scrolled": true
   },
   "outputs": [
    {
     "name": "stderr",
     "output_type": "stream",
     "text": [
      "Installing package into 'C:/Users/quint/OneDrive/Documents/R/win-library/3.6'\n",
      "(as 'lib' is unspecified)\n",
      "also installing the dependencies 'spatial', 'gss', 'stabledist', 'bibtex', 'gbRd', 'truncnorm', 'FNN', 'kernlab', 'mclust', 'multicool', 'DistributionUtils', 'GeneralizedHyperbolic', 'TTR', 'timeDate', 'timeSeries', 'fBasics', 'fastICA', 'fracdiff', 'RcppArmadillo', 'statmod', 'Rdpack', 'cubature', 'quadprog', 'maxLik', 'Rsolnp', 'ks', 'spd', 'xts', 'chron', 'SkewHyperbolic', 'expm', 'miscTools', 'VGAM', 'quantmod', 'dynlm', 'fGarch', 'forecast', 'foreign', 'ineq', 'KernSmooth', 'longmemo', 'mlogit', 'np', 'plm', 'pscl', 'rugarch', 'sampleSelection', 'scatterplot3d', 'strucchange', 'systemfit', 'truncreg', 'tseries', 'urca', 'vars'\n",
      "\n"
     ]
    },
    {
     "name": "stdout",
     "output_type": "stream",
     "text": [
      "\n",
      "  There are binary versions available but the source versions are later:\n",
      "         binary  source needs_compilation\n",
      "longmemo  1.1-1   1.1-2             FALSE\n",
      "np       0.60-9 0.60-10              TRUE\n",
      "AER       1.2-8   1.2-9             FALSE\n",
      "\n",
      "  Binaries will be installed\n",
      "package 'spatial' successfully unpacked and MD5 sums checked\n",
      "package 'gss' successfully unpacked and MD5 sums checked\n",
      "package 'stabledist' successfully unpacked and MD5 sums checked\n",
      "package 'bibtex' successfully unpacked and MD5 sums checked\n",
      "package 'gbRd' successfully unpacked and MD5 sums checked\n",
      "package 'truncnorm' successfully unpacked and MD5 sums checked\n",
      "package 'FNN' successfully unpacked and MD5 sums checked\n",
      "package 'kernlab' successfully unpacked and MD5 sums checked\n",
      "package 'mclust' successfully unpacked and MD5 sums checked\n",
      "package 'multicool' successfully unpacked and MD5 sums checked\n",
      "package 'DistributionUtils' successfully unpacked and MD5 sums checked\n",
      "package 'GeneralizedHyperbolic' successfully unpacked and MD5 sums checked\n",
      "package 'TTR' successfully unpacked and MD5 sums checked\n",
      "package 'timeDate' successfully unpacked and MD5 sums checked\n",
      "package 'timeSeries' successfully unpacked and MD5 sums checked\n",
      "package 'fBasics' successfully unpacked and MD5 sums checked\n",
      "package 'fastICA' successfully unpacked and MD5 sums checked\n",
      "package 'fracdiff' successfully unpacked and MD5 sums checked\n",
      "package 'RcppArmadillo' successfully unpacked and MD5 sums checked\n",
      "package 'statmod' successfully unpacked and MD5 sums checked\n",
      "package 'Rdpack' successfully unpacked and MD5 sums checked\n",
      "package 'cubature' successfully unpacked and MD5 sums checked\n",
      "package 'quadprog' successfully unpacked and MD5 sums checked\n",
      "package 'maxLik' successfully unpacked and MD5 sums checked\n",
      "package 'Rsolnp' successfully unpacked and MD5 sums checked\n",
      "package 'ks' successfully unpacked and MD5 sums checked\n",
      "package 'spd' successfully unpacked and MD5 sums checked\n",
      "package 'xts' successfully unpacked and MD5 sums checked\n",
      "package 'chron' successfully unpacked and MD5 sums checked\n",
      "package 'SkewHyperbolic' successfully unpacked and MD5 sums checked\n",
      "package 'expm' successfully unpacked and MD5 sums checked\n",
      "package 'miscTools' successfully unpacked and MD5 sums checked\n",
      "package 'VGAM' successfully unpacked and MD5 sums checked\n",
      "package 'quantmod' successfully unpacked and MD5 sums checked\n",
      "package 'dynlm' successfully unpacked and MD5 sums checked\n",
      "package 'fGarch' successfully unpacked and MD5 sums checked\n",
      "package 'forecast' successfully unpacked and MD5 sums checked\n",
      "package 'foreign' successfully unpacked and MD5 sums checked\n",
      "package 'ineq' successfully unpacked and MD5 sums checked\n",
      "package 'KernSmooth' successfully unpacked and MD5 sums checked\n",
      "package 'mlogit' successfully unpacked and MD5 sums checked\n",
      "package 'np' successfully unpacked and MD5 sums checked\n",
      "package 'plm' successfully unpacked and MD5 sums checked\n",
      "package 'pscl' successfully unpacked and MD5 sums checked\n",
      "package 'rugarch' successfully unpacked and MD5 sums checked\n",
      "package 'sampleSelection' successfully unpacked and MD5 sums checked\n",
      "package 'scatterplot3d' successfully unpacked and MD5 sums checked\n",
      "package 'strucchange' successfully unpacked and MD5 sums checked\n",
      "package 'systemfit' successfully unpacked and MD5 sums checked\n",
      "package 'truncreg' successfully unpacked and MD5 sums checked\n",
      "package 'tseries' successfully unpacked and MD5 sums checked\n",
      "package 'urca' successfully unpacked and MD5 sums checked\n",
      "package 'vars' successfully unpacked and MD5 sums checked\n",
      "\n",
      "The downloaded binary packages are in\n",
      "\tC:\\Users\\quint\\AppData\\Local\\Temp\\RtmpKS7tTe\\downloaded_packages\n"
     ]
    },
    {
     "name": "stderr",
     "output_type": "stream",
     "text": [
      "installing the source packages 'longmemo', 'AER'\n",
      "\n",
      "Loading required package: car\n",
      "Warning message:\n",
      "\"package 'car' was built under R version 3.6.2\"Loading required package: lmtest\n",
      "Warning message:\n",
      "\"package 'lmtest' was built under R version 3.6.2\"Loading required package: zoo\n",
      "\n",
      "Attaching package: 'zoo'\n",
      "\n",
      "The following objects are masked from 'package:base':\n",
      "\n",
      "    as.Date, as.Date.numeric\n",
      "\n",
      "\n",
      "Attaching package: 'lmtest'\n",
      "\n",
      "The following object is masked from 'package:lfe':\n",
      "\n",
      "    waldtest\n",
      "\n",
      "Loading required package: sandwich\n",
      "Loading required package: survival\n",
      "Warning message:\n",
      "\"package 'survival' was built under R version 3.6.2\""
     ]
    }
   ],
   "source": [
    "## Set seed and parameters\n",
    "install.packages(\"AER\", dependencies=TRUE)\n",
    "library(lfe) # for OLS (easier robust SE)\n",
    "library(AER) # for IV\n",
    "set.seed(10)\n",
    "N <- 50000"
   ]
  },
  {
   "cell_type": "markdown",
   "metadata": {},
   "source": [
    "### Naive OLS\n",
    "Causal link from private to salary is confounded by the household wealth, as in the last notebook."
   ]
  },
  {
   "cell_type": "code",
   "execution_count": 30,
   "metadata": {},
   "outputs": [
    {
     "name": "stdout",
     "output_type": "stream",
     "text": [
      "\n",
      " TRUE \n",
      "50000 \n"
     ]
    },
    {
     "data": {
      "text/html": [
       "<table>\n",
       "<thead><tr><th scope=col>ID</th><th scope=col>urban</th><th scope=col>hhw</th><th scope=col>private0</th><th scope=col>private1</th><th scope=col>private</th><th scope=col>salary0</th><th scope=col>salary1</th><th scope=col>salary</th></tr></thead>\n",
       "<tbody>\n",
       "\t<tr><td>1         </td><td>0         </td><td>0         </td><td>0         </td><td>0         </td><td>0         </td><td> 86007.84 </td><td> 96007.839</td><td> 86007.84 </td></tr>\n",
       "\t<tr><td>2         </td><td>1         </td><td>0         </td><td>0         </td><td>0         </td><td>0         </td><td> 84303.19 </td><td> 94303.189</td><td> 84303.19 </td></tr>\n",
       "\t<tr><td>3         </td><td>0         </td><td>1         </td><td>1         </td><td>1         </td><td>1         </td><td>123235.57 </td><td>133235.573</td><td>133235.57 </td></tr>\n",
       "\t<tr><td>4         </td><td>0         </td><td>1         </td><td>0         </td><td>1         </td><td>0         </td><td> 37281.96 </td><td> 47281.958</td><td> 37281.96 </td></tr>\n",
       "\t<tr><td>5         </td><td>1         </td><td>0         </td><td>0         </td><td>1         </td><td>1         </td><td> 21890.97 </td><td> 31890.966</td><td> 31890.97 </td></tr>\n",
       "\t<tr><td>6         </td><td>1         </td><td>1         </td><td>0         </td><td>0         </td><td>0         </td><td>-16241.50 </td><td> -6241.497</td><td>-16241.50 </td></tr>\n",
       "</tbody>\n",
       "</table>\n"
      ],
      "text/latex": [
       "\\begin{tabular}{r|lllllllll}\n",
       " ID & urban & hhw & private0 & private1 & private & salary0 & salary1 & salary\\\\\n",
       "\\hline\n",
       "\t 1          & 0          & 0          & 0          & 0          & 0          &  86007.84  &  96007.839 &  86007.84 \\\\\n",
       "\t 2          & 1          & 0          & 0          & 0          & 0          &  84303.19  &  94303.189 &  84303.19 \\\\\n",
       "\t 3          & 0          & 1          & 1          & 1          & 1          & 123235.57  & 133235.573 & 133235.57 \\\\\n",
       "\t 4          & 0          & 1          & 0          & 1          & 0          &  37281.96  &  47281.958 &  37281.96 \\\\\n",
       "\t 5          & 1          & 0          & 0          & 1          & 1          &  21890.97  &  31890.966 &  31890.97 \\\\\n",
       "\t 6          & 1          & 1          & 0          & 0          & 0          & -16241.50  &  -6241.497 & -16241.50 \\\\\n",
       "\\end{tabular}\n"
      ],
      "text/markdown": [
       "\n",
       "| ID | urban | hhw | private0 | private1 | private | salary0 | salary1 | salary |\n",
       "|---|---|---|---|---|---|---|---|---|\n",
       "| 1          | 0          | 0          | 0          | 0          | 0          |  86007.84  |  96007.839 |  86007.84  |\n",
       "| 2          | 1          | 0          | 0          | 0          | 0          |  84303.19  |  94303.189 |  84303.19  |\n",
       "| 3          | 0          | 1          | 1          | 1          | 1          | 123235.57  | 133235.573 | 133235.57  |\n",
       "| 4          | 0          | 1          | 0          | 1          | 0          |  37281.96  |  47281.958 |  37281.96  |\n",
       "| 5          | 1          | 0          | 0          | 1          | 1          |  21890.97  |  31890.966 |  31890.97  |\n",
       "| 6          | 1          | 1          | 0          | 0          | 0          | -16241.50  |  -6241.497 | -16241.50  |\n",
       "\n"
      ],
      "text/plain": [
       "  ID urban hhw private0 private1 private salary0   salary1    salary   \n",
       "1 1  0     0   0        0        0        86007.84  96007.839  86007.84\n",
       "2 2  1     0   0        0        0        84303.19  94303.189  84303.19\n",
       "3 3  0     1   1        1        1       123235.57 133235.573 133235.57\n",
       "4 4  0     1   0        1        0        37281.96  47281.958  37281.96\n",
       "5 5  1     0   0        1        1        21890.97  31890.966  31890.97\n",
       "6 6  1     1   0        0        0       -16241.50  -6241.497 -16241.50"
      ]
     },
     "metadata": {},
     "output_type": "display_data"
    },
    {
     "name": "stdout",
     "output_type": "stream",
     "text": [
      "\n",
      "Call:\n",
      "   felm(formula = salary ~ private, data = df) \n",
      "\n",
      "Residuals:\n",
      "    Min      1Q  Median      3Q     Max \n",
      "-176922  -27180    -122   27316  164834 \n",
      "\n",
      "Coefficients:\n",
      "            Estimate Robust s.e t value Pr(>|t|)    \n",
      "(Intercept)  51903.0      243.4  213.23   <2e-16 ***\n",
      "private      16378.6      362.7   45.16   <2e-16 ***\n",
      "---\n",
      "Signif. codes:  0 '***' 0.001 '**' 0.01 '*' 0.05 '.' 0.1 ' ' 1\n",
      "\n",
      "Residual standard error: 40350 on 49998 degrees of freedom\n",
      "Multiple R-squared(full model): 0.03913   Adjusted R-squared: 0.03911 \n",
      "Multiple R-squared(proj model): 0.03913   Adjusted R-squared: 0.03911 \n",
      "F-statistic(full model, *iid*): 2036 on 1 and 49998 DF, p-value: < 2.2e-16 \n",
      "F-statistic(proj model):  2040 on 1 and 49998 DF, p-value: < 2.2e-16 \n",
      "\n",
      "\n"
     ]
    }
   ],
   "source": [
    "## Create empty dataframe\n",
    "df <- data.frame(\"ID\" = 1:N)\n",
    "\n",
    "## Simulate location (we'll assume private schools are only in urban area)\n",
    "df$urban <- floor(runif(N, min=0, max=2))\n",
    "\n",
    "## Simulate household wealth\n",
    "### Let's assume that what matters is HH wealth is > 1M or not (specific amount does not matter)\n",
    "df$hhw <- floor(runif(N, min=0, max=2))\n",
    "\n",
    "## Simulate the kid's decision to attend private college \n",
    "### Instead of completely random, more likely to attend private college if from wealthy HH\n",
    "### Living in urban area can sometimes turn decision toward attending private (but not vice versa)\n",
    "### Let's follow potential outcomes approach and simulate both private0 (D0) and private1 (D1)\n",
    "df$private0 <- 0.7*df$hhw + runif(N, min=0, max=1) # private school decision by non-urban (private if >1)\n",
    "df$private1 <- df$private0 + 0.2 # private school decision by urban (private if >1)\n",
    "df$private0 <- 1*(df$private0>1) # Replace with binary numbers\n",
    "df$private1 <- 1*(df$private1>1)\n",
    "\n",
    "### Check monotonicity\n",
    "print(table(df$private1>=df$private0))\n",
    "\n",
    "## Determine private1 vs private0 based on urban status\n",
    "df$private <- df$urban * df$private1 + (1-df$urban) * df$private0\n",
    "\n",
    "## Simulate earning\n",
    "treatment.effect <- 10000\n",
    "df$salary0 <- 50000 + df$hhw*10000 + rnorm(N, mean=0, sd=40000) ## potential outcome, when attending public (Y0)\n",
    "df$salary1 <- df$salary0 + treatment.effect ## potential outcome, when attending private (Y1)\n",
    "df$salary <- df$private * df$salary1 + (1-df$private) * df$salary0\n",
    "\n",
    "## Some sample data\n",
    "head(df)\n",
    "\n",
    "## Regression result\n",
    "OLS <- felm(salary ~ private, data=df)\n",
    "print(summary(OLS, robust=TRUE))"
   ]
  },
  {
   "cell_type": "markdown",
   "metadata": {},
   "source": [
    "### Instrumental variable approach\n",
    "\n",
    "As you can see above, we get biased result when we run this Naive regression. Suppose we don't observe household wealth, so including household wealth in our regression is impossible. What can we do?\n",
    "\n",
    "Fortunately, we have an instrument: urban affects wage only through private (exclusion), being urban can only make you to attend private college (monotonicity), and being in urban is not correlated with private school potential outcomes and wage potential outcomes (exogeneity).\n",
    "\n",
    "Using this, we can run IV and get unbiased estimate for the causal effect of interest."
   ]
  },
  {
   "cell_type": "code",
   "execution_count": 51,
   "metadata": {},
   "outputs": [
    {
     "name": "stdout",
     "output_type": "stream",
     "text": [
      "\n",
      "Call:\n",
      "ivreg(formula = salary ~ private | urban, data = df)\n",
      "\n",
      "Residuals:\n",
      "      Min        1Q    Median        3Q       Max \n",
      "-180704.4  -27403.3    -163.5   27425.0  168830.3 \n",
      "\n",
      "Coefficients:\n",
      "            Estimate Std. Error t value Pr(>|t|)    \n",
      "(Intercept)  55685.2      817.8  68.094  < 2e-16 ***\n",
      "private       7912.7     1784.8   4.433  9.3e-06 ***\n",
      "---\n",
      "Signif. codes:  0 '***' 0.001 '**' 0.01 '*' 0.05 '.' 0.1 ' ' 1\n",
      "\n",
      "Residual standard error: 40570 on 49998 degrees of freedom\n",
      "Multiple R-Squared: 0.02868,\tAdjusted R-squared: 0.02866 \n",
      "Wald test: 19.65 on 1 and 49998 DF,  p-value: 9.299e-06 \n",
      "\n"
     ]
    }
   ],
   "source": [
    "IV = ivreg(salary ~ private | urban , data = df)\n",
    "print(summary(IV, robust=TRUE))"
   ]
  },
  {
   "cell_type": "code",
   "execution_count": 43,
   "metadata": {},
   "outputs": [
    {
     "name": "stdout",
     "output_type": "stream",
     "text": [
      "[1] 7912.739\n"
     ]
    }
   ],
   "source": [
    "## Check the result from ivreg is equivalent to FS/RF\n",
    "FS <- felm(private ~ urban, data = df)\n",
    "RF <- felm(salary ~ urban, data = df)\n",
    "FS.coef <- coef(summary(FS))[\"urban\",1]\n",
    "RF.coef <- coef(summary(RF))[\"urban\",1]\n",
    "print(RF.coef/FS.coef)"
   ]
  },
  {
   "cell_type": "markdown",
   "metadata": {},
   "source": [
    "### Causal relationship of the previous simulation represented by DAG"
   ]
  },
  {
   "cell_type": "code",
   "execution_count": 44,
   "metadata": {},
   "outputs": [],
   "source": [
    "library(igraph) # Some igraph tutorial: https://kateto.net/netscix2016.html"
   ]
  },
  {
   "cell_type": "code",
   "execution_count": 45,
   "metadata": {},
   "outputs": [
    {
     "data": {
      "image/png": "[encoded data removed]",
      "text/plain": [
       "Plot with title \"\""
      ]
     },
     "metadata": {},
     "output_type": "display_data"
    }
   ],
   "source": [
    "g1 <- graph_from_literal(Urban--+Private,Private--+Salary,HHW--+Private,HHW--+Salary)\n",
    "E(g1)$lty <- c(1,1,2,2)\n",
    "options(repr.plot.height=5)\n",
    "plot(g1, edge.arrow.size=0.5, edge.color=\"black\", vertex.color=\"white\", vertex.size=5, \n",
    "     vertex.frame.color=\"grey\", vertex.label.color=\"black\", \n",
    "     vertex.label.cex=0.8, vertex.label.dist=1.5, edge.curved=0)"
   ]
  },
  {
   "cell_type": "markdown",
   "metadata": {},
   "source": [
    "### LATE\n",
    "To demonstrate that the treatment effect that we're identifying is treatment effect of compliers, let's give much bigger treatment effect to always-takers and never-takers this time."
   ]
  },
  {
   "cell_type": "code",
   "execution_count": 58,
   "metadata": {},
   "outputs": [
    {
     "name": "stdout",
     "output_type": "stream",
     "text": [
      "\n",
      "Call:\n",
      "ivreg(formula = salary ~ private | urban, data = df.late)\n",
      "\n",
      "Residuals:\n",
      "    Min      1Q  Median      3Q     Max \n",
      "-183973  -28659    -200   28372  172182 \n",
      "\n",
      "Coefficients:\n",
      "            Estimate Std. Error t value Pr(>|t|)    \n",
      "(Intercept)  61913.8      851.6  72.706  < 2e-16 ***\n",
      "private      10071.9     1858.6   5.419 6.02e-08 ***\n",
      "---\n",
      "Signif. codes:  0 '***' 0.001 '**' 0.01 '*' 0.05 '.' 0.1 ' ' 1\n",
      "\n",
      "Residual standard error: 42250 on 49998 degrees of freedom\n",
      "Multiple R-Squared: 0.06916,\tAdjusted R-squared: 0.06914 \n",
      "Wald test: 29.37 on 1 and 49998 DF,  p-value: 6.018e-08 \n",
      "\n"
     ]
    }
   ],
   "source": [
    "df.late <- df\n",
    "te.compliers <- 10000\n",
    "te.others <- 30000 # 10 times bigger treatment effect\n",
    "\n",
    "## potential outcome, when attending public (Y0)\n",
    "df.late$salary0 <- 50000 + df.late$hhw*10000 + rnorm(N, mean=0, sd=40000)\n",
    "\n",
    "## potential outcome, when attending private (Y1)\n",
    "df.late$salary1 <- df.late$salary0 + \n",
    "                    te.compliers*(df.late$private1>df.late$private0) +\n",
    "                    te.others*(df.late$private1==df.late$private0)\n",
    "df.late$salary <- df.late$private * df.late$salary1 + (1-df.late$private) * df.late$salary0\n",
    "\n",
    "## IV\n",
    "IV = ivreg(salary ~ private | urban , data = df.late)\n",
    "print(summary(IV, robust=TRUE))\n",
    "\n",
    "### Check that the result ~= treatment effect that we gave to the compliers"
   ]
  },
  {
   "cell_type": "markdown",
   "metadata": {},
   "source": [
    "### Violations of IV assumptions\n",
    "Now let's take a look at one of the cases where IV assumptions are violated. One example of IV assumption violation is when there is direct effect of being in urban area on our outcome variable (salary). Let's first draw DAG representing this situation, and then simulate it."
   ]
  },
  {
   "cell_type": "code",
   "execution_count": 38,
   "metadata": {},
   "outputs": [
    {
     "data": {
      "image/png": "[encoded data removed]",
      "text/plain": [
       "Plot with title \"\""
      ]
     },
     "metadata": {},
     "output_type": "display_data"
    }
   ],
   "source": [
    "g1 <- graph_from_literal(Urban--+Private,Private--+Salary,HHW--+Private,HHW--+Salary,Urban--+Salary)\n",
    "E(g1)$lty <- c(1,1,1,2,2)\n",
    "options(repr.plot.height=5)\n",
    "plot(g1, edge.arrow.size=0.5, edge.color=\"black\", vertex.color=\"white\", vertex.size=5, \n",
    "     vertex.frame.color=\"grey\", vertex.label.color=\"black\", \n",
    "     vertex.label.cex=0.8, vertex.label.dist=1.5, edge.curved=0.1)"
   ]
  },
  {
   "cell_type": "code",
   "execution_count": 39,
   "metadata": {},
   "outputs": [
    {
     "name": "stdout",
     "output_type": "stream",
     "text": [
      "\n",
      "Call:\n",
      "ivreg(formula = salary ~ private | urban, data = df.v)\n",
      "\n",
      "Residuals:\n",
      "    Min      1Q  Median      3Q     Max \n",
      "-199353  -30645      39   31264  185223 \n",
      "\n",
      "Coefficients:\n",
      "            Estimate Std. Error t value Pr(>|t|)    \n",
      "(Intercept)  37443.7      913.5   40.99   <2e-16 ***\n",
      "private      60211.6     1993.7   30.20   <2e-16 ***\n",
      "---\n",
      "Signif. codes:  0 '***' 0.001 '**' 0.01 '*' 0.05 '.' 0.1 ' ' 1\n",
      "\n",
      "Residual standard error: 45320 on 49998 degrees of freedom\n",
      "Multiple R-Squared: -0.1926,\tAdjusted R-squared: -0.1926 \n",
      "Wald test: 912.1 on 1 and 49998 DF,  p-value: < 2.2e-16 \n",
      "\n"
     ]
    }
   ],
   "source": [
    "df.v <- df\n",
    "\n",
    "## Simulate earning\n",
    "treatment.effect <- 10000\n",
    "df.v$salary0 <- 50000 + df.v$hhw*10000 + 10000*df.v$urban + rnorm(N, mean=0, sd=40000) ## potential outcome, when attending public (Y0)\n",
    "df.v$salary1 <- df.v$salary0 + treatment.effect ## potential outcome, when attending private (Y1)\n",
    "df.v$salary <- df.v$private * df.v$salary1 + (1-df.v$private) * df.v$salary0\n",
    "\n",
    "## IV\n",
    "IV = ivreg(salary ~ private | urban , data = df.v)\n",
    "print(summary(IV, robust=TRUE))\n",
    "\n",
    "### As you can see, this can introduce pretty serious problem..."
   ]
  },
  {
   "cell_type": "markdown",
   "metadata": {},
   "source": [
    "### Exercise\n",
    "Show a simulation exercise where another IV assumption is violoated."
   ]
  },
  {
   "cell_type": "markdown",
   "metadata": {},
   "source": [
    "I will show a situation where the monotonicity condition is violated. In this case, this means that living in a urban area can not only turn the schooling decision towards private education but also sometimes toward public education.\n",
    "I generate the private potential outcomes in the same way as before, but now when the urban variable is 1 the subject will be more likely to go in a private school in 90% of the cases, and it will be less likely to do so in 10% of the cases."
   ]
  },
  {
   "cell_type": "code",
   "execution_count": 218,
   "metadata": {},
   "outputs": [
    {
     "name": "stdout",
     "output_type": "stream",
     "text": [
      "\n",
      "Call:\n",
      "ivreg(formula = salary ~ private | urban, data = df.vM)\n",
      "\n",
      "Residuals:\n",
      "      Min        1Q    Median        3Q       Max \n",
      "-179543.4  -26925.1     341.5   26847.2  165772.5 \n",
      "\n",
      "Coefficients:\n",
      "            Estimate Std. Error t value Pr(>|t|)    \n",
      "(Intercept)  53926.4      929.2  58.038  < 2e-16 ***\n",
      "private      12344.7     2115.8   5.834 5.43e-09 ***\n",
      "---\n",
      "Signif. codes:  0 '***' 0.001 '**' 0.01 '*' 0.05 '.' 0.1 ' ' 1\n",
      "\n",
      "Residual standard error: 39980 on 49998 degrees of freedom\n",
      "Multiple R-Squared: 0.04011,\tAdjusted R-squared: 0.04009 \n",
      "Wald test: 34.04 on 1 and 49998 DF,  p-value: 5.429e-09 \n",
      "\n"
     ]
    }
   ],
   "source": [
    "df.vM <- df\n",
    "\n",
    "UrbanEffectTresh = 0.9 #probability of decreased likelihood of private school when living in a urban zone\n",
    "df.vM$private0 <- 0.7*df.vM$hhw + runif(N, min=0, max=1) \n",
    "df.vM$private1 <- df.vM$private0 + ifelse(runif(N,min=0,max=1)>UrbanEffectTresh, -0.2, 0.2)\n",
    "df.vM$private0 <- 1*(df.vM$private0>1)\n",
    "df.vM$private1 <- 1*(df.vM$private1>1)\n",
    "df.vM$private <- df.vM$urban * df.vM$private1 + (1-df.vM$urban) * df.vM$private0\n",
    "\n",
    "## Simulate earning\n",
    "treatment.effect <- 10000\n",
    "df.vM$salary0 <- 50000 + df.vM$hhw*10000 + rnorm(N, mean=0, sd=40000) ## potential outcome, when attending public (Y0)\n",
    "df.vM$salary1 <- df.vM$salary0 + treatment.effect ## potential outcome, when attending private (Y1)\n",
    "df.vM$salary <- df.vM$private * df.vM$salary1 + (1-df.vM$private) * df.vM$salary0\n",
    "IV = ivreg(salary ~ private | urban , data = df.vM)\n",
    "print(summary(IV, robust=TRUE))\n"
   ]
  },
  {
   "cell_type": "markdown",
   "metadata": {},
   "source": [
    "It seems the estimate for private is substantially larger than the treatment effect, but the difference could still be due to chance. Let's try with a larger number of defiers, that is, with a larger probability that living in an urban area decreases the likelihood of going to private school."
   ]
  },
  {
   "cell_type": "code",
   "execution_count": 168,
   "metadata": {},
   "outputs": [
    {
     "name": "stdout",
     "output_type": "stream",
     "text": [
      "\n",
      "Call:\n",
      "ivreg(formula = salary ~ private | urban, data = df.vM)\n",
      "\n",
      "Residuals:\n",
      "      Min        1Q    Median        3Q       Max \n",
      "-151956.9  -27213.8    -136.5   27600.4  170255.3 \n",
      "\n",
      "Coefficients:\n",
      "            Estimate Std. Error t value Pr(>|t|)    \n",
      "(Intercept)    55504       2830  19.616   <2e-16 ***\n",
      "private         8525       7639   1.116    0.264    \n",
      "---\n",
      "Signif. codes:  0 '***' 0.001 '**' 0.01 '*' 0.05 '.' 0.1 ' ' 1\n",
      "\n",
      "Residual standard error: 40460 on 49998 degrees of freedom\n",
      "Multiple R-Squared: 0.0303,\tAdjusted R-squared: 0.03028 \n",
      "Wald test: 1.245 on 1 and 49998 DF,  p-value: 0.2645 \n",
      "\n"
     ]
    }
   ],
   "source": [
    "df.vM <- df\n",
    "\n",
    "\n",
    "UrbanEffectTresh = 0.5   #probability of decreased likelihood of private school when living in a urban zone\n",
    "df.vM$private0 <- 0.7*df.vM$hhw + runif(N, min=0, max=1) \n",
    "df.vM$private1 <- df.vM$private0 + ifelse(runif(N,min=0,max=1)>UrbanEffectTresh, -0.2, 0.2) \n",
    "df.vM$private0 <- 1*(df.vM$private0>1) \n",
    "df.vM$private1 <- 1*(df.vM$private1>1)\n",
    "df.vM$private <- df.vM$urban * df.vM$private1 + (1-df.vM$urban) * df.vM$private0\n",
    "\n",
    "## Simulate earning\n",
    "treatment.effect <- 10000\n",
    "df.vM$salary0 <- 50000 + df.vM$hhw*10000 + rnorm(N, mean=0, sd=40000) ## potential outcome, when attending public (Y0)\n",
    "df.vM$salary1 <- df.vM$salary0 + treatment.effect ## potential outcome, when attending private (Y1)\n",
    "df.vM$salary <- df.vM$private * df.vM$salary1 + (1-df.vM$private) * df.vM$salary0\n",
    "IV = ivreg(salary ~ private | urban , data = df.vM)\n",
    "print(summary(IV, robust=TRUE))"
   ]
  },
  {
   "cell_type": "markdown",
   "metadata": {},
   "source": [
    "Now the estimate is actually smaller than the treatment effect, and much closer to it, what is surprising. The only option left is to increase the effect of the urban variable itself. "
   ]
  },
  {
   "cell_type": "code",
   "execution_count": 169,
   "metadata": {},
   "outputs": [
    {
     "name": "stdout",
     "output_type": "stream",
     "text": [
      "\n",
      "Call:\n",
      "ivreg(formula = salary ~ private | urban, data = df.vM)\n",
      "\n",
      "Residuals:\n",
      "      Min        1Q    Median        3Q       Max \n",
      "-170644.1  -27609.9    -296.9   27562.2  166831.3 \n",
      "\n",
      "Coefficients:\n",
      "            Estimate Std. Error t value Pr(>|t|)    \n",
      "(Intercept)    58312       2035  28.658   <2e-16 ***\n",
      "private         1492       5244   0.285    0.776    \n",
      "---\n",
      "Signif. codes:  0 '***' 0.001 '**' 0.01 '*' 0.05 '.' 0.1 ' ' 1\n",
      "\n",
      "Residual standard error: 40780 on 49998 degrees of freedom\n",
      "Multiple R-Squared: 0.00612,\tAdjusted R-squared: 0.0061 \n",
      "Wald test: 0.08098 on 1 and 49998 DF,  p-value: 0.776 \n",
      "\n"
     ]
    }
   ],
   "source": [
    "df.vM <- df\n",
    "\n",
    "\n",
    "UrbanEffectTresh = 0.5   #probability of decreased likelihood of private school when living in a urban zone\n",
    "df.vM$private0 <- 0.7*df.vM$hhw + runif(N, min=0, max=1) \n",
    "df.vM$private1 <- df.vM$private0 + ifelse(runif(N,min=0,max=1)>UrbanEffectTresh, -0.5, 0.5) \n",
    "df.vM$private0 <- 1*(df.vM$private0>1)\n",
    "df.vM$private1 <- 1*(df.vM$private1>1)\n",
    "df.vM$private <- df.vM$urban * df.vM$private1 + (1-df.vM$urban) * df.vM$private0\n",
    "\n",
    "## Simulate earning\n",
    "treatment.effect <- 10000\n",
    "df.vM$salary0 <- 50000 + df.vM$hhw*10000 + rnorm(N, mean=0, sd=40000) ## potential outcome, when attending public (Y0)\n",
    "df.vM$salary1 <- df.vM$salary0 + treatment.effect ## potential outcome, when attending private (Y1)\n",
    "df.vM$salary <- df.vM$private * df.vM$salary1 + (1-df.vM$private) * df.vM$salary0\n",
    "IV = ivreg(salary ~ private | urban , data = df.vM)\n",
    "print(summary(IV, robust=TRUE))"
   ]
  },
  {
   "cell_type": "markdown",
   "metadata": {},
   "source": [
    "With this modification the estimate for private is now clearly below the treatment effect, and is not significative. However, it is not clear how the violation of the monotonicity assumption affects the estimate, if it is by increasing or decreasing it. It seems, in addition, that the errors for the estimate are now larger than they were before. To get a better grasp at what is happening here, I will now run 100 simulations for values of the UrbanEffectTreshold from 1 to 0.5, keeping a strong effect of the Urban variable as it is in the previous simulation. "
   ]
  },
  {
   "cell_type": "code",
   "execution_count": 208,
   "metadata": {},
   "outputs": [],
   "source": [
    "estimates <- matrix(nrow = 6, ncol = 100)\n",
    "UrbanEffectTreshs = seq(1,0.5,-0.1)\n",
    "\n",
    "for(i in 1:6) {\n",
    "    for(sim in 1:100) {        \n",
    "        df.vM <- df        \n",
    "        df.vM$private0 <- 0.7*df.vM$hhw + runif(N, min=0, max=1) \n",
    "        df.vM$private1 <- df.vM$private0 + ifelse(runif(N,min=0,max=1)>UrbanEffectTreshs[i], -0.5, 0.5) \n",
    "        df.vM$private0 <- 1*(df.vM$private0>1)\n",
    "        df.vM$private1 <- 1*(df.vM$private1>1)\n",
    "        df.vM$private <- df.vM$urban * df.vM$private1 + (1-df.vM$urban) * df.vM$private0\n",
    "\n",
    "        ## Simulate earning\n",
    "        treatment.effect <- 10000\n",
    "        df.vM$salary0 <- 50000 + df.vM$hhw*10000 + rnorm(N, mean=0, sd=40000) ## potential outcome, when attending public (Y0)\n",
    "        df.vM$salary1 <- df.vM$salary0 + treatment.effect ## potential outcome, when attending private (Y1)\n",
    "        df.vM$salary <- df.vM$private * df.vM$salary1 + (1-df.vM$private) * df.vM$salary0\n",
    "        IV = ivreg(salary ~ private | urban , data = df.vM)\n",
    "        estimates[i,sim] = IV$coefficients[2]\n",
    "    }\n",
    "}\n"
   ]
  },
  {
   "cell_type": "markdown",
   "metadata": {},
   "source": [
    "Plotting simple histograms of the estimates for each treshold will give an overview of the effect, as well as calculating the mean and standard deviation of the estimates:"
   ]
  },
  {
   "cell_type": "code",
   "execution_count": 217,
   "metadata": {
    "scrolled": false
   },
   "outputs": [
    {
     "name": "stdout",
     "output_type": "stream",
     "text": [
      "[1]  9944.076 10082.915  9680.551  9762.296 10003.703  8925.196\n",
      "[1]  814.7989 1082.3532 1418.6176 1710.3211 2468.8285 4855.0024\n"
     ]
    },
    {
     "data": {
      "image/png": "[encoded data removed]",
      "text/plain": [
       "Plot with title \"Proportion of defiers =  0.5\""
      ]
     },
     "metadata": {},
     "output_type": "display_data"
    }
   ],
   "source": [
    "par(mfrow=c(2,3))\n",
    "for(row in 1:6) {\n",
    "    \n",
    "    hist(estimates[row,], breaks = 20, pin = c(0.1,0.1), main = paste(\"Proportion of defiers = \", as.character(1-UrbanEffectTreshs[row])))\n",
    "}\n",
    "print(apply(estimates,1,mean))\n",
    "print(apply(estimates,1,sd))"
   ]
  },
  {
   "cell_type": "markdown",
   "metadata": {},
   "source": [
    "It seems introducing more defiers does not introduce bias to the value of the estimate, as the different values for each treshold are broadly centered around the real value of the treatment effect, but instead increases the variance for this estimate, what in the more extreme cases can even lead to a negative estimate. However, a large proportion of defiers seems to be needed for this violation of the monotonicity assumption to have an important impact."
   ]
  },
  {
   "cell_type": "code",
   "execution_count": null,
   "metadata": {},
   "outputs": [],
   "source": []
  }
 ],
 "metadata": {
  "kernelspec": {
   "display_name": "R",
   "language": "R",
   "name": "ir"
  },
  "language_info": {
   "codemirror_mode": "r",
   "file_extension": ".r",
   "mimetype": "text/x-r-source",
   "name": "R",
   "pygments_lexer": "r",
   "version": "3.6.1"
  }
 },
 "nbformat": 4,
 "nbformat_minor": 2
}
