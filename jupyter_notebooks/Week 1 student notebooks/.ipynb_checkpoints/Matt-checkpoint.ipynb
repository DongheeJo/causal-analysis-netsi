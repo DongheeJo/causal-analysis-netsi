{
 "cells": [
  {
   "cell_type": "markdown",
   "metadata": {},
   "source": [
    "## Regression Gone Astry"
   ]
  },
  {
   "cell_type": "markdown",
   "metadata": {},
   "source": [
    "##### By Matthew Simonson"
   ]
  },
  {
   "cell_type": "markdown",
   "metadata": {},
   "source": [
    "#### In this notebook, we simulate Judea Pearl's somewhat contrived justification for why we need DAGs: the infamous M-bias!"
   ]
  },
  {
   "cell_type": "code",
   "execution_count": 1,
   "metadata": {},
   "outputs": [],
   "source": [
    "set.seed(20015)"
   ]
  },
  {
   "cell_type": "markdown",
   "metadata": {},
   "source": [
    "According to Pearl's setup, $x \\to y$ as usual and $x$ and $y$ each have an additional cause: $a \\to x$ and $b \\to y$. But those proximate causes $a$ and $b$ also cause another variable, $m$: \n",
    "\n",
    "$ x \\leftarrow a \\to m \\leftarrow b \\to y$"
   ]
  },
  {
   "cell_type": "code",
   "execution_count": 2,
   "metadata": {},
   "outputs": [],
   "source": [
    "a <- 10*runif(1000)\n",
    "b <- 10*runif(1000)\n",
    "x <- a + runif(1000)\n",
    "y <- x + b + runif(1000)\n",
    "m <- a + b + runif(1000)"
   ]
  },
  {
   "cell_type": "markdown",
   "metadata": {},
   "source": [
    "Clearly one unit increase in $x$ should lead to about one unit increase in $y$, regardless of whether any other causes of $y$ are accounted for.  "
   ]
  },
  {
   "cell_type": "code",
   "execution_count": 3,
   "metadata": {},
   "outputs": [],
   "source": [
    "reg_1 <- lm(y~x)\n",
    "reg_2 <- lm(y~x+b)\n",
    "reg_3 <- lm(y~x+m)\n"
   ]
  },
  {
   "cell_type": "code",
   "execution_count": 4,
   "metadata": {},
   "outputs": [
    {
     "data": {
      "text/plain": [
       "\n",
       "Call:\n",
       "lm(formula = y ~ x)\n",
       "\n",
       "Residuals:\n",
       "    Min      1Q  Median      3Q     Max \n",
       "-5.3638 -2.4626 -0.0931  2.4398  5.4052 \n",
       "\n",
       "Coefficients:\n",
       "            Estimate Std. Error t value Pr(>|t|)    \n",
       "(Intercept)  5.59960    0.19284   29.04   <2e-16 ***\n",
       "x            0.97512    0.03186   30.60   <2e-16 ***\n",
       "---\n",
       "Signif. codes:  0 ‘***’ 0.001 ‘**’ 0.01 ‘*’ 0.05 ‘.’ 0.1 ‘ ’ 1\n",
       "\n",
       "Residual standard error: 2.905 on 998 degrees of freedom\n",
       "Multiple R-squared:  0.4841,\tAdjusted R-squared:  0.4836 \n",
       "F-statistic: 936.5 on 1 and 998 DF,  p-value: < 2.2e-16\n"
      ]
     },
     "metadata": {},
     "output_type": "display_data"
    }
   ],
   "source": [
    "summary(reg_1)"
   ]
  },
  {
   "cell_type": "markdown",
   "metadata": {},
   "source": [
    "So far so good"
   ]
  },
  {
   "cell_type": "code",
   "execution_count": 5,
   "metadata": {},
   "outputs": [
    {
     "data": {
      "text/plain": [
       "\n",
       "Call:\n",
       "lm(formula = y ~ x + b)\n",
       "\n",
       "Residuals:\n",
       "     Min       1Q   Median       3Q      Max \n",
       "-0.50879 -0.24705 -0.01157  0.24652  0.50406 \n",
       "\n",
       "Coefficients:\n",
       "            Estimate Std. Error t value Pr(>|t|)    \n",
       "(Intercept) 0.499110   0.024928   20.02   <2e-16 ***\n",
       "x           1.001386   0.003153  317.60   <2e-16 ***\n",
       "b           0.998804   0.003143  317.81   <2e-16 ***\n",
       "---\n",
       "Signif. codes:  0 ‘***’ 0.001 ‘**’ 0.01 ‘*’ 0.05 ‘.’ 0.1 ‘ ’ 1\n",
       "\n",
       "Residual standard error: 0.2873 on 997 degrees of freedom\n",
       "Multiple R-squared:  0.995,\tAdjusted R-squared:  0.9949 \n",
       "F-statistic: 9.836e+04 on 2 and 997 DF,  p-value: < 2.2e-16\n"
      ]
     },
     "metadata": {},
     "output_type": "display_data"
    }
   ],
   "source": [
    "summary(reg_2)"
   ]
  },
  {
   "cell_type": "markdown",
   "metadata": {},
   "source": [
    "Even better! The estimate for $x$'s coefficient remains close to 1 and R-squared values improve"
   ]
  },
  {
   "cell_type": "code",
   "execution_count": 27,
   "metadata": {},
   "outputs": [
    {
     "data": {
      "text/plain": [
       "\n",
       "Call:\n",
       "lm(formula = y ~ x + m)\n",
       "\n",
       "Residuals:\n",
       "     Min       1Q   Median       3Q      Max \n",
       "-1.35346 -0.34449 -0.00483  0.33773  1.40623 \n",
       "\n",
       "Coefficients:\n",
       "            Estimate Std. Error t value Pr(>|t|)    \n",
       "(Intercept) 0.532856   0.042282  12.602   <2e-16 ***\n",
       "x           0.015489   0.007818   1.981   0.0478 *  \n",
       "m           0.987817   0.005458 180.980   <2e-16 ***\n",
       "---\n",
       "Signif. codes:  0 ‘***’ 0.001 ‘**’ 0.01 ‘*’ 0.05 ‘.’ 0.1 ‘ ’ 1\n",
       "\n",
       "Residual standard error: 0.4994 on 997 degrees of freedom\n",
       "Multiple R-squared:  0.9856,\tAdjusted R-squared:  0.9856 \n",
       "F-statistic: 3.415e+04 on 2 and 997 DF,  p-value: < 2.2e-16\n"
      ]
     },
     "metadata": {},
     "output_type": "display_data"
    }
   ],
   "source": [
    "summary(reg_3)"
   ]
  },
  {
   "cell_type": "markdown",
   "metadata": {},
   "source": [
    "Uh oh! Looks like we got M-bias! x loses its predictive power while m soaks up all the variation, even though $m$ is not a cause of $y$.  By conditioning on a collider variable ($m$), we have inadvertantly generated an artificial correlation between $a$ and $b$ where none existed previously, because in order to hold $m$ constant, any increase is $a$ must be matched by a decrease in $b$.  Thus, controlling for $m$ opens up a backdoor path from $x$ to $y$ ($x \\leftarrow a \\leftrightarrow b \\rightarrow y$) which siphons off much of the effect $x$ is supposed to be having on $y$ directly."
   ]
  },
  {
   "cell_type": "markdown",
   "metadata": {},
   "source": [
    "**Donghee's comment: fantastic example. Note and a and b are unobserved in Pearl's example, so y~x+b is a hypothetical regression.**"
   ]
  },
  {
   "cell_type": "code",
   "execution_count": null,
   "metadata": {},
   "outputs": [],
   "source": []
  }
 ],
 "metadata": {
  "kernelspec": {
   "display_name": "R",
   "language": "R",
   "name": "ir"
  },
  "language_info": {
   "codemirror_mode": "r",
   "file_extension": ".r",
   "mimetype": "text/x-r-source",
   "name": "R",
   "pygments_lexer": "r",
   "version": "3.6.1"
  }
 },
 "nbformat": 4,
 "nbformat_minor": 2
}
