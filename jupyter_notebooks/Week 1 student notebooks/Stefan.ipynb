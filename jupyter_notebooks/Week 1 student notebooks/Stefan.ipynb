{
 "cells": [
  {
   "cell_type": "markdown",
   "metadata": {},
   "source": [
    "   \n",
    "The below example is attempting to illustrate how regression can fail to recover\n",
    "the ATE. The regression models we're using are designed to capture a constant\n",
    "and additive treatment effect; if the treatment effect is multiplicative instead\n",
    "there could be problems. In this example, a latent variable, _talent_ is the\n",
    "product of household wealth and intelligence, and the treatment effect of\n",
    "private education on the observed outcome of salary is multiplicative of talent."
   ]
  },
  {
   "cell_type": "code",
   "execution_count": 1,
   "metadata": {},
   "outputs": [
    {
     "name": "stderr",
     "output_type": "stream",
     "text": [
      "Loading required package: Matrix\n",
      "\n"
     ]
    },
    {
     "data": {
      "text/html": [
       "<table>\n",
       "<caption>A data.frame: 6 × 6</caption>\n",
       "<thead>\n",
       "\t<tr><th></th><th scope=col>ID</th><th scope=col>hhw</th><th scope=col>private</th><th scope=col>intelligence</th><th scope=col>talent</th><th scope=col>salary</th></tr>\n",
       "\t<tr><th></th><th scope=col>&lt;int&gt;</th><th scope=col>&lt;dbl&gt;</th><th scope=col>&lt;dbl&gt;</th><th scope=col>&lt;dbl&gt;</th><th scope=col>&lt;dbl&gt;</th><th scope=col>&lt;dbl&gt;</th></tr>\n",
       "</thead>\n",
       "<tbody>\n",
       "\t<tr><th scope=row>1</th><td>1</td><td>0</td><td>0</td><td> 90.23538</td><td>59023.54</td><td>42737.25</td></tr>\n",
       "\t<tr><th scope=row>2</th><td>2</td><td>0</td><td>1</td><td>103.85424</td><td>60385.42</td><td>88172.67</td></tr>\n",
       "\t<tr><th scope=row>3</th><td>3</td><td>1</td><td>1</td><td> 88.99482</td><td>63899.48</td><td>93138.38</td></tr>\n",
       "\t<tr><th scope=row>4</th><td>4</td><td>1</td><td>0</td><td> 90.13135</td><td>64013.14</td><td>60110.22</td></tr>\n",
       "\t<tr><th scope=row>5</th><td>5</td><td>0</td><td>0</td><td>122.80658</td><td>62280.66</td><td>70225.56</td></tr>\n",
       "\t<tr><th scope=row>6</th><td>6</td><td>1</td><td>1</td><td> 89.68078</td><td>63968.08</td><td>69614.36</td></tr>\n",
       "</tbody>\n",
       "</table>\n"
      ],
      "text/latex": [
       "A data.frame: 6 × 6\n",
       "\\begin{tabular}{r|llllll}\n",
       "  & ID & hhw & private & intelligence & talent & salary\\\\\n",
       "  & <int> & <dbl> & <dbl> & <dbl> & <dbl> & <dbl>\\\\\n",
       "\\hline\n",
       "\t1 & 1 & 0 & 0 &  90.23538 & 59023.54 & 42737.25\\\\\n",
       "\t2 & 2 & 0 & 1 & 103.85424 & 60385.42 & 88172.67\\\\\n",
       "\t3 & 3 & 1 & 1 &  88.99482 & 63899.48 & 93138.38\\\\\n",
       "\t4 & 4 & 1 & 0 &  90.13135 & 64013.14 & 60110.22\\\\\n",
       "\t5 & 5 & 0 & 0 & 122.80658 & 62280.66 & 70225.56\\\\\n",
       "\t6 & 6 & 1 & 1 &  89.68078 & 63968.08 & 69614.36\\\\\n",
       "\\end{tabular}\n"
      ],
      "text/markdown": [
       "\n",
       "A data.frame: 6 × 6\n",
       "\n",
       "| <!--/--> | ID &lt;int&gt; | hhw &lt;dbl&gt; | private &lt;dbl&gt; | intelligence &lt;dbl&gt; | talent &lt;dbl&gt; | salary &lt;dbl&gt; |\n",
       "|---|---|---|---|---|---|---|\n",
       "| 1 | 1 | 0 | 0 |  90.23538 | 59023.54 | 42737.25 |\n",
       "| 2 | 2 | 0 | 1 | 103.85424 | 60385.42 | 88172.67 |\n",
       "| 3 | 3 | 1 | 1 |  88.99482 | 63899.48 | 93138.38 |\n",
       "| 4 | 4 | 1 | 0 |  90.13135 | 64013.14 | 60110.22 |\n",
       "| 5 | 5 | 0 | 0 | 122.80658 | 62280.66 | 70225.56 |\n",
       "| 6 | 6 | 1 | 1 |  89.68078 | 63968.08 | 69614.36 |\n",
       "\n"
      ],
      "text/plain": [
       "  ID hhw private intelligence talent   salary  \n",
       "1 1  0   0        90.23538    59023.54 42737.25\n",
       "2 2  0   1       103.85424    60385.42 88172.67\n",
       "3 3  1   1        88.99482    63899.48 93138.38\n",
       "4 4  1   0        90.13135    64013.14 60110.22\n",
       "5 5  0   0       122.80658    62280.66 70225.56\n",
       "6 6  1   1        89.68078    63968.08 69614.36"
      ]
     },
     "metadata": {},
     "output_type": "display_data"
    }
   ],
   "source": [
    "library(lfe)\n",
    "set.seed(1578347079)\n",
    "N <- 10000\n",
    "df <- data.frame(\"ID\" = 1:N)\n",
    "df$hhw <- floor(runif(N, min=0, max=2))\n",
    "# endogenous selection into treatment\n",
    "df$private <- 1* (df$hhw + runif(N, min=-0.8, max=0.8) > 0.5)\n",
    "\n",
    "# additional, continuous, variable\n",
    "df$intelligence <- rnorm(N, 100, 15)\n",
    "\n",
    "# treatment effect is multiplicative rather than additive\n",
    "treatment.multiplier <- 0.2\n",
    "df$talent <- 50000 + df$hhw*5000 + df$intelligence*100 \n",
    "df$salary <- df$talent + \n",
    "  (df$talent * df$private * treatment.multiplier) + \n",
    "  rnorm(N, mean=0, sd=15000)\n",
    "\n",
    "head(df)"
   ]
  },
  {
   "cell_type": "code",
   "execution_count": null,
   "metadata": {},
   "outputs": [],
   "source": []
  },
  {
   "cell_type": "markdown",
   "metadata": {},
   "source": [
    "We can see the relationship between talent and salary directly here. As in\n",
    "class, we write out a short and a long regression model; in this case neither\n",
    "recovers the treatment effect directly, because the model is misspecified. Not\n",
    "all treatment effects are additive!\n",
    "\n",
    "Note that the long regression recovers something like the true intercept and effect of household wealth. But the continuous variable, intelligence, and the treatment variable are off."
   ]
  },
  {
   "cell_type": "code",
   "execution_count": 4,
   "metadata": {},
   "outputs": [
    {
     "name": "stdout",
     "output_type": "stream",
     "text": [
      "\n",
      "Call:\n",
      "   felm(formula = salary ~ private, data = df) \n",
      "\n",
      "Residuals:\n",
      "   Min     1Q Median     3Q    Max \n",
      "-63540 -10442   -177  10418  56726 \n",
      "\n",
      "Coefficients:\n",
      "            Estimate Robust s.e t value Pr(>|t|)    \n",
      "(Intercept)  60729.4      217.7  278.97   <2e-16 ***\n",
      "private      16047.1      304.1   52.78   <2e-16 ***\n",
      "---\n",
      "Signif. codes:  0 ‘***’ 0.001 ‘**’ 0.01 ‘*’ 0.05 ‘.’ 0.1 ‘ ’ 1\n",
      "\n",
      "Residual standard error: 15200 on 9998 degrees of freedom\n",
      "Multiple R-squared(full model): 0.2179   Adjusted R-squared: 0.2179 \n",
      "Multiple R-squared(proj model): 0.2179   Adjusted R-squared: 0.2179 \n",
      "F-statistic(full model, *iid*): 2786 on 1 and 9998 DF, p-value: < 2.2e-16 \n",
      "F-statistic(proj model):  2785 on 1 and 9998 DF, p-value: < 2.2e-16 \n",
      "\n",
      "\n",
      "\n",
      "Call:\n",
      "   felm(formula = salary ~ private + hhw + intelligence, data = df) \n",
      "\n",
      "Residuals:\n",
      "   Min     1Q Median     3Q    Max \n",
      "-58833 -10143   -101  10104  57837 \n",
      "\n",
      "Coefficients:\n",
      "             Estimate Robust s.e t value Pr(>|t|)    \n",
      "(Intercept)  49157.69    1025.34   47.94   <2e-16 ***\n",
      "private      12843.75     395.96   32.44   <2e-16 ***\n",
      "hhw           4941.85     395.81   12.48   <2e-16 ***\n",
      "intelligence   107.55      10.01   10.75   <2e-16 ***\n",
      "---\n",
      "Signif. codes:  0 ‘***’ 0.001 ‘**’ 0.01 ‘*’ 0.05 ‘.’ 0.1 ‘ ’ 1\n",
      "\n",
      "Residual standard error: 15000 on 9996 degrees of freedom\n",
      "Multiple R-squared(full model): 0.2386   Adjusted R-squared: 0.2384 \n",
      "Multiple R-squared(proj model): 0.2386   Adjusted R-squared: 0.2384 \n",
      "F-statistic(full model, *iid*): 1044 on 3 and 9996 DF, p-value: < 2.2e-16 \n",
      "F-statistic(proj model):  1050 on 3 and 9996 DF, p-value: < 2.2e-16 \n",
      "\n",
      "\n"
     ]
    }
   ],
   "source": [
    "short <- felm(salary ~ private, data=df)\n",
    "long <- felm(salary ~ private + hhw + intelligence, data=df)\n",
    "\n",
    "print(summary(short, robust=TRUE))\n",
    "print(summary(long, robust=TRUE))"
   ]
  },
  {
   "cell_type": "markdown",
   "metadata": {},
   "source": []
  },
  {
   "cell_type": "markdown",
   "metadata": {},
   "source": [
    "**Donghee's comment: This is a really interesting case. I hope I have time to delve into this more when we discuss a bit more about heterogeneous treatment effect!**"
   ]
  },
  {
   "cell_type": "code",
   "execution_count": null,
   "metadata": {},
   "outputs": [],
   "source": []
  }
 ],
 "metadata": {
  "kernelspec": {
   "display_name": "R",
   "language": "R",
   "name": "ir"
  },
  "language_info": {
   "codemirror_mode": "r",
   "file_extension": ".r",
   "mimetype": "text/x-r-source",
   "name": "R",
   "pygments_lexer": "r",
   "version": "3.6.1"
  }
 },
 "nbformat": 4,
 "nbformat_minor": 4
}
