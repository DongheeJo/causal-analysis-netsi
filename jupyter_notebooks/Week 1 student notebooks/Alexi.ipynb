{
 "cells": [
  {
   "cell_type": "markdown",
   "metadata": {},
   "source": [
    "# NETSI Special Topic: Causal Analysis\n",
    "## Jupyter notebook on regression basics"
   ]
  },
  {
   "cell_type": "code",
   "execution_count": 2,
   "metadata": {},
   "outputs": [
    {
     "name": "stderr",
     "output_type": "stream",
     "text": [
      "Installing package into 'C:/Users/quint/OneDrive/Documents/R/win-library/3.6'\n",
      "(as 'lib' is unspecified)\n"
     ]
    },
    {
     "name": "stdout",
     "output_type": "stream",
     "text": [
      "package 'lfe' successfully unpacked and MD5 sums checked\n",
      "\n",
      "The downloaded binary packages are in\n",
      "\tC:\\Users\\quint\\AppData\\Local\\Temp\\RtmpQ7GQYc\\downloaded_packages\n"
     ]
    },
    {
     "name": "stderr",
     "output_type": "stream",
     "text": [
      "Warning message:\n",
      "\"package 'lfe' was built under R version 3.6.2\"Loading required package: Matrix\n",
      "Warning message:\n",
      "\"package 'Matrix' was built under R version 3.6.2\""
     ]
    }
   ],
   "source": [
    "## Set seed and parameters\n",
    "install.packages(\"lfe\")\n",
    "library(lfe)\n",
    "set.seed(5)\n",
    "N <- 3000"
   ]
  },
  {
   "cell_type": "code",
   "execution_count": 16,
   "metadata": {},
   "outputs": [
    {
     "data": {
      "text/html": [
       "<ol class=list-inline>\n",
       "\t<li>3</li>\n",
       "\t<li>4</li>\n",
       "\t<li>3</li>\n",
       "\t<li>3</li>\n",
       "\t<li>2</li>\n",
       "</ol>\n"
      ],
      "text/latex": [
       "\\begin{enumerate*}\n",
       "\\item 3\n",
       "\\item 4\n",
       "\\item 3\n",
       "\\item 3\n",
       "\\item 2\n",
       "\\end{enumerate*}\n"
      ],
      "text/markdown": [
       "1. 3\n",
       "2. 4\n",
       "3. 3\n",
       "4. 3\n",
       "5. 2\n",
       "\n",
       "\n"
      ],
      "text/plain": [
       "[1] 3 4 3 3 2"
      ]
     },
     "metadata": {},
     "output_type": "display_data"
    }
   ],
   "source": []
  },
  {
   "cell_type": "markdown",
   "metadata": {},
   "source": [
    "### Baseline regression"
   ]
  },
  {
   "cell_type": "code",
   "execution_count": 11,
   "metadata": {},
   "outputs": [
    {
     "data": {
      "text/html": [
       "<table>\n",
       "<thead><tr><th scope=col>ID</th><th scope=col>hhw</th><th scope=col>private</th><th scope=col>salary</th></tr></thead>\n",
       "<tbody>\n",
       "\t<tr><td>1        </td><td>0        </td><td>1        </td><td> 78973.88</td></tr>\n",
       "\t<tr><td>2        </td><td>1        </td><td>1        </td><td> 86067.18</td></tr>\n",
       "\t<tr><td>3        </td><td>1        </td><td>1        </td><td> 37405.97</td></tr>\n",
       "\t<tr><td>4        </td><td>0        </td><td>1        </td><td> 39449.91</td></tr>\n",
       "\t<tr><td>5        </td><td>0        </td><td>1        </td><td> 54470.22</td></tr>\n",
       "\t<tr><td>6        </td><td>1        </td><td>0        </td><td>106778.78</td></tr>\n",
       "</tbody>\n",
       "</table>\n"
      ],
      "text/latex": [
       "\\begin{tabular}{r|llll}\n",
       " ID & hhw & private & salary\\\\\n",
       "\\hline\n",
       "\t 1         & 0         & 1         &  78973.88\\\\\n",
       "\t 2         & 1         & 1         &  86067.18\\\\\n",
       "\t 3         & 1         & 1         &  37405.97\\\\\n",
       "\t 4         & 0         & 1         &  39449.91\\\\\n",
       "\t 5         & 0         & 1         &  54470.22\\\\\n",
       "\t 6         & 1         & 0         & 106778.78\\\\\n",
       "\\end{tabular}\n"
      ],
      "text/markdown": [
       "\n",
       "| ID | hhw | private | salary |\n",
       "|---|---|---|---|\n",
       "| 1         | 0         | 1         |  78973.88 |\n",
       "| 2         | 1         | 1         |  86067.18 |\n",
       "| 3         | 1         | 1         |  37405.97 |\n",
       "| 4         | 0         | 1         |  39449.91 |\n",
       "| 5         | 0         | 1         |  54470.22 |\n",
       "| 6         | 1         | 0         | 106778.78 |\n",
       "\n"
      ],
      "text/plain": [
       "  ID hhw private salary   \n",
       "1 1  0   1        78973.88\n",
       "2 2  1   1        86067.18\n",
       "3 3  1   1        37405.97\n",
       "4 4  0   1        39449.91\n",
       "5 5  0   1        54470.22\n",
       "6 6  1   0       106778.78"
      ]
     },
     "metadata": {},
     "output_type": "display_data"
    }
   ],
   "source": [
    "## Create empty dataframe\n",
    "df <- data.frame(\"ID\" = 1:N)\n",
    "\n",
    "## Simulate household wealth\n",
    "### Let's assume that in this hypothetical survey, we only observed whether HH wealth is > 1M or not.\n",
    "df$hhw <- floor(runif(N, min=0, max=2))\n",
    "\n",
    "## Simulate decision to attend private college (completely random for now)\n",
    "df$private <- floor(runif(N, min=0, max=2))\n",
    "\n",
    "## Simulate earning\n",
    "treatment.effect <- 10000\n",
    "df$salary <- 50000 + df$private*treatment.effect + df$hhw*10000 + rnorm(N, mean=0, sd=40000)\n",
    "\n",
    "## Show examples\n",
    "head(df)"
   ]
  },
  {
   "cell_type": "code",
   "execution_count": 17,
   "metadata": {},
   "outputs": [
    {
     "name": "stdout",
     "output_type": "stream",
     "text": [
      "\n",
      "Call:\n",
      "   felm(formula = salary ~ private, data = df) \n",
      "\n",
      "Residuals:\n",
      "    Min      1Q  Median      3Q     Max \n",
      "-124276  -26961    -122   27674  145148 \n",
      "\n",
      "Coefficients:\n",
      "            Estimate Robust s.e t value Pr(>|t|)    \n",
      "(Intercept)    54907       1034  53.112  < 2e-16 ***\n",
      "private        10437       1484   7.032  2.5e-12 ***\n",
      "---\n",
      "Signif. codes:  0 '***' 0.001 '**' 0.01 '*' 0.05 '.' 0.1 ' ' 1\n",
      "\n",
      "Residual standard error: 40640 on 2998 degrees of freedom\n",
      "Multiple R-squared(full model): 0.01623   Adjusted R-squared: 0.0159 \n",
      "Multiple R-squared(proj model): 0.01623   Adjusted R-squared: 0.0159 \n",
      "F-statistic(full model, *iid*):49.46 on 1 and 2998 DF, p-value: 2.503e-12 \n",
      "F-statistic(proj model): 49.46 on 1 and 2998 DF, p-value: 2.503e-12 \n",
      "\n",
      "\n",
      "\n",
      "Call:\n",
      "   felm(formula = salary ~ private + hhw, data = df) \n",
      "\n",
      "Residuals:\n",
      "    Min      1Q  Median      3Q     Max \n",
      "-125368  -27140    -482   26912  140300 \n",
      "\n",
      "Coefficients:\n",
      "            Estimate Robust s.e t value Pr(>|t|)    \n",
      "(Intercept)    49998       1237  40.430  < 2e-16 ***\n",
      "private        10009       1474   6.791 1.34e-11 ***\n",
      "hhw            10186       1474   6.912 5.82e-12 ***\n",
      "---\n",
      "Signif. codes:  0 '***' 0.001 '**' 0.01 '*' 0.05 '.' 0.1 ' ' 1\n",
      "\n",
      "Residual standard error: 40330 on 2997 degrees of freedom\n",
      "Multiple R-squared(full model): 0.03166   Adjusted R-squared: 0.03101 \n",
      "Multiple R-squared(proj model): 0.03166   Adjusted R-squared: 0.03101 \n",
      "F-statistic(full model, *iid*):48.99 on 2 and 2997 DF, p-value: < 2.2e-16 \n",
      "F-statistic(proj model): 48.99 on 2 and 2997 DF, p-value: < 2.2e-16 \n",
      "\n",
      "\n"
     ]
    }
   ],
   "source": [
    "## Run regression without/with HHW\n",
    "short <- felm(salary ~ private, data=df)\n",
    "long <- felm(salary ~ private + hhw, data=df)\n",
    "\n",
    "print(summary(short, robust=TRUE))\n",
    "print(summary(long, robust=TRUE))\n",
    "### robust=TRUE gives heteroskedasticity-robust standard errors\n",
    "\n",
    "### Note that both give roughly correct causal estimates.\n",
    "### The second regression has more \"statistical power\".\n",
    "### \"Statistical power\" = prob (reject null | null is incorrect)\n",
    "### If you run this simulation millions of times, the second regression will reject the null hypothesis\n",
    "### more often than the first regression, meaning the second regression will be more likely to be correct\n",
    "### Feel free to test this. Testing with adequate number of N will give you more definitive answer\n",
    "### (not too small where null is never rejected, not too big where null is always rejected)."
   ]
  },
  {
   "cell_type": "markdown",
   "metadata": {},
   "source": [
    "### Endogenous selection"
   ]
  },
  {
   "cell_type": "code",
   "execution_count": 22,
   "metadata": {},
   "outputs": [
    {
     "name": "stdout",
     "output_type": "stream",
     "text": [
      "\n",
      "   0    1 \n",
      "1500 1500 \n",
      "\n",
      "   0    1 \n",
      "1438 1562 \n"
     ]
    },
    {
     "data": {
      "text/html": [
       "<table>\n",
       "<thead><tr><th scope=col>ID</th><th scope=col>hhw</th><th scope=col>private</th><th scope=col>salary</th></tr></thead>\n",
       "<tbody>\n",
       "\t<tr><td>1        </td><td>0        </td><td>0        </td><td> 75754.55</td></tr>\n",
       "\t<tr><td>2        </td><td>0        </td><td>0        </td><td> 26587.72</td></tr>\n",
       "\t<tr><td>3        </td><td>1        </td><td>1        </td><td>137365.03</td></tr>\n",
       "\t<tr><td>4        </td><td>0        </td><td>0        </td><td> 57346.40</td></tr>\n",
       "\t<tr><td>5        </td><td>0        </td><td>1        </td><td> 49773.59</td></tr>\n",
       "\t<tr><td>6        </td><td>1        </td><td>0        </td><td> 92669.24</td></tr>\n",
       "</tbody>\n",
       "</table>\n"
      ],
      "text/latex": [
       "\\begin{tabular}{r|llll}\n",
       " ID & hhw & private & salary\\\\\n",
       "\\hline\n",
       "\t 1         & 0         & 0         &  75754.55\\\\\n",
       "\t 2         & 0         & 0         &  26587.72\\\\\n",
       "\t 3         & 1         & 1         & 137365.03\\\\\n",
       "\t 4         & 0         & 0         &  57346.40\\\\\n",
       "\t 5         & 0         & 1         &  49773.59\\\\\n",
       "\t 6         & 1         & 0         &  92669.24\\\\\n",
       "\\end{tabular}\n"
      ],
      "text/markdown": [
       "\n",
       "| ID | hhw | private | salary |\n",
       "|---|---|---|---|\n",
       "| 1         | 0         | 0         |  75754.55 |\n",
       "| 2         | 0         | 0         |  26587.72 |\n",
       "| 3         | 1         | 1         | 137365.03 |\n",
       "| 4         | 0         | 0         |  57346.40 |\n",
       "| 5         | 0         | 1         |  49773.59 |\n",
       "| 6         | 1         | 0         |  92669.24 |\n",
       "\n"
      ],
      "text/plain": [
       "  ID hhw private salary   \n",
       "1 1  0   0        75754.55\n",
       "2 2  0   0        26587.72\n",
       "3 3  1   1       137365.03\n",
       "4 4  0   0        57346.40\n",
       "5 5  0   1        49773.59\n",
       "6 6  1   0        92669.24"
      ]
     },
     "metadata": {},
     "output_type": "display_data"
    }
   ],
   "source": [
    "## Create empty dataframe\n",
    "df2 <- data.frame(\"ID\" = 1:N)\n",
    "\n",
    "## Simulate household wealth\n",
    "### Let's assume that in this hypothetical survey, we only observed whether HH wealth is > 1M or not.\n",
    "df2$hhw <- floor(runif(N, min=0, max=2))\n",
    "\n",
    "## Simulate decision to attend private college \n",
    "### Instead of completely random, more likely to attend private college if from wealthy HH)\n",
    "df2$private <- 1* (df2$hhw + runif(N, min=-0.8, max=0.8) > 0.5)\n",
    "\n",
    "## roughly similar number of private college attendees\n",
    "print(table(df$private))\n",
    "print(table(df2$private)) \n",
    "\n",
    "## Simulate earning\n",
    "treatment.effect <- 10000\n",
    "df2$salary <- 50000 + df2$private*treatment.effect + df2$hhw*10000 + rnorm(N, mean=0, sd=40000)\n",
    "\n",
    "## Some sample data\n",
    "head(df2)"
   ]
  },
  {
   "cell_type": "code",
   "execution_count": 23,
   "metadata": {},
   "outputs": [
    {
     "name": "stdout",
     "output_type": "stream",
     "text": [
      "\n",
      "Call:\n",
      "   felm(formula = salary ~ private, data = df2) \n",
      "\n",
      "Residuals:\n",
      "    Min      1Q  Median      3Q     Max \n",
      "-134033  -26676    -869   27266  146415 \n",
      "\n",
      "Coefficients:\n",
      "            Estimate Robust s.e t value Pr(>|t|)    \n",
      "(Intercept)    51514       1120   45.99   <2e-16 ***\n",
      "private        16792       1494   11.24   <2e-16 ***\n",
      "---\n",
      "Signif. codes:  0 '***' 0.001 '**' 0.01 '*' 0.05 '.' 0.1 ' ' 1\n",
      "\n",
      "Residual standard error: 40720 on 2998 degrees of freedom\n",
      "Multiple R-squared(full model): 0.04073   Adjusted R-squared: 0.04041 \n",
      "Multiple R-squared(proj model): 0.04073   Adjusted R-squared: 0.04041 \n",
      "F-statistic(full model, *iid*):127.3 on 1 and 2998 DF, p-value: < 2.2e-16 \n",
      "F-statistic(proj model): 126.4 on 1 and 2998 DF, p-value: < 2.2e-16 \n",
      "\n",
      "\n",
      "\n",
      "Call:\n",
      "   felm(formula = salary ~ private + hhw, data = df2) \n",
      "\n",
      "Residuals:\n",
      "    Min      1Q  Median      3Q     Max \n",
      "-132186  -27211    -874   26790  148263 \n",
      "\n",
      "Coefficients:\n",
      "            Estimate Robust s.e t value Pr(>|t|)    \n",
      "(Intercept)    49667       1168  42.533  < 2e-16 ***\n",
      "private        11261       1866   6.035 1.79e-09 ***\n",
      "hhw             9257       1860   4.977 6.83e-07 ***\n",
      "---\n",
      "Signif. codes:  0 '***' 0.001 '**' 0.01 '*' 0.05 '.' 0.1 ' ' 1\n",
      "\n",
      "Residual standard error: 40560 on 2997 degrees of freedom\n",
      "Multiple R-squared(full model): 0.0487   Adjusted R-squared: 0.04807 \n",
      "Multiple R-squared(proj model): 0.0487   Adjusted R-squared: 0.04807 \n",
      "F-statistic(full model, *iid*):76.72 on 2 and 2997 DF, p-value: < 2.2e-16 \n",
      "F-statistic(proj model): 76.71 on 2 and 2997 DF, p-value: < 2.2e-16 \n",
      "\n",
      "\n"
     ]
    }
   ],
   "source": [
    "## Run regression without/with HHW\n",
    "short <- felm(salary ~ private, data=df2)\n",
    "long <- felm(salary ~ private + hhw, data=df2)\n",
    "\n",
    "print(summary(short, robust=TRUE))\n",
    "print(summary(long, robust=TRUE))\n",
    "\n",
    "### The short regression gives biased estimate of causal effect\n",
    "### True coefficient, 10000, is not included in the 95% confidence interval.\n",
    "### The long regression brings the estimate back to normal.\n",
    "### The long regression automatically matches wealthy kids with each other and compare private vs. public,\n",
    "### and matches poorer kids with each other and compare private vs. public,\n",
    "### and then calculate weighted average."
   ]
  },
  {
   "cell_type": "code",
   "execution_count": 24,
   "metadata": {
    "scrolled": true
   },
   "outputs": [
    {
     "name": "stdout",
     "output_type": "stream",
     "text": [
      "\n",
      "Call:\n",
      "   felm(formula = hhw ~ private, data = df2) \n",
      "\n",
      "Residuals:\n",
      "    Min      1Q  Median      3Q     Max \n",
      "-0.7971 -0.1996  0.2029  0.2029  0.8004 \n",
      "\n",
      "Coefficients:\n",
      "            Estimate Robust s.e t value Pr(>|t|)    \n",
      "(Intercept)  0.19958    0.01054   18.93   <2e-16 ***\n",
      "private      0.59747    0.01466   40.77   <2e-16 ***\n",
      "---\n",
      "Signif. codes:  0 '***' 0.001 '**' 0.01 '*' 0.05 '.' 0.1 ' ' 1\n",
      "\n",
      "Residual standard error: 0.4011 on 2998 degrees of freedom\n",
      "Multiple R-squared(full model): 0.3565   Adjusted R-squared: 0.3563 \n",
      "Multiple R-squared(proj model): 0.3565   Adjusted R-squared: 0.3563 \n",
      "F-statistic(full model, *iid*): 1661 on 1 and 2998 DF, p-value: < 2.2e-16 \n",
      "F-statistic(proj model):  1662 on 1 and 2998 DF, p-value: < 2.2e-16 \n",
      "\n",
      "\n"
     ]
    }
   ],
   "source": [
    "### The OVB formula\n",
    "fs <- felm(hhw ~ private, data=df2) ### fs = \"first stage\"\n",
    "print(summary(fs, robust=TRUE))"
   ]
  },
  {
   "cell_type": "code",
   "execution_count": 25,
   "metadata": {},
   "outputs": [
    {
     "name": "stdout",
     "output_type": "stream",
     "text": [
      "[1] 5530.711\n",
      "[1] 16791.71\n",
      "[1] 16791.71\n"
     ]
    }
   ],
   "source": [
    "bias <- coef(summary(fs, robust=TRUE))[\"private\",1] * coef(summary(long, robust=TRUE))[\"hhw\",1]\n",
    "long.estimate <- coef(summary(long, robust=TRUE))[\"private\",1]\n",
    "short.estimate <- coef(summary(short, robust=TRUE))[\"private\",1]\n",
    "print(bias)\n",
    "print(bias + long.estimate)\n",
    "print(short.estimate)"
   ]
  },
  {
   "cell_type": "markdown",
   "metadata": {},
   "source": [
    "### Exercise\n",
    "\n",
    "Show a simulation exercise where regression does not go as intended. Explain why."
   ]
  },
  {
   "cell_type": "code",
   "execution_count": 11,
   "metadata": {},
   "outputs": [
    {
     "name": "stdout",
     "output_type": "stream",
     "text": [
      "\n",
      "Call:\n",
      "   felm(formula = salary ~ private, data = df3) \n",
      "\n",
      "Residuals:\n",
      "   Min     1Q Median     3Q    Max \n",
      "-37057  -6691     -7   6467  34625 \n",
      "\n",
      "Coefficients:\n",
      "            Estimate Robust s.e t value Pr(>|t|)    \n",
      "(Intercept)  49891.2      250.3  199.32   <2e-16 ***\n",
      "private      10052.2      358.7   28.02   <2e-16 ***\n",
      "---\n",
      "Signif. codes:  0 '***' 0.001 '**' 0.01 '*' 0.05 '.' 0.1 ' ' 1\n",
      "\n",
      "Residual standard error: 9883 on 2998 degrees of freedom\n",
      "Multiple R-squared(full model): 0.208   Adjusted R-squared: 0.2078 \n",
      "Multiple R-squared(proj model): 0.208   Adjusted R-squared: 0.2078 \n",
      "F-statistic(full model, *iid*):787.5 on 1 and 2998 DF, p-value: < 2.2e-16 \n",
      "F-statistic(proj model): 785.4 on 1 and 2998 DF, p-value: < 2.2e-16 \n",
      "\n",
      "\n",
      "\n",
      "Call:\n",
      "   felm(formula = salary ~ private + hhw, data = df3) \n",
      "\n",
      "Residuals:\n",
      "   Min     1Q Median     3Q    Max \n",
      "-36757  -6698     -7   6451  34589 \n",
      "\n",
      "Coefficients:\n",
      "            Estimate Robust s.e t value Pr(>|t|)    \n",
      "(Intercept)  49927.2      252.1 198.079  < 2e-16 ***\n",
      "private      13382.2     3082.0   4.342 1.46e-05 ***\n",
      "hhw          -3377.9     3100.1  -1.090    0.276    \n",
      "---\n",
      "Signif. codes:  0 '***' 0.001 '**' 0.01 '*' 0.05 '.' 0.1 ' ' 1\n",
      "\n",
      "Residual standard error: 9882 on 2997 degrees of freedom\n",
      "Multiple R-squared(full model): 0.2084   Adjusted R-squared: 0.2078 \n",
      "Multiple R-squared(proj model): 0.2084   Adjusted R-squared: 0.2078 \n",
      "F-statistic(full model, *iid*):394.4 on 2 and 2997 DF, p-value: < 2.2e-16 \n",
      "F-statistic(proj model): 392.9 on 2 and 2997 DF, p-value: < 2.2e-16 \n",
      "\n",
      "\n"
     ]
    }
   ],
   "source": [
    "## Create empty dataframe\n",
    "df3 <- data.frame(\"ID\" = 1:N)\n",
    "\n",
    "#same as before\n",
    "df3$hhw <- floor(runif(N, min=0, max=2))\n",
    "\n",
    "#no integer floor, private is closely correlated with hhw by setting a small range of values for the uniform distribution\n",
    "df3$private <- df3$hhw + runif(N, min=-0.1, max=0.1)\n",
    "\n",
    "## Simulate salary, now hhw has no effect on it. I reduced the sd of rnorm so that the values are larger than 0. \n",
    "treatment.effect <- 10000\n",
    "df3$salary <- 50000 + df3$private*treatment.effect + rnorm(N, mean=0, sd=10000)\n",
    "\n",
    "short <- felm(salary ~ private, data=df3)\n",
    "long <- felm(salary ~ private + hhw, data=df3)\n",
    "\n",
    "print(summary(short, robust=TRUE))\n",
    "print(summary(long, robust=TRUE))"
   ]
  },
  {
   "cell_type": "markdown",
   "metadata": {},
   "source": [
    "This shows the problems associated with mulicolinearity, when predictors are highly correlated. With multicolinear predictors unpredictable changes in the estimates can happen, and their standard error increases, as we see in this case. Even if hhw has no relation with salary, introducing it into the model significantly increases the estimate of private, but also almost multiplies by 10 the standard error. The estimate of hhw roughly corresponds in negative sign to the increase of the estimate for private, as the magnitude of both variables is similar, somehow compensating one effect with the other.\n",
    "\n",
    "Following I reproduce the same simulation, to see how the opposite behavior can also happen:"
   ]
  },
  {
   "cell_type": "code",
   "execution_count": 16,
   "metadata": {},
   "outputs": [
    {
     "name": "stdout",
     "output_type": "stream",
     "text": [
      "\n",
      "Call:\n",
      "   felm(formula = salary ~ private, data = df3) \n",
      "\n",
      "Residuals:\n",
      "   Min     1Q Median     3Q    Max \n",
      "-34625  -6715    171   6869  36602 \n",
      "\n",
      "Coefficients:\n",
      "            Estimate Robust s.e t value Pr(>|t|)    \n",
      "(Intercept)  50145.1      256.7  195.31   <2e-16 ***\n",
      "private       9543.6      365.2   26.14   <2e-16 ***\n",
      "---\n",
      "Signif. codes:  0 '***' 0.001 '**' 0.01 '*' 0.05 '.' 0.1 ' ' 1\n",
      "\n",
      "Residual standard error: 10080 on 2998 degrees of freedom\n",
      "Multiple R-squared(full model): 0.1854   Adjusted R-squared: 0.1852 \n",
      "Multiple R-squared(proj model): 0.1854   Adjusted R-squared: 0.1852 \n",
      "F-statistic(full model, *iid*):682.5 on 1 and 2998 DF, p-value: < 2.2e-16 \n",
      "F-statistic(proj model):   683 on 1 and 2998 DF, p-value: < 2.2e-16 \n",
      "\n",
      "\n",
      "\n",
      "Call:\n",
      "   felm(formula = salary ~ private + hhw, data = df3) \n",
      "\n",
      "Residuals:\n",
      "   Min     1Q Median     3Q    Max \n",
      "-34326  -6733    233   6843  36530 \n",
      "\n",
      "Coefficients:\n",
      "            Estimate Robust s.e t value Pr(>|t|)    \n",
      "(Intercept)  50125.1      258.2 194.103   <2e-16 ***\n",
      "private       6583.6     3209.2   2.051   0.0403 *  \n",
      "hhw           3003.5     3236.0   0.928   0.3534    \n",
      "---\n",
      "Signif. codes:  0 '***' 0.001 '**' 0.01 '*' 0.05 '.' 0.1 ' ' 1\n",
      "\n",
      "Residual standard error: 10080 on 2997 degrees of freedom\n",
      "Multiple R-squared(full model): 0.1857   Adjusted R-squared: 0.1851 \n",
      "Multiple R-squared(proj model): 0.1857   Adjusted R-squared: 0.1851 \n",
      "F-statistic(full model, *iid*):341.7 on 2 and 2997 DF, p-value: < 2.2e-16 \n",
      "F-statistic(proj model): 341.8 on 2 and 2997 DF, p-value: < 2.2e-16 \n",
      "\n",
      "\n"
     ]
    }
   ],
   "source": [
    "## Create empty dataframe\n",
    "df3 <- data.frame(\"ID\" = 1:N)\n",
    "\n",
    "#same as before\n",
    "df3$hhw <- floor(runif(N, min=0, max=2))\n",
    "\n",
    "#no integer floor, private is closely correlated with hhw by setting a small range of values for the uniform distribution\n",
    "df3$private <- df3$hhw + runif(N, min=-0.1, max=0.1)\n",
    "\n",
    "## Simulate salary, now hhw has no effect on it. I reduced the sd of rnorm so that the values are larger than 0. \n",
    "treatment.effect <- 10000\n",
    "df3$salary <- 50000 + df3$private*treatment.effect + rnorm(N, mean=0, sd=10000)\n",
    "\n",
    "short <- felm(salary ~ private, data=df3)\n",
    "long <- felm(salary ~ private + hhw, data=df3)\n",
    "\n",
    "print(summary(short, robust=TRUE))\n",
    "print(summary(long, robust=TRUE))"
   ]
  },
  {
   "cell_type": "markdown",
   "metadata": {},
   "source": [
    "In this case the estimate of private is clearly reduced when introducing hhw to the regression, what, together with the increase in the standard error, makes it become almost non significant. As before, the hhw estimate compensates for this change in values by being now positive. \n",
    "\n",
    "With this example it becomes clear how controlling with more variables is not always a good thing to do, and at least checking if the controls by themselves have an effect on the outcome variable is first useful step. "
   ]
  },
  {
   "cell_type": "markdown",
   "metadata": {},
   "source": [
    "**Donghee's comment: fantastic example of multicolinearity.**"
   ]
  },
  {
   "cell_type": "code",
   "execution_count": null,
   "metadata": {},
   "outputs": [],
   "source": []
  }
 ],
 "metadata": {
  "kernelspec": {
   "display_name": "R",
   "language": "R",
   "name": "ir"
  },
  "language_info": {
   "codemirror_mode": "r",
   "file_extension": ".r",
   "mimetype": "text/x-r-source",
   "name": "R",
   "pygments_lexer": "r",
   "version": "3.6.1"
  }
 },
 "nbformat": 4,
 "nbformat_minor": 2
}
