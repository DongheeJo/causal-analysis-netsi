{
 "cells": [
  {
   "cell_type": "markdown",
   "metadata": {},
   "source": [
    "# NETSI Special Topic: Causal Analysis\n",
    "## Jupyter notebook on regression basics"
   ]
  },
  {
   "cell_type": "code",
   "execution_count": 2,
   "metadata": {
    "scrolled": false
   },
   "outputs": [
    {
     "ename": "ERROR",
     "evalue": "Error in library(aer): there is no package called 'aer'\n",
     "output_type": "error",
     "traceback": [
      "Error in library(aer): there is no package called 'aer'\nTraceback:\n",
      "1. library(aer)"
     ]
    }
   ],
   "source": [
    "## Set seed and parameters\n",
    "library(lfe)\n",
    "set.seed(5)\n",
    "N <- 3000"
   ]
  },
  {
   "cell_type": "markdown",
   "metadata": {},
   "source": [
    "### Baseline regression"
   ]
  },
  {
   "cell_type": "code",
   "execution_count": 2,
   "metadata": {},
   "outputs": [
    {
     "data": {
      "text/html": [
       "<table>\n",
       "<caption>A data.frame: 6 × 4</caption>\n",
       "<thead>\n",
       "\t<tr><th scope=col>ID</th><th scope=col>hhw</th><th scope=col>private</th><th scope=col>salary</th></tr>\n",
       "\t<tr><th scope=col>&lt;int&gt;</th><th scope=col>&lt;dbl&gt;</th><th scope=col>&lt;dbl&gt;</th><th scope=col>&lt;dbl&gt;</th></tr>\n",
       "</thead>\n",
       "<tbody>\n",
       "\t<tr><td>1</td><td>0</td><td>1</td><td> 78973.88</td></tr>\n",
       "\t<tr><td>2</td><td>1</td><td>1</td><td> 86067.18</td></tr>\n",
       "\t<tr><td>3</td><td>1</td><td>1</td><td> 37405.97</td></tr>\n",
       "\t<tr><td>4</td><td>0</td><td>1</td><td> 39449.91</td></tr>\n",
       "\t<tr><td>5</td><td>0</td><td>1</td><td> 54470.22</td></tr>\n",
       "\t<tr><td>6</td><td>1</td><td>0</td><td>106778.78</td></tr>\n",
       "</tbody>\n",
       "</table>\n"
      ],
      "text/latex": [
       "A data.frame: 6 × 4\n",
       "\\begin{tabular}{r|llll}\n",
       " ID & hhw & private & salary\\\\\n",
       " <int> & <dbl> & <dbl> & <dbl>\\\\\n",
       "\\hline\n",
       "\t 1 & 0 & 1 &  78973.88\\\\\n",
       "\t 2 & 1 & 1 &  86067.18\\\\\n",
       "\t 3 & 1 & 1 &  37405.97\\\\\n",
       "\t 4 & 0 & 1 &  39449.91\\\\\n",
       "\t 5 & 0 & 1 &  54470.22\\\\\n",
       "\t 6 & 1 & 0 & 106778.78\\\\\n",
       "\\end{tabular}\n"
      ],
      "text/markdown": [
       "\n",
       "A data.frame: 6 × 4\n",
       "\n",
       "| ID &lt;int&gt; | hhw &lt;dbl&gt; | private &lt;dbl&gt; | salary &lt;dbl&gt; |\n",
       "|---|---|---|---|\n",
       "| 1 | 0 | 1 |  78973.88 |\n",
       "| 2 | 1 | 1 |  86067.18 |\n",
       "| 3 | 1 | 1 |  37405.97 |\n",
       "| 4 | 0 | 1 |  39449.91 |\n",
       "| 5 | 0 | 1 |  54470.22 |\n",
       "| 6 | 1 | 0 | 106778.78 |\n",
       "\n"
      ],
      "text/plain": [
       "  ID hhw private salary   \n",
       "1 1  0   1        78973.88\n",
       "2 2  1   1        86067.18\n",
       "3 3  1   1        37405.97\n",
       "4 4  0   1        39449.91\n",
       "5 5  0   1        54470.22\n",
       "6 6  1   0       106778.78"
      ]
     },
     "metadata": {},
     "output_type": "display_data"
    }
   ],
   "source": [
    "## Create empty dataframe\n",
    "df <- data.frame(\"ID\" = 1:N)\n",
    "\n",
    "## Simulate household wealth\n",
    "### Let's assume that in this hypothetical survey, we only observed whether HH wealth is > 1M or not.\n",
    "df$hhw <- floor(runif(N, min=0, max=2))\n",
    "\n",
    "## Simulate decision to attend private college (completely random for now)\n",
    "df$private <- floor(runif(N, min=0, max=2))\n",
    "\n",
    "## Simulate earning\n",
    "treatment.effect <- 10000\n",
    "df$salary <- 50000 + df$private*treatment.effect + df$hhw*10000 + rnorm(N, mean=0, sd=40000)\n",
    "\n",
    "## Show examples\n",
    "head(df)"
   ]
  },
  {
   "cell_type": "code",
   "execution_count": 3,
   "metadata": {},
   "outputs": [
    {
     "name": "stdout",
     "output_type": "stream",
     "text": [
      "\n",
      "Call:\n",
      "   felm(formula = salary ~ private, data = df) \n",
      "\n",
      "Residuals:\n",
      "    Min      1Q  Median      3Q     Max \n",
      "-124276  -26961    -122   27674  145148 \n",
      "\n",
      "Coefficients:\n",
      "            Estimate Robust s.e t value Pr(>|t|)    \n",
      "(Intercept)    54907       1034  53.112  < 2e-16 ***\n",
      "private        10437       1484   7.032  2.5e-12 ***\n",
      "---\n",
      "Signif. codes:  0 '***' 0.001 '**' 0.01 '*' 0.05 '.' 0.1 ' ' 1\n",
      "\n",
      "Residual standard error: 40640 on 2998 degrees of freedom\n",
      "Multiple R-squared(full model): 0.01623   Adjusted R-squared: 0.0159 \n",
      "Multiple R-squared(proj model): 0.01623   Adjusted R-squared: 0.0159 \n",
      "F-statistic(full model, *iid*):49.46 on 1 and 2998 DF, p-value: 2.503e-12 \n",
      "F-statistic(proj model): 49.46 on 1 and 2998 DF, p-value: 2.503e-12 \n",
      "\n",
      "\n",
      "\n",
      "Call:\n",
      "   felm(formula = salary ~ private + hhw, data = df) \n",
      "\n",
      "Residuals:\n",
      "    Min      1Q  Median      3Q     Max \n",
      "-125368  -27140    -482   26912  140300 \n",
      "\n",
      "Coefficients:\n",
      "            Estimate Robust s.e t value Pr(>|t|)    \n",
      "(Intercept)    49998       1237  40.430  < 2e-16 ***\n",
      "private        10009       1474   6.791 1.34e-11 ***\n",
      "hhw            10186       1474   6.912 5.82e-12 ***\n",
      "---\n",
      "Signif. codes:  0 '***' 0.001 '**' 0.01 '*' 0.05 '.' 0.1 ' ' 1\n",
      "\n",
      "Residual standard error: 40330 on 2997 degrees of freedom\n",
      "Multiple R-squared(full model): 0.03166   Adjusted R-squared: 0.03101 \n",
      "Multiple R-squared(proj model): 0.03166   Adjusted R-squared: 0.03101 \n",
      "F-statistic(full model, *iid*):48.99 on 2 and 2997 DF, p-value: < 2.2e-16 \n",
      "F-statistic(proj model): 48.99 on 2 and 2997 DF, p-value: < 2.2e-16 \n",
      "\n",
      "\n"
     ]
    }
   ],
   "source": [
    "## Run regression without/with HHW\n",
    "short <- felm(salary ~ private, data=df)\n",
    "long <- felm(salary ~ private + hhw, data=df)\n",
    "\n",
    "print(summary(short, robust=TRUE))\n",
    "print(summary(long, robust=TRUE))\n",
    "### robust=TRUE gives heteroskedasticity-robust standard errors\n",
    "\n",
    "### Note that both give roughly correct causal estimates.\n",
    "### The second regression has more \"statistical power\".\n",
    "### \"Statistical power\" = prob (reject null | null is incorrect)\n",
    "### If you run this simulation millions of times, the second regression will reject the null hypothesis\n",
    "### more often than the first regression, meaning the second regression will be more likely to be correct\n",
    "### Feel free to test this. Testing with adequate number of N will give you more definitive answer\n",
    "### (not too small where null is never rejected, not too big where null is always rejected)."
   ]
  },
  {
   "cell_type": "markdown",
   "metadata": {},
   "source": [
    "### Endogenous selection"
   ]
  },
  {
   "cell_type": "code",
   "execution_count": 4,
   "metadata": {},
   "outputs": [
    {
     "name": "stdout",
     "output_type": "stream",
     "text": [
      "\n",
      "   0    1 \n",
      "1500 1500 \n",
      "\n",
      "   0    1 \n",
      "1527 1473 \n"
     ]
    },
    {
     "data": {
      "text/html": [
       "<table>\n",
       "<caption>A data.frame: 6 × 4</caption>\n",
       "<thead>\n",
       "\t<tr><th scope=col>ID</th><th scope=col>hhw</th><th scope=col>private</th><th scope=col>salary</th></tr>\n",
       "\t<tr><th scope=col>&lt;int&gt;</th><th scope=col>&lt;dbl&gt;</th><th scope=col>&lt;dbl&gt;</th><th scope=col>&lt;dbl&gt;</th></tr>\n",
       "</thead>\n",
       "<tbody>\n",
       "\t<tr><td>1</td><td>0</td><td>0</td><td> 52453.27</td></tr>\n",
       "\t<tr><td>2</td><td>1</td><td>1</td><td>108266.16</td></tr>\n",
       "\t<tr><td>3</td><td>1</td><td>1</td><td> 38468.71</td></tr>\n",
       "\t<tr><td>4</td><td>1</td><td>1</td><td> 85019.50</td></tr>\n",
       "\t<tr><td>5</td><td>1</td><td>1</td><td>121545.12</td></tr>\n",
       "\t<tr><td>6</td><td>0</td><td>0</td><td>133090.43</td></tr>\n",
       "</tbody>\n",
       "</table>\n"
      ],
      "text/latex": [
       "A data.frame: 6 × 4\n",
       "\\begin{tabular}{r|llll}\n",
       " ID & hhw & private & salary\\\\\n",
       " <int> & <dbl> & <dbl> & <dbl>\\\\\n",
       "\\hline\n",
       "\t 1 & 0 & 0 &  52453.27\\\\\n",
       "\t 2 & 1 & 1 & 108266.16\\\\\n",
       "\t 3 & 1 & 1 &  38468.71\\\\\n",
       "\t 4 & 1 & 1 &  85019.50\\\\\n",
       "\t 5 & 1 & 1 & 121545.12\\\\\n",
       "\t 6 & 0 & 0 & 133090.43\\\\\n",
       "\\end{tabular}\n"
      ],
      "text/markdown": [
       "\n",
       "A data.frame: 6 × 4\n",
       "\n",
       "| ID &lt;int&gt; | hhw &lt;dbl&gt; | private &lt;dbl&gt; | salary &lt;dbl&gt; |\n",
       "|---|---|---|---|\n",
       "| 1 | 0 | 0 |  52453.27 |\n",
       "| 2 | 1 | 1 | 108266.16 |\n",
       "| 3 | 1 | 1 |  38468.71 |\n",
       "| 4 | 1 | 1 |  85019.50 |\n",
       "| 5 | 1 | 1 | 121545.12 |\n",
       "| 6 | 0 | 0 | 133090.43 |\n",
       "\n"
      ],
      "text/plain": [
       "  ID hhw private salary   \n",
       "1 1  0   0        52453.27\n",
       "2 2  1   1       108266.16\n",
       "3 3  1   1        38468.71\n",
       "4 4  1   1        85019.50\n",
       "5 5  1   1       121545.12\n",
       "6 6  0   0       133090.43"
      ]
     },
     "metadata": {},
     "output_type": "display_data"
    }
   ],
   "source": [
    "## Create empty dataframe\n",
    "df2 <- data.frame(\"ID\" = 1:N)\n",
    "\n",
    "## Simulate household wealth\n",
    "### Let's assume that in this hypothetical survey, we only observed whether HH wealth is > 1M or not.\n",
    "df2$hhw <- floor(runif(N, min=0, max=2))\n",
    "\n",
    "## Simulate decision to attend private college \n",
    "### Instead of completely random, more likely to attend private college if from wealthy HH)\n",
    "df2$private <- 1* (df2$hhw + runif(N, min=-0.8, max=0.8) > 0.5)\n",
    "\n",
    "## roughly similar number of private college attendees\n",
    "print(table(df$private))\n",
    "print(table(df2$private)) \n",
    "\n",
    "## Simulate earning\n",
    "treatment.effect <- 10000\n",
    "df2$salary <- 50000 + df2$private*treatment.effect + df2$hhw*10000 + rnorm(N, mean=0, sd=40000)\n",
    "\n",
    "## Some sample data\n",
    "head(df2)"
   ]
  },
  {
   "cell_type": "code",
   "execution_count": 5,
   "metadata": {},
   "outputs": [
    {
     "name": "stdout",
     "output_type": "stream",
     "text": [
      "\n",
      "Call:\n",
      "   felm(formula = salary ~ private, data = df2) \n",
      "\n",
      "Residuals:\n",
      "    Min      1Q  Median      3Q     Max \n",
      "-134856  -27782     542   27345  132682 \n",
      "\n",
      "Coefficients:\n",
      "            Estimate Robust s.e t value Pr(>|t|)    \n",
      "(Intercept)    50866       1053   48.30   <2e-16 ***\n",
      "private        16506       1486   11.11   <2e-16 ***\n",
      "---\n",
      "Signif. codes:  0 '***' 0.001 '**' 0.01 '*' 0.05 '.' 0.1 ' ' 1\n",
      "\n",
      "Residual standard error: 40710 on 2998 degrees of freedom\n",
      "Multiple R-squared(full model): 0.03949   Adjusted R-squared: 0.03917 \n",
      "Multiple R-squared(proj model): 0.03949   Adjusted R-squared: 0.03917 \n",
      "F-statistic(full model, *iid*):123.3 on 1 and 2998 DF, p-value: < 2.2e-16 \n",
      "F-statistic(proj model): 123.4 on 1 and 2998 DF, p-value: < 2.2e-16 \n",
      "\n",
      "\n",
      "\n",
      "Call:\n",
      "   felm(formula = salary ~ private + hhw, data = df2) \n",
      "\n",
      "Residuals:\n",
      "    Min      1Q  Median      3Q     Max \n",
      "-136595  -28089     439   27073  130942 \n",
      "\n",
      "Coefficients:\n",
      "            Estimate Robust s.e t value Pr(>|t|)    \n",
      "(Intercept)    49218       1106  44.511  < 2e-16 ***\n",
      "private        10471       1896   5.523 3.62e-08 ***\n",
      "hhw             9422       1896   4.968 7.13e-07 ***\n",
      "---\n",
      "Signif. codes:  0 '***' 0.001 '**' 0.01 '*' 0.05 '.' 0.1 ' ' 1\n",
      "\n",
      "Residual standard error: 40550 on 2997 degrees of freedom\n",
      "Multiple R-squared(full model): 0.04708   Adjusted R-squared: 0.04645 \n",
      "Multiple R-squared(proj model): 0.04708   Adjusted R-squared: 0.04645 \n",
      "F-statistic(full model, *iid*):74.04 on 2 and 2997 DF, p-value: < 2.2e-16 \n",
      "F-statistic(proj model): 73.43 on 2 and 2997 DF, p-value: < 2.2e-16 \n",
      "\n",
      "\n"
     ]
    }
   ],
   "source": [
    "## Run regression without/with HHW\n",
    "short <- felm(salary ~ private, data=df2)\n",
    "long <- felm(salary ~ private + hhw, data=df2)\n",
    "\n",
    "print(summary(short, robust=TRUE))\n",
    "print(summary(long, robust=TRUE))\n",
    "\n",
    "### The short regression gives biased estimate of causal effect\n",
    "### True coefficient, 10000, is not included in the 95% confidence interval.\n",
    "### The long regression brings the estimate back to normal.\n",
    "### The long regression automatically matches wealthy kids with each other and compare private vs. public,\n",
    "### and matches poorer kids with each other and compare private vs. public,\n",
    "### and then calculate weighted average."
   ]
  },
  {
   "cell_type": "code",
   "execution_count": 6,
   "metadata": {
    "scrolled": true
   },
   "outputs": [
    {
     "name": "stdout",
     "output_type": "stream",
     "text": [
      "\n",
      "Call:\n",
      "   felm(formula = hhw ~ private, data = df2) \n",
      "\n",
      "Residuals:\n",
      "    Min      1Q  Median      3Q     Max \n",
      "-0.8153 -0.1749 -0.1749  0.1847  0.8252 \n",
      "\n",
      "Coefficients:\n",
      "            Estimate Robust s.e t value Pr(>|t|)    \n",
      "(Intercept) 0.174853   0.009724   17.98   <2e-16 ***\n",
      "private     0.640490   0.014030   45.65   <2e-16 ***\n",
      "---\n",
      "Signif. codes:  0 '***' 0.001 '**' 0.01 '*' 0.05 '.' 0.1 ' ' 1\n",
      "\n",
      "Residual standard error: 0.384 on 2998 degrees of freedom\n",
      "Multiple R-squared(full model): 0.4103   Adjusted R-squared: 0.4101 \n",
      "Multiple R-squared(proj model): 0.4103   Adjusted R-squared: 0.4101 \n",
      "F-statistic(full model, *iid*): 2086 on 1 and 2998 DF, p-value: < 2.2e-16 \n",
      "F-statistic(proj model):  2084 on 1 and 2998 DF, p-value: < 2.2e-16 \n",
      "\n",
      "\n"
     ]
    }
   ],
   "source": [
    "### The OVB formula\n",
    "fs <- felm(hhw ~ private, data=df2) ### fs = \"first stage\"\n",
    "print(summary(fs, robust=TRUE))"
   ]
  },
  {
   "cell_type": "code",
   "execution_count": 7,
   "metadata": {},
   "outputs": [
    {
     "name": "stdout",
     "output_type": "stream",
     "text": [
      "[1] 6034.682\n",
      "[1] 16505.95\n",
      "[1] 16505.95\n"
     ]
    }
   ],
   "source": [
    "bias <- coef(summary(fs, robust=TRUE))[\"private\",1] * coef(summary(long, robust=TRUE))[\"hhw\",1]\n",
    "long.estimate <- coef(summary(long, robust=TRUE))[\"private\",1]\n",
    "short.estimate <- coef(summary(short, robust=TRUE))[\"private\",1]\n",
    "print(bias)\n",
    "print(bias + long.estimate)\n",
    "print(short.estimate)"
   ]
  },
  {
   "cell_type": "markdown",
   "metadata": {},
   "source": [
    "### Exercise\n",
    "\n",
    "Show a simulation exercise where regression does not go as intended. Explain why."
   ]
  },
  {
   "cell_type": "code",
   "execution_count": null,
   "metadata": {},
   "outputs": [],
   "source": []
  }
 ],
 "metadata": {
  "kernelspec": {
   "display_name": "R",
   "language": "R",
   "name": "ir"
  },
  "language_info": {
   "codemirror_mode": "r",
   "file_extension": ".r",
   "mimetype": "text/x-r-source",
   "name": "R",
   "pygments_lexer": "r",
   "version": "3.6.1"
  }
 },
 "nbformat": 4,
 "nbformat_minor": 2
}
