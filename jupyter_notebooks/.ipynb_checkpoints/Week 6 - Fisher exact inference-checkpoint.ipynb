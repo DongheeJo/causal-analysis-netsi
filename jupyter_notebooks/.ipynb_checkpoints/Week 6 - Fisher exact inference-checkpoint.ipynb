{
 "cells": [
  {
   "cell_type": "markdown",
   "metadata": {},
   "source": [
    "# NETSI Special Topic: Causal Analysis\n",
    "## Jupyter notebook on Fisher's exact inference\n",
    "\n",
    "In this notebook, we are going to perform Fisher's exact inference. With the advancement of computational capacity, Fisher's exact inference is quickly becoming an attractive alternative to Neyman's superpopulation approach. Let's see how it works!\n",
    "\n",
    "For this exercise, we will use a clinical trial study by van der Leij et al. (2019). The research question of this paper is whether providing hiding box to sheltered cats makes them be less stressed and lose less weight.\n",
    "* [Article link](https://journals.plos.org/plosone/article?id=10.1371/journal.pone.0223492)\n",
    "* [Data link](https://dataverse.nl/dataset.xhtml?persistentId=hdl:10411/T8LKML)\n",
    "\n",
    "Assignment mechanism is not exactly specified in the article. Here, we will assume that it is stratified by gender. (Male: 6 treated out of 11; Female: 6 treated out of 12)"
   ]
  },
  {
   "cell_type": "code",
   "execution_count": 1,
   "metadata": {},
   "outputs": [
    {
     "name": "stderr",
     "output_type": "stream",
     "text": [
      "Registered S3 method overwritten by 'rvest':\n",
      "  method            from\n",
      "  read_xml.response xml2\n",
      "-- Attaching packages --------------------------------------- tidyverse 1.2.1 --\n",
      "v ggplot2 3.2.1       v purrr   0.3.3  \n",
      "v tibble  2.1.3       v dplyr   0.8.0.1\n",
      "v tidyr   0.8.3       v stringr 1.4.0  \n",
      "v readr   1.3.1       v forcats 0.4.0  \n",
      "-- Conflicts ------------------------------------------ tidyverse_conflicts() --\n",
      "x dplyr::filter() masks stats::filter()\n",
      "x dplyr::lag()    masks stats::lag()\n",
      "Google's Terms of Service: https://cloud.google.com/maps-platform/terms/.\n",
      "Please cite ggmap if you use it! See citation(\"ggmap\") for details.\n",
      "Loading required package: Matrix\n",
      "\n",
      "Attaching package: 'Matrix'\n",
      "\n",
      "The following object is masked from 'package:tidyr':\n",
      "\n",
      "    expand\n",
      "\n"
     ]
    }
   ],
   "source": [
    "## Initial setting\n",
    "set.seed(15)\n",
    "library(tidyverse)\n",
    "library(ggmap)\n",
    "library(dplyr) # Easier data manipulation\n",
    "library(lfe) # For OLS\n",
    "\n",
    "## Download data\n",
    "df <- read.table(\"https://raw.github.com/DongheeJo/causal-analysis-netsi/master/data/HidingBox/data.txt\",\n",
    "    sep=\"\\t\",header=TRUE)\n",
    "\n",
    "## Sort by gender\n",
    "df <- df[order(df$gender,df$id),]\n",
    "rownames(df) <- 1:nrow(df)\n",
    "\n",
    "## In order to avoid dealing with missing data, let's plug in age = 6 for NA\n",
    "# (of course in real research you can't do this)\n",
    "df[8,'age']<-6"
   ]
  },
  {
   "cell_type": "markdown",
   "metadata": {},
   "source": [
    "**1) Let's first calculate Fisher's exact p-value**"
   ]
  },
  {
   "cell_type": "code",
   "execution_count": 2,
   "metadata": {},
   "outputs": [],
   "source": [
    "## Calculate (quite intiutive) test statistic of choice: weighted average of T_dif for males and females\n",
    "# Some discussion can be found in Section 9.3 of Imbens and Rubin\n",
    "df_grp <- df %>% add_count(gender) %>% group_by(gender, treat) %>%\n",
    "    summarize(stress12 = mean(stress12), weight12 = mean(weight12), count = mean(n)) %>%\n",
    "    arrange(desc(gender), desc(treat))\n",
    "# df_grp[1,]: gender 1 treat 1\n",
    "# df_grp[2,]: gender 1 treat 0\n",
    "# df_grp[3,]: gender 0 treat 1\n",
    "# df_grp[4,]: gender 0 treat 0\n",
    "T_stress <- abs(\n",
    "    df_grp[1,'count']*(df_grp[1,'stress12']-df_grp[2,'stress12']) +\n",
    "    df_grp[3,'count']*(df_grp[3,'stress12']-df_grp[4,'stress12'])\n",
    "    ) %>% pull()\n",
    "T_weight <- abs(\n",
    "    df_grp[1,'count']*(df_grp[1,'weight12']-df_grp[2,'weight12']) +\n",
    "    df_grp[3,'count']*(df_grp[3,'weight12']-df_grp[4,'weight12'])\n",
    "    ) %>% pull()"
   ]
  },
  {
   "cell_type": "code",
   "execution_count": 3,
   "metadata": {},
   "outputs": [
    {
     "data": {
      "text/html": [
       "426888"
      ],
      "text/latex": [
       "426888"
      ],
      "text/markdown": [
       "426888"
      ],
      "text/plain": [
       "[1] 426888"
      ]
     },
     "metadata": {},
     "output_type": "display_data"
    }
   ],
   "source": [
    "## For complete test, how many re-randomization do we need?\n",
    "num_m <- table(df$gender)[[\"0\"]][1]\n",
    "num_f <- table(df$gender)[[\"1\"]][1]\n",
    "choose(num_f,6)*choose(num_m,6)"
   ]
  },
  {
   "cell_type": "code",
   "execution_count": 4,
   "metadata": {},
   "outputs": [],
   "source": [
    "## Instead, let's re-randomize num_sim times and get distribution of T_dif\n",
    "num_sim = 10000\n",
    "sim_T <- as.data.frame(matrix(0, ncol = 2, nrow = num_sim))\n",
    "names(sim_T) <- c(\"T_stress\",\"T_weight\")\n",
    "\n",
    "for (s in 1:num_sim) {\n",
    "    sim_df <- df\n",
    "    sims <- data.frame(\"s\" = 1:num_sim)\n",
    "    a <- sample(1:num_m, 6)\n",
    "    b <- sample((num_m+1):(num_m+num_f),6)\n",
    "    sim_df$treat <- 0\n",
    "    sim_df$treat[c(a,b)] <- 1\n",
    "    sim_df_grp <- sim_df %>% add_count(gender) %>% group_by(gender, treat) %>%\n",
    "        summarize(stress12 = mean(stress12), weight12 = mean(weight12), count = mean(n)) %>%\n",
    "        arrange(desc(gender), desc(treat))\n",
    "    sim_T$T_stress[s] <- abs(\n",
    "        sim_df_grp[1,'count']*(sim_df_grp[1,'stress12']-sim_df_grp[2,'stress12']) +\n",
    "        sim_df_grp[3,'count']*(sim_df_grp[3,'stress12']-sim_df_grp[4,'stress12'])\n",
    "        ) %>% pull()\n",
    "    sim_T$T_weight[s] <- abs(\n",
    "        sim_df_grp[1,'count']*(sim_df_grp[1,'weight12']-sim_df_grp[2,'weight12']) +\n",
    "        sim_df_grp[3,'count']*(sim_df_grp[3,'weight12']-sim_df_grp[4,'weight12'])\n",
    "        ) %>% pull()\n",
    "}"
   ]
  },
  {
   "cell_type": "code",
   "execution_count": 5,
   "metadata": {
    "scrolled": false
   },
   "outputs": [
    {
     "name": "stdout",
     "output_type": "stream",
     "text": [
      "[1] \"P-value for stress:  0.001\"\n"
     ]
    },
    {
     "data": {
      "image/png": "[encoded data removed]",
      "text/plain": [
       "plot without title"
      ]
     },
     "metadata": {},
     "output_type": "display_data"
    },
    {
     "name": "stdout",
     "output_type": "stream",
     "text": [
      "[1] \"P-value for weight:  0.4118\"\n"
     ]
    },
    {
     "data": {
      "image/png": "[encoded data removed]",
      "text/plain": [
       "plot without title"
      ]
     },
     "metadata": {},
     "output_type": "display_data"
    }
   ],
   "source": [
    "## Draw randomization distribution of our test statistics and calculate p_value.\n",
    "\n",
    "# 1. Stress\n",
    "ggplot(data=sim_T) +\n",
    "    geom_histogram(mapping=aes(x=T_stress), boundary=0, binwidth=0.5) +\n",
    "    geom_vline(xintercept=T_stress, color=\"red\") +\n",
    "    ggtitle(\"Randomization distribution for stress difference\")\n",
    "p_stress <- sum(sim_T$T_stress >= T_stress)/num_sim\n",
    "print(paste(\"P-value for stress: \",p_stress))\n",
    "\n",
    "# 2. weight\n",
    "ggplot(data=sim_T) +\n",
    "    geom_histogram(mapping=aes(x=T_weight), boundary=0, binwidth=5) +\n",
    "    geom_vline(xintercept=T_weight, color=\"red\") +\n",
    "    ggtitle(\"Randomization distribution for weight difference\")\n",
    "p_weight <- sum(sim_T$T_weight >= T_weight)/num_sim\n",
    "print(paste(\"P-value for weight: \",p_weight))"
   ]
  },
  {
   "cell_type": "markdown",
   "metadata": {},
   "source": [
    "**2) How to take into account covariates?**\n",
    "\n",
    "We can choose regression coefficient (with all the pre-experiment covariates as controls) as our test statistic."
   ]
  },
  {
   "cell_type": "code",
   "execution_count": 6,
   "metadata": {},
   "outputs": [],
   "source": [
    "## Let's re-randomize num_sim times and get distribution of T_coef\n",
    "num_sim = 1000\n",
    "sim_T <- as.data.frame(matrix(0, ncol = 2, nrow = num_sim))\n",
    "names(sim_T) <- c(\"T_stress\",\"T_weight\")\n",
    "\n",
    "for (s in 1:num_sim) {\n",
    "    sim_df <- df\n",
    "    sims <- data.frame(\"s\" = 1:num_sim)\n",
    "    a <- sample(1:num_m, 6)\n",
    "    b <- sample((num_m+1):(num_m+num_f),6)\n",
    "    sim_df$treat <- 0\n",
    "    sim_df$treat[c(a,b)] <- 1\n",
    "    sim_T$T_stress[s] <- coef(summary(felm(stress12 ~ treat + age | gender, data=sim_df)))[\"treat\",1]\n",
    "    sim_T$T_weight[s] <- coef(summary(felm(weight12 ~ treat + age | gender, data=sim_df)))[\"treat\",1]\n",
    "}"
   ]
  },
  {
   "cell_type": "code",
   "execution_count": 7,
   "metadata": {},
   "outputs": [
    {
     "name": "stdout",
     "output_type": "stream",
     "text": [
      "[1] \"P-value for stress:  0.001\"\n"
     ]
    },
    {
     "data": {
      "image/png": "[encoded data removed]",
      "text/plain": [
       "plot without title"
      ]
     },
     "metadata": {},
     "output_type": "display_data"
    },
    {
     "name": "stdout",
     "output_type": "stream",
     "text": [
      "[1] \"P-value for weight:  0.199\"\n"
     ]
    },
    {
     "data": {
      "image/png": "[encoded data removed]",
      "text/plain": [
       "plot without title"
      ]
     },
     "metadata": {},
     "output_type": "display_data"
    }
   ],
   "source": [
    "## Draw randomization distribution of our test statistics and calculate p_value.\n",
    "\n",
    "# 1. Stress\n",
    "T_stress <- coef(summary(felm(stress12 ~ treat + age | gender, data=df)))[\"treat\",1]\n",
    "ggplot(data=sim_T) +\n",
    "    geom_histogram(mapping=aes(x=T_stress), boundary=0, binwidth=0.01) +\n",
    "    geom_vline(xintercept=T_stress, color=\"red\") +\n",
    "    geom_vline(xintercept=-T_stress, color=\"red\") +\n",
    "    ggtitle(\"Randomization distribution for coefficient in stress regression\")\n",
    "p_stress <- sum(abs(sim_T$T_stress) >= abs(T_stress))/num_sim\n",
    "print(paste(\"P-value for stress: \",p_stress))\n",
    "\n",
    "# 2. weight\n",
    "T_weight <- coef(summary(felm(weight12 ~ treat + age | gender, data=df)))[\"treat\",1]\n",
    "ggplot(data=sim_T) +\n",
    "    geom_histogram(mapping=aes(x=T_weight), boundary=0, binwidth=0.1) +\n",
    "    geom_vline(xintercept=T_weight, color=\"red\") +\n",
    "    geom_vline(xintercept=-T_weight, color=\"red\") +\n",
    "    ggtitle(\"Randomization distribution for coefficient in weight regression\")\n",
    "p_weight <- sum(abs(sim_T$T_weight) >= abs(T_weight))/num_sim\n",
    "print(paste(\"P-value for weight: \",p_weight))"
   ]
  },
  {
   "cell_type": "markdown",
   "metadata": {},
   "source": [
    "**3) Constructing confidence interval**"
   ]
  },
  {
   "cell_type": "code",
   "execution_count": 8,
   "metadata": {},
   "outputs": [
    {
     "name": "stdout",
     "output_type": "stream",
     "text": [
      "[1] \"Finished simulation 100\"\n"
     ]
    }
   ],
   "source": [
    "## Stress: what is the minimum/maximum uniform treatment effect C that we stop\n",
    "#   rejecting the null of tau_i = C for all i at 95% confidence interval?\n",
    "stress_C <- seq(from=-1,to=0,by=0.025)\n",
    "weight_C <- seq(from=-3,to=7,by=0.25)\n",
    "num_sim = 100\n",
    "cnames <- c()\n",
    "sim_T <- as.data.frame(matrix(0, ncol = 2*length(stress_C), nrow = num_sim))\n",
    "for (cnum in 1:length(stress_C)) {\n",
    "    cnames <- c(cnames,paste(\"T_stress_s\",cnum,sep=\"\"))\n",
    "    cnames <- c(cnames,paste(\"T_weight_s\",cnum,sep=\"\"))\n",
    "}\n",
    "names(sim_T) <- cnames\n",
    "\n",
    "for (s in 1:num_sim) {\n",
    "    \n",
    "    # re-randomize\n",
    "    a <- sample(1:num_m, 6)\n",
    "    b <- sample((num_m+1):(num_m+num_f),6)\n",
    "    df$sim_treat <- 0\n",
    "    df$sim_treat[c(a,b)] <- 1\n",
    "    \n",
    "    for (cnum in 1:length(stress_C)) {\n",
    "        # calculate imputed value of Y_i[0]\n",
    "        c_stress <- stress_C[cnum]\n",
    "        c_weight <- weight_C[cnum]\n",
    "        df$stress12_s <- df$stress12\n",
    "        df$weight12_s <- df$weight12\n",
    "        df[(df$treat==1)&(df$sim_treat==0),\"stress12_s\"] <- df[(df$treat==1)&(df$sim_treat==0),\"stress12\"] - c_stress\n",
    "        df[(df$treat==0)&(df$sim_treat==1),\"stress12_s\"] <- df[(df$treat==0)&(df$sim_treat==1),\"stress12\"] + c_stress\n",
    "        df[(df$treat==1)&(df$sim_treat==0),\"weight12_s\"] <- df[(df$treat==1)&(df$sim_treat==0),\"weight12\"] - c_weight\n",
    "        df[(df$treat==0)&(df$sim_treat==1),\"weight12_s\"] <- df[(df$treat==0)&(df$sim_treat==1),\"weight12\"] + c_weight\n",
    "        # Run regressions\n",
    "        sim_T[s,paste(\"T_stress_s\",cnum,sep=\"\")] <- coef(summary(felm(stress12_s ~ sim_treat + age | gender, data=df)))[\"sim_treat\",1]\n",
    "        sim_T[s,paste(\"T_weight_s\",cnum,sep=\"\")] <- coef(summary(felm(weight12_s ~ sim_treat + age | gender, data=df)))[\"sim_treat\",1]\n",
    "    }\n",
    "    \n",
    "    # Monitoring (doesn't work right now; reported after everything is finished)\n",
    "    if (s%%100 == 0) {\n",
    "        print(paste(\"Finished simulation\",s))\n",
    "    }\n",
    "}"
   ]
  },
  {
   "cell_type": "code",
   "execution_count": 9,
   "metadata": {},
   "outputs": [
    {
     "data": {
      "text/html": [
       "0"
      ],
      "text/latex": [
       "0"
      ],
      "text/markdown": [
       "0"
      ],
      "text/plain": [
       "[1] 0"
      ]
     },
     "metadata": {},
     "output_type": "display_data"
    },
    {
     "data": {
      "text/html": [
       "0"
      ],
      "text/latex": [
       "0"
      ],
      "text/markdown": [
       "0"
      ],
      "text/plain": [
       "[1] 0"
      ]
     },
     "metadata": {},
     "output_type": "display_data"
    },
    {
     "data": {
      "text/html": [
       "0.01"
      ],
      "text/latex": [
       "0.01"
      ],
      "text/markdown": [
       "0.01"
      ],
      "text/plain": [
       "[1] 0.01"
      ]
     },
     "metadata": {},
     "output_type": "display_data"
    },
    {
     "data": {
      "text/html": [
       "0.22"
      ],
      "text/latex": [
       "0.22"
      ],
      "text/markdown": [
       "0.22"
      ],
      "text/plain": [
       "[1] 0.22"
      ]
     },
     "metadata": {},
     "output_type": "display_data"
    }
   ],
   "source": [
    "## first check whether the p-value for C=0 is similar to what we found above.\n",
    "# Note that we calculate p-value and confidence interval in the same simulation.\n",
    "stress_C[41]\n",
    "weight_C[13]\n",
    "sum(abs(sim_T$T_stress_s41) >= abs(T_stress))/num_sim\n",
    "sum(abs(sim_T$T_weight_s13) >= abs(T_weight))/num_sim"
   ]
  },
  {
   "cell_type": "code",
   "execution_count": 10,
   "metadata": {},
   "outputs": [
    {
     "data": {
      "text/html": [
       "<table>\n",
       "<caption>A data.frame: 41 × 6</caption>\n",
       "<thead>\n",
       "\t<tr><th scope=col>C_stress</th><th scope=col>pval_stress</th><th scope=col>CI_stress_95</th><th scope=col>C_weight</th><th scope=col>pval_weight</th><th scope=col>CI_weight_95</th></tr>\n",
       "\t<tr><th scope=col>&lt;dbl&gt;</th><th scope=col>&lt;dbl&gt;</th><th scope=col>&lt;lgl&gt;</th><th scope=col>&lt;dbl&gt;</th><th scope=col>&lt;dbl&gt;</th><th scope=col>&lt;lgl&gt;</th></tr>\n",
       "</thead>\n",
       "<tbody>\n",
       "\t<tr><td>-1.000</td><td>0.00</td><td>FALSE</td><td>-3.00</td><td>0.00</td><td>FALSE</td></tr>\n",
       "\t<tr><td>-0.975</td><td>0.00</td><td>FALSE</td><td>-2.75</td><td>0.00</td><td>FALSE</td></tr>\n",
       "\t<tr><td>-0.950</td><td>0.00</td><td>FALSE</td><td>-2.50</td><td>0.00</td><td>FALSE</td></tr>\n",
       "\t<tr><td>-0.925</td><td>0.00</td><td>FALSE</td><td>-2.25</td><td>0.01</td><td>FALSE</td></tr>\n",
       "\t<tr><td>-0.900</td><td>0.00</td><td>FALSE</td><td>-2.00</td><td>0.02</td><td>FALSE</td></tr>\n",
       "\t<tr><td>-0.875</td><td>0.00</td><td>FALSE</td><td>-1.75</td><td>0.04</td><td>FALSE</td></tr>\n",
       "\t<tr><td>-0.850</td><td>0.00</td><td>FALSE</td><td>-1.50</td><td>0.05</td><td> TRUE</td></tr>\n",
       "\t<tr><td>-0.825</td><td>0.00</td><td>FALSE</td><td>-1.25</td><td>0.05</td><td> TRUE</td></tr>\n",
       "\t<tr><td>-0.800</td><td>0.00</td><td>FALSE</td><td>-1.00</td><td>0.09</td><td> TRUE</td></tr>\n",
       "\t<tr><td>-0.775</td><td>0.00</td><td>FALSE</td><td>-0.75</td><td>0.13</td><td> TRUE</td></tr>\n",
       "\t<tr><td>-0.750</td><td>0.01</td><td>FALSE</td><td>-0.50</td><td>0.17</td><td> TRUE</td></tr>\n",
       "\t<tr><td>-0.725</td><td>0.01</td><td>FALSE</td><td>-0.25</td><td>0.20</td><td> TRUE</td></tr>\n",
       "\t<tr><td>-0.700</td><td>0.01</td><td>FALSE</td><td> 0.00</td><td>0.22</td><td> TRUE</td></tr>\n",
       "\t<tr><td>-0.675</td><td>0.01</td><td>FALSE</td><td> 0.25</td><td>0.33</td><td> TRUE</td></tr>\n",
       "\t<tr><td>-0.650</td><td>0.01</td><td>FALSE</td><td> 0.50</td><td>0.38</td><td> TRUE</td></tr>\n",
       "\t<tr><td>-0.625</td><td>0.02</td><td>FALSE</td><td> 0.75</td><td>0.42</td><td> TRUE</td></tr>\n",
       "\t<tr><td>-0.600</td><td>0.02</td><td>FALSE</td><td> 1.00</td><td>0.50</td><td> TRUE</td></tr>\n",
       "\t<tr><td>-0.575</td><td>0.03</td><td>FALSE</td><td> 1.25</td><td>0.59</td><td> TRUE</td></tr>\n",
       "\t<tr><td>-0.550</td><td>0.03</td><td>FALSE</td><td> 1.50</td><td>0.69</td><td> TRUE</td></tr>\n",
       "\t<tr><td>-0.525</td><td>0.07</td><td> TRUE</td><td> 1.75</td><td>0.73</td><td> TRUE</td></tr>\n",
       "\t<tr><td>-0.500</td><td>0.18</td><td> TRUE</td><td> 2.00</td><td>0.82</td><td> TRUE</td></tr>\n",
       "\t<tr><td>-0.475</td><td>0.29</td><td> TRUE</td><td> 2.25</td><td>0.94</td><td> TRUE</td></tr>\n",
       "\t<tr><td>-0.450</td><td>0.43</td><td> TRUE</td><td> 2.50</td><td>0.98</td><td> TRUE</td></tr>\n",
       "\t<tr><td>-0.425</td><td>0.63</td><td> TRUE</td><td> 2.75</td><td>0.86</td><td> TRUE</td></tr>\n",
       "\t<tr><td>-0.400</td><td>0.80</td><td> TRUE</td><td> 3.00</td><td>0.77</td><td> TRUE</td></tr>\n",
       "\t<tr><td>-0.375</td><td>0.93</td><td> TRUE</td><td> 3.25</td><td>0.69</td><td> TRUE</td></tr>\n",
       "\t<tr><td>-0.350</td><td>0.94</td><td> TRUE</td><td> 3.50</td><td>0.63</td><td> TRUE</td></tr>\n",
       "\t<tr><td>-0.325</td><td>0.80</td><td> TRUE</td><td> 3.75</td><td>0.49</td><td> TRUE</td></tr>\n",
       "\t<tr><td>-0.300</td><td>0.61</td><td> TRUE</td><td> 4.00</td><td>0.43</td><td> TRUE</td></tr>\n",
       "\t<tr><td>-0.275</td><td>0.43</td><td> TRUE</td><td> 4.25</td><td>0.38</td><td> TRUE</td></tr>\n",
       "\t<tr><td>-0.250</td><td>0.36</td><td> TRUE</td><td> 4.50</td><td>0.32</td><td> TRUE</td></tr>\n",
       "\t<tr><td>-0.225</td><td>0.29</td><td> TRUE</td><td> 4.75</td><td>0.25</td><td> TRUE</td></tr>\n",
       "\t<tr><td>-0.200</td><td>0.19</td><td> TRUE</td><td> 5.00</td><td>0.21</td><td> TRUE</td></tr>\n",
       "\t<tr><td>-0.175</td><td>0.10</td><td> TRUE</td><td> 5.25</td><td>0.18</td><td> TRUE</td></tr>\n",
       "\t<tr><td>-0.150</td><td>0.06</td><td> TRUE</td><td> 5.50</td><td>0.15</td><td> TRUE</td></tr>\n",
       "\t<tr><td>-0.125</td><td>0.02</td><td>FALSE</td><td> 5.75</td><td>0.15</td><td> TRUE</td></tr>\n",
       "\t<tr><td>-0.100</td><td>0.01</td><td>FALSE</td><td> 6.00</td><td>0.12</td><td> TRUE</td></tr>\n",
       "\t<tr><td>-0.075</td><td>0.01</td><td>FALSE</td><td> 6.25</td><td>0.11</td><td> TRUE</td></tr>\n",
       "\t<tr><td>-0.050</td><td>0.01</td><td>FALSE</td><td> 6.50</td><td>0.06</td><td> TRUE</td></tr>\n",
       "\t<tr><td>-0.025</td><td>0.01</td><td>FALSE</td><td> 6.75</td><td>0.06</td><td> TRUE</td></tr>\n",
       "\t<tr><td> 0.000</td><td>0.01</td><td>FALSE</td><td> 7.00</td><td>0.04</td><td>FALSE</td></tr>\n",
       "</tbody>\n",
       "</table>\n"
      ],
      "text/latex": [
       "A data.frame: 41 × 6\n",
       "\\begin{tabular}{r|llllll}\n",
       " C\\_stress & pval\\_stress & CI\\_stress\\_95 & C\\_weight & pval\\_weight & CI\\_weight\\_95\\\\\n",
       " <dbl> & <dbl> & <lgl> & <dbl> & <dbl> & <lgl>\\\\\n",
       "\\hline\n",
       "\t -1.000 & 0.00 & FALSE & -3.00 & 0.00 & FALSE\\\\\n",
       "\t -0.975 & 0.00 & FALSE & -2.75 & 0.00 & FALSE\\\\\n",
       "\t -0.950 & 0.00 & FALSE & -2.50 & 0.00 & FALSE\\\\\n",
       "\t -0.925 & 0.00 & FALSE & -2.25 & 0.01 & FALSE\\\\\n",
       "\t -0.900 & 0.00 & FALSE & -2.00 & 0.02 & FALSE\\\\\n",
       "\t -0.875 & 0.00 & FALSE & -1.75 & 0.04 & FALSE\\\\\n",
       "\t -0.850 & 0.00 & FALSE & -1.50 & 0.05 &  TRUE\\\\\n",
       "\t -0.825 & 0.00 & FALSE & -1.25 & 0.05 &  TRUE\\\\\n",
       "\t -0.800 & 0.00 & FALSE & -1.00 & 0.09 &  TRUE\\\\\n",
       "\t -0.775 & 0.00 & FALSE & -0.75 & 0.13 &  TRUE\\\\\n",
       "\t -0.750 & 0.01 & FALSE & -0.50 & 0.17 &  TRUE\\\\\n",
       "\t -0.725 & 0.01 & FALSE & -0.25 & 0.20 &  TRUE\\\\\n",
       "\t -0.700 & 0.01 & FALSE &  0.00 & 0.22 &  TRUE\\\\\n",
       "\t -0.675 & 0.01 & FALSE &  0.25 & 0.33 &  TRUE\\\\\n",
       "\t -0.650 & 0.01 & FALSE &  0.50 & 0.38 &  TRUE\\\\\n",
       "\t -0.625 & 0.02 & FALSE &  0.75 & 0.42 &  TRUE\\\\\n",
       "\t -0.600 & 0.02 & FALSE &  1.00 & 0.50 &  TRUE\\\\\n",
       "\t -0.575 & 0.03 & FALSE &  1.25 & 0.59 &  TRUE\\\\\n",
       "\t -0.550 & 0.03 & FALSE &  1.50 & 0.69 &  TRUE\\\\\n",
       "\t -0.525 & 0.07 &  TRUE &  1.75 & 0.73 &  TRUE\\\\\n",
       "\t -0.500 & 0.18 &  TRUE &  2.00 & 0.82 &  TRUE\\\\\n",
       "\t -0.475 & 0.29 &  TRUE &  2.25 & 0.94 &  TRUE\\\\\n",
       "\t -0.450 & 0.43 &  TRUE &  2.50 & 0.98 &  TRUE\\\\\n",
       "\t -0.425 & 0.63 &  TRUE &  2.75 & 0.86 &  TRUE\\\\\n",
       "\t -0.400 & 0.80 &  TRUE &  3.00 & 0.77 &  TRUE\\\\\n",
       "\t -0.375 & 0.93 &  TRUE &  3.25 & 0.69 &  TRUE\\\\\n",
       "\t -0.350 & 0.94 &  TRUE &  3.50 & 0.63 &  TRUE\\\\\n",
       "\t -0.325 & 0.80 &  TRUE &  3.75 & 0.49 &  TRUE\\\\\n",
       "\t -0.300 & 0.61 &  TRUE &  4.00 & 0.43 &  TRUE\\\\\n",
       "\t -0.275 & 0.43 &  TRUE &  4.25 & 0.38 &  TRUE\\\\\n",
       "\t -0.250 & 0.36 &  TRUE &  4.50 & 0.32 &  TRUE\\\\\n",
       "\t -0.225 & 0.29 &  TRUE &  4.75 & 0.25 &  TRUE\\\\\n",
       "\t -0.200 & 0.19 &  TRUE &  5.00 & 0.21 &  TRUE\\\\\n",
       "\t -0.175 & 0.10 &  TRUE &  5.25 & 0.18 &  TRUE\\\\\n",
       "\t -0.150 & 0.06 &  TRUE &  5.50 & 0.15 &  TRUE\\\\\n",
       "\t -0.125 & 0.02 & FALSE &  5.75 & 0.15 &  TRUE\\\\\n",
       "\t -0.100 & 0.01 & FALSE &  6.00 & 0.12 &  TRUE\\\\\n",
       "\t -0.075 & 0.01 & FALSE &  6.25 & 0.11 &  TRUE\\\\\n",
       "\t -0.050 & 0.01 & FALSE &  6.50 & 0.06 &  TRUE\\\\\n",
       "\t -0.025 & 0.01 & FALSE &  6.75 & 0.06 &  TRUE\\\\\n",
       "\t  0.000 & 0.01 & FALSE &  7.00 & 0.04 & FALSE\\\\\n",
       "\\end{tabular}\n"
      ],
      "text/markdown": [
       "\n",
       "A data.frame: 41 × 6\n",
       "\n",
       "| C_stress &lt;dbl&gt; | pval_stress &lt;dbl&gt; | CI_stress_95 &lt;lgl&gt; | C_weight &lt;dbl&gt; | pval_weight &lt;dbl&gt; | CI_weight_95 &lt;lgl&gt; |\n",
       "|---|---|---|---|---|---|\n",
       "| -1.000 | 0.00 | FALSE | -3.00 | 0.00 | FALSE |\n",
       "| -0.975 | 0.00 | FALSE | -2.75 | 0.00 | FALSE |\n",
       "| -0.950 | 0.00 | FALSE | -2.50 | 0.00 | FALSE |\n",
       "| -0.925 | 0.00 | FALSE | -2.25 | 0.01 | FALSE |\n",
       "| -0.900 | 0.00 | FALSE | -2.00 | 0.02 | FALSE |\n",
       "| -0.875 | 0.00 | FALSE | -1.75 | 0.04 | FALSE |\n",
       "| -0.850 | 0.00 | FALSE | -1.50 | 0.05 |  TRUE |\n",
       "| -0.825 | 0.00 | FALSE | -1.25 | 0.05 |  TRUE |\n",
       "| -0.800 | 0.00 | FALSE | -1.00 | 0.09 |  TRUE |\n",
       "| -0.775 | 0.00 | FALSE | -0.75 | 0.13 |  TRUE |\n",
       "| -0.750 | 0.01 | FALSE | -0.50 | 0.17 |  TRUE |\n",
       "| -0.725 | 0.01 | FALSE | -0.25 | 0.20 |  TRUE |\n",
       "| -0.700 | 0.01 | FALSE |  0.00 | 0.22 |  TRUE |\n",
       "| -0.675 | 0.01 | FALSE |  0.25 | 0.33 |  TRUE |\n",
       "| -0.650 | 0.01 | FALSE |  0.50 | 0.38 |  TRUE |\n",
       "| -0.625 | 0.02 | FALSE |  0.75 | 0.42 |  TRUE |\n",
       "| -0.600 | 0.02 | FALSE |  1.00 | 0.50 |  TRUE |\n",
       "| -0.575 | 0.03 | FALSE |  1.25 | 0.59 |  TRUE |\n",
       "| -0.550 | 0.03 | FALSE |  1.50 | 0.69 |  TRUE |\n",
       "| -0.525 | 0.07 |  TRUE |  1.75 | 0.73 |  TRUE |\n",
       "| -0.500 | 0.18 |  TRUE |  2.00 | 0.82 |  TRUE |\n",
       "| -0.475 | 0.29 |  TRUE |  2.25 | 0.94 |  TRUE |\n",
       "| -0.450 | 0.43 |  TRUE |  2.50 | 0.98 |  TRUE |\n",
       "| -0.425 | 0.63 |  TRUE |  2.75 | 0.86 |  TRUE |\n",
       "| -0.400 | 0.80 |  TRUE |  3.00 | 0.77 |  TRUE |\n",
       "| -0.375 | 0.93 |  TRUE |  3.25 | 0.69 |  TRUE |\n",
       "| -0.350 | 0.94 |  TRUE |  3.50 | 0.63 |  TRUE |\n",
       "| -0.325 | 0.80 |  TRUE |  3.75 | 0.49 |  TRUE |\n",
       "| -0.300 | 0.61 |  TRUE |  4.00 | 0.43 |  TRUE |\n",
       "| -0.275 | 0.43 |  TRUE |  4.25 | 0.38 |  TRUE |\n",
       "| -0.250 | 0.36 |  TRUE |  4.50 | 0.32 |  TRUE |\n",
       "| -0.225 | 0.29 |  TRUE |  4.75 | 0.25 |  TRUE |\n",
       "| -0.200 | 0.19 |  TRUE |  5.00 | 0.21 |  TRUE |\n",
       "| -0.175 | 0.10 |  TRUE |  5.25 | 0.18 |  TRUE |\n",
       "| -0.150 | 0.06 |  TRUE |  5.50 | 0.15 |  TRUE |\n",
       "| -0.125 | 0.02 | FALSE |  5.75 | 0.15 |  TRUE |\n",
       "| -0.100 | 0.01 | FALSE |  6.00 | 0.12 |  TRUE |\n",
       "| -0.075 | 0.01 | FALSE |  6.25 | 0.11 |  TRUE |\n",
       "| -0.050 | 0.01 | FALSE |  6.50 | 0.06 |  TRUE |\n",
       "| -0.025 | 0.01 | FALSE |  6.75 | 0.06 |  TRUE |\n",
       "|  0.000 | 0.01 | FALSE |  7.00 | 0.04 | FALSE |\n",
       "\n"
      ],
      "text/plain": [
       "   C_stress pval_stress CI_stress_95 C_weight pval_weight CI_weight_95\n",
       "1  -1.000   0.00        FALSE        -3.00    0.00        FALSE       \n",
       "2  -0.975   0.00        FALSE        -2.75    0.00        FALSE       \n",
       "3  -0.950   0.00        FALSE        -2.50    0.00        FALSE       \n",
       "4  -0.925   0.00        FALSE        -2.25    0.01        FALSE       \n",
       "5  -0.900   0.00        FALSE        -2.00    0.02        FALSE       \n",
       "6  -0.875   0.00        FALSE        -1.75    0.04        FALSE       \n",
       "7  -0.850   0.00        FALSE        -1.50    0.05         TRUE       \n",
       "8  -0.825   0.00        FALSE        -1.25    0.05         TRUE       \n",
       "9  -0.800   0.00        FALSE        -1.00    0.09         TRUE       \n",
       "10 -0.775   0.00        FALSE        -0.75    0.13         TRUE       \n",
       "11 -0.750   0.01        FALSE        -0.50    0.17         TRUE       \n",
       "12 -0.725   0.01        FALSE        -0.25    0.20         TRUE       \n",
       "13 -0.700   0.01        FALSE         0.00    0.22         TRUE       \n",
       "14 -0.675   0.01        FALSE         0.25    0.33         TRUE       \n",
       "15 -0.650   0.01        FALSE         0.50    0.38         TRUE       \n",
       "16 -0.625   0.02        FALSE         0.75    0.42         TRUE       \n",
       "17 -0.600   0.02        FALSE         1.00    0.50         TRUE       \n",
       "18 -0.575   0.03        FALSE         1.25    0.59         TRUE       \n",
       "19 -0.550   0.03        FALSE         1.50    0.69         TRUE       \n",
       "20 -0.525   0.07         TRUE         1.75    0.73         TRUE       \n",
       "21 -0.500   0.18         TRUE         2.00    0.82         TRUE       \n",
       "22 -0.475   0.29         TRUE         2.25    0.94         TRUE       \n",
       "23 -0.450   0.43         TRUE         2.50    0.98         TRUE       \n",
       "24 -0.425   0.63         TRUE         2.75    0.86         TRUE       \n",
       "25 -0.400   0.80         TRUE         3.00    0.77         TRUE       \n",
       "26 -0.375   0.93         TRUE         3.25    0.69         TRUE       \n",
       "27 -0.350   0.94         TRUE         3.50    0.63         TRUE       \n",
       "28 -0.325   0.80         TRUE         3.75    0.49         TRUE       \n",
       "29 -0.300   0.61         TRUE         4.00    0.43         TRUE       \n",
       "30 -0.275   0.43         TRUE         4.25    0.38         TRUE       \n",
       "31 -0.250   0.36         TRUE         4.50    0.32         TRUE       \n",
       "32 -0.225   0.29         TRUE         4.75    0.25         TRUE       \n",
       "33 -0.200   0.19         TRUE         5.00    0.21         TRUE       \n",
       "34 -0.175   0.10         TRUE         5.25    0.18         TRUE       \n",
       "35 -0.150   0.06         TRUE         5.50    0.15         TRUE       \n",
       "36 -0.125   0.02        FALSE         5.75    0.15         TRUE       \n",
       "37 -0.100   0.01        FALSE         6.00    0.12         TRUE       \n",
       "38 -0.075   0.01        FALSE         6.25    0.11         TRUE       \n",
       "39 -0.050   0.01        FALSE         6.50    0.06         TRUE       \n",
       "40 -0.025   0.01        FALSE         6.75    0.06         TRUE       \n",
       "41  0.000   0.01        FALSE         7.00    0.04        FALSE       "
      ]
     },
     "metadata": {},
     "output_type": "display_data"
    }
   ],
   "source": [
    "## Summarize simulated statistics for each C and create confidence interval\n",
    "pvals <- as.data.frame(matrix(0, ncol = 6, nrow = length(stress_C)))\n",
    "names(pvals) <- c(\"C_stress\",\"pval_stress\",\"CI_stress_95\",\"C_weight\",\"pval_weight\",\"CI_weight_95\")\n",
    "for (cnum in 1:length(stress_C)) {\n",
    "    pvals[cnum,'C_stress'] <- stress_C[cnum]\n",
    "    pvals[cnum,'pval_stress'] <- sum(abs(sim_T[paste(\"T_stress_s\",cnum,sep=\"\")]-stress_C[cnum]) \n",
    "                                     >= abs(T_stress-stress_C[cnum]))/num_sim\n",
    "    pvals[cnum,'C_weight'] <- weight_C[cnum]\n",
    "    pvals[cnum,'pval_weight'] <- sum(abs(sim_T[paste(\"T_weight_s\",cnum,sep=\"\")]-weight_C[cnum]) \n",
    "                                     >= abs(T_weight-weight_C[cnum]))/num_sim\n",
    "\n",
    "}\n",
    "pvals$CI_stress_95 <- (pvals$pval_stress >= 0.05)\n",
    "pvals$CI_weight_95 <- (pvals$pval_weight >= 0.05)\n",
    "pvals\n",
    "# Note: to be conservative, add one more top and bottom."
   ]
  },
  {
   "cell_type": "code",
   "execution_count": 11,
   "metadata": {},
   "outputs": [
    {
     "data": {
      "text/html": [
       "<table>\n",
       "<caption>A matrix: 1 × 2 of type dbl</caption>\n",
       "<thead>\n",
       "\t<tr><th></th><th scope=col>2.5 %</th><th scope=col>97.5 %</th></tr>\n",
       "</thead>\n",
       "<tbody>\n",
       "\t<tr><th scope=row>treat</th><td>-0.5975932</td><td>-0.126789</td></tr>\n",
       "</tbody>\n",
       "</table>\n"
      ],
      "text/latex": [
       "A matrix: 1 × 2 of type dbl\n",
       "\\begin{tabular}{r|ll}\n",
       "  & 2.5 \\% & 97.5 \\%\\\\\n",
       "\\hline\n",
       "\ttreat & -0.5975932 & -0.126789\\\\\n",
       "\\end{tabular}\n"
      ],
      "text/markdown": [
       "\n",
       "A matrix: 1 × 2 of type dbl\n",
       "\n",
       "| <!--/--> | 2.5 % | 97.5 % |\n",
       "|---|---|---|\n",
       "| treat | -0.5975932 | -0.126789 |\n",
       "\n"
      ],
      "text/plain": [
       "      2.5 %      97.5 %   \n",
       "treat -0.5975932 -0.126789"
      ]
     },
     "metadata": {},
     "output_type": "display_data"
    },
    {
     "data": {
      "text/html": [
       "<table>\n",
       "<caption>A matrix: 1 × 2 of type dbl</caption>\n",
       "<thead>\n",
       "\t<tr><th></th><th scope=col>2.5 %</th><th scope=col>97.5 %</th></tr>\n",
       "</thead>\n",
       "<tbody>\n",
       "\t<tr><th scope=row>treat</th><td>-1.38045</td><td>6.210833</td></tr>\n",
       "</tbody>\n",
       "</table>\n"
      ],
      "text/latex": [
       "A matrix: 1 × 2 of type dbl\n",
       "\\begin{tabular}{r|ll}\n",
       "  & 2.5 \\% & 97.5 \\%\\\\\n",
       "\\hline\n",
       "\ttreat & -1.38045 & 6.210833\\\\\n",
       "\\end{tabular}\n"
      ],
      "text/markdown": [
       "\n",
       "A matrix: 1 × 2 of type dbl\n",
       "\n",
       "| <!--/--> | 2.5 % | 97.5 % |\n",
       "|---|---|---|\n",
       "| treat | -1.38045 | 6.210833 |\n",
       "\n"
      ],
      "text/plain": [
       "      2.5 %    97.5 %  \n",
       "treat -1.38045 6.210833"
      ]
     },
     "metadata": {},
     "output_type": "display_data"
    }
   ],
   "source": [
    "## Compare with regression confidence interval\n",
    "st <- felm(stress12 ~ treat + age | gender, data=df)\n",
    "wt <- felm(weight12 ~ treat + age | gender, data=df)\n",
    "confint(st, \"treat\")\n",
    "confint(wt, \"treat\")"
   ]
  },
  {
   "cell_type": "code",
   "execution_count": null,
   "metadata": {},
   "outputs": [],
   "source": []
  }
 ],
 "metadata": {
  "kernelspec": {
   "display_name": "R",
   "language": "R",
   "name": "ir"
  },
  "language_info": {
   "codemirror_mode": "r",
   "file_extension": ".r",
   "mimetype": "text/x-r-source",
   "name": "R",
   "pygments_lexer": "r",
   "version": "3.6.1"
  }
 },
 "nbformat": 4,
 "nbformat_minor": 2
}
