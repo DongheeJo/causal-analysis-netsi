{
 "cells": [
  {
   "cell_type": "markdown",
   "metadata": {},
   "source": [
    "# NETSI Special Topic: Causal Analysis\n",
    "## Jupyter notebook on exact inference with networked data (interference)\n",
    "**Based on: Athey, Eckles, and Imbens (2018)**\n",
    "\n",
    "In this notebook, we will conduct randomization inference for the no-spillover null hypothesis, using the method suggested by Athey, Eckles, and Imbens (2018). We will do one statistics using random choice of focal sub-population, and I will leave the remaining to you for your own practice."
   ]
  },
  {
   "cell_type": "code",
   "execution_count": 1,
   "metadata": {},
   "outputs": [
    {
     "name": "stderr",
     "output_type": "stream",
     "text": [
      "Installing package into 'C:/Users/dongh/Documents/R/win-library/3.6'\n",
      "(as 'lib' is unspecified)\n"
     ]
    },
    {
     "name": "stdout",
     "output_type": "stream",
     "text": [
      "package 'R.matlab' successfully unpacked and MD5 sums checked\n",
      "\n",
      "The downloaded binary packages are in\n",
      "\tC:\\Users\\dongh\\AppData\\Local\\Temp\\Rtmpw98jn9\\downloaded_packages\n"
     ]
    },
    {
     "name": "stderr",
     "output_type": "stream",
     "text": [
      "Warning message:\n",
      "\"package 'R.matlab' was built under R version 3.6.3\"R.matlab v3.6.2 (2018-09-26) successfully loaded. See ?R.matlab for help.\n",
      "\n",
      "Attaching package: 'R.matlab'\n",
      "\n",
      "The following objects are masked from 'package:base':\n",
      "\n",
      "    getOption, isOpen\n",
      "\n"
     ]
    }
   ],
   "source": [
    "## packages\n",
    "install.packages(\"R.matlab\") # to load adjency matrix (Matlab file) to R\n",
    "library(R.matlab)"
   ]
  },
  {
   "cell_type": "code",
   "execution_count": 2,
   "metadata": {},
   "outputs": [],
   "source": [
    "## We're going to use Facebook network data (Add Health data is less publicly available)\n",
    "# Facebook data link: https://archive.org/details/oxford-2005-facebook-matrix\n",
    "# We will use Caltech network, only because it is the smallest one.\n",
    "pathname <- file.path(\"../data/AEI/\", \"Caltech_FB.mat\")\n",
    "data <- readMat(pathname)\n",
    "G_all <- data$A # Adjacency matrix\n",
    "info_all <- as.data.frame(data$local.info) # Info dataframe\n",
    "colnames(info_all) <- c(\"student\",\"gender\",\"major\",\"minor\",\"dorm\",\"year\",\"HS\")\n",
    "\n",
    "## Keep students only (553 students)\n",
    "sample_select <- info_all$student==1\n",
    "info <- info_all[sample_select,]\n",
    "G <- G_all[sample_select,sample_select]\n",
    "\n",
    "## Keep those with nonzero friends only (553 students)\n",
    "info$num_friends <- diag(G %*% G)\n",
    "sample_select <- info$num_friends>0\n",
    "info <- info[sample_select,]\n",
    "rownames(info) <- NULL\n",
    "G <- G[sample_select,sample_select]\n",
    "\n",
    "## Parameters to use below\n",
    "N <- dim(info)[1]\n",
    "M <- floor(N/2) # treatment: half\n",
    "\n",
    "## Save pre-data-generation info\n",
    "info$id <- c(1:N)\n",
    "info_pre <- info"
   ]
  },
  {
   "cell_type": "code",
   "execution_count": 3,
   "metadata": {},
   "outputs": [
    {
     "data": {
      "text/plain": [
       "   Min. 1st Qu.  Median    Mean 3rd Qu.    Max. \n",
       "   1.00   19.00   37.00   42.16   57.75  172.00 "
      ]
     },
     "metadata": {},
     "output_type": "display_data"
    },
    {
     "data": {
      "text/html": [
       "31.2869279745211"
      ],
      "text/latex": [
       "31.2869279745211"
      ],
      "text/markdown": [
       "31.2869279745211"
      ],
      "text/plain": [
       "[1] 31.28693"
      ]
     },
     "metadata": {},
     "output_type": "display_data"
    }
   ],
   "source": [
    "## Get number of friends for each student and compare with Add Health data\n",
    "info$num_friends <- diag(G %*% G)\n",
    "summary(info$num_friends)\n",
    "sd(info$num_friends)\n",
    "mean.friends <- mean(info$num_friends)\n",
    "\n",
    "# There are way more \"FB friends\" than Add Health data.\n",
    "# Given this, do you expect more power or less power from our test?\n",
    "# Fraction will be closer to 0.5 -> less power?\n",
    "# More focal-auxiliary links to explore -> more power?"
   ]
  },
  {
   "cell_type": "code",
   "execution_count": 21,
   "metadata": {},
   "outputs": [
    {
     "name": "stdout",
     "output_type": "stream",
     "text": [
      "[1] \"spillover effect = 0.4\"\n",
      "[1] 0.063\n",
      "[1] \"spillover effect = 4\"\n",
      "[1] 0.873\n",
      "[1] \"spillover effect = 40\"\n",
      "[1] 1\n"
     ]
    }
   ],
   "source": [
    "set.seed(1)\n",
    "sig <- 0.05 # significance level\n",
    "num_r <- 1000 # number of replications, 1000 in the paper\n",
    "num_sim <- 4000 # number of simulations, 4000 in the paper\n",
    "t_direct <- 0\n",
    "\n",
    "## We will try different magnitudes of spillover effect. The high t_spill, the more power our statistic should have.\n",
    "for (t_spill in c(0.4,4,40)) {\n",
    "\n",
    "    ## We will create the world num_r times and see how many times we can reject\n",
    "    reject <- 0\n",
    "    for (r in 1:num_r) {\n",
    "\n",
    "        ## Data generation, following AEI (additive spillover / spillover effect by fraction)\n",
    "        ## Assign treatment\n",
    "        info$w <- 0\n",
    "        info$w[sample(c(1:N))[1:M]] <- 1\n",
    "\n",
    "        ## Select focal sub-population randomly\n",
    "        info$F <- 0\n",
    "        info$F[sample(c(1:N))[1:M]] <- 1\n",
    "        Mf <- sum(info[info$F==1,\"w\"]) # number of treated focal sub-population\n",
    "        aux.ids <- info[info$F==0,\"id\"]\n",
    "\n",
    "        ## Count fraction of friends who are treated\n",
    "        info$num.treat.friends <- (G %*% info$w)[,1]\n",
    "        info$fr <- info$num.treat.friends / info$num_friends\n",
    "\n",
    "        ## Create observed outcome variable\n",
    "        info$Y_obs <- rnorm(N, mean=0, sd=1) + t_direct * info$w + t_spill * info$fr\n",
    "\n",
    "        ## Calculate t-stat from original assignment\n",
    "        info$num.aux.friend.treat <- (G %*% ((info$w)*(1-info$F)))[,1] # number of treated auxiliary friends\n",
    "        info$num.aux.friend.control <- (G %*% ((1-info$w)*(1-info$F)))[,1] # number of control auxiliary friends\n",
    "        info_focal <- info[info$F==1,]\n",
    "        T_elc.orig <- sum(info_focal$num.aux.friend.treat*info_focal$Y_obs)/sum(info_focal$num.aux.friend.treat) - \n",
    "            sum(info_focal$num.aux.friend.control*info_focal$Y_obs)/sum(info_focal$num.aux.friend.control)\n",
    "\n",
    "        ## Results will be saved here\n",
    "        df_result <- data.frame(s=c(1:num_sim))\n",
    "        df_result$T_elc <- 0\n",
    "\n",
    "        ## Simulation\n",
    "        for (s in 1:num_sim) {\n",
    "            # Re-draw treatment for auxiliary subp\n",
    "            info$w[info$F==0] <- 0\n",
    "            info$w[sample(aux.ids)[1:(M-Mf)]] <- 1\n",
    "\n",
    "            # Calculate test statistic (edge-level contrast statistic)\n",
    "            info$num.aux.friend.treat <- (G %*% ((info$w)*(1-info$F)))[,1] # number of treated auxiliary friends\n",
    "            info$num.aux.friend.control <- (G %*% ((1-info$w)*(1-info$F)))[,1] # number of control auxiliary friends\n",
    "            info_focal <- info[info$F==1,]\n",
    "            df_result$T_elc[s] <- sum(info_focal$num.aux.friend.treat*info_focal$Y_obs)/sum(info_focal$num.aux.friend.treat) - \n",
    "                sum(info_focal$num.aux.friend.control*info_focal$Y_obs)/sum(info_focal$num.aux.friend.control)\n",
    "        }\n",
    "\n",
    "        ## Calculate p-value, decide whether to reject or not\n",
    "        reject <- 1*(sum(abs(df_result$T_elc)>=abs(T_elc.orig))/num_sim < sig) + reject\n",
    "    }\n",
    "    print(paste(\"spillover effect =\",t_spill))\n",
    "    print(reject/num_r)\n",
    "}"
   ]
  },
  {
   "attachments": {},
   "cell_type": "markdown",
   "metadata": {},
   "source": [
    "**Exercise**\n",
    "\n",
    "* implement one other statistics and calculate power\n",
    "* (Optional): implement another focal sub-population choosing technique and calculate power"
   ]
  },
  {
   "cell_type": "code",
   "execution_count": null,
   "metadata": {},
   "outputs": [],
   "source": []
  }
 ],
 "metadata": {
  "kernelspec": {
   "display_name": "R",
   "language": "R",
   "name": "ir"
  },
  "language_info": {
   "codemirror_mode": "r",
   "file_extension": ".r",
   "mimetype": "text/x-r-source",
   "name": "R",
   "pygments_lexer": "r",
   "version": "3.6.1"
  }
 },
 "nbformat": 4,
 "nbformat_minor": 2
}
