{
 "cells": [
  {
   "cell_type": "markdown",
   "metadata": {},
   "source": [
    "# NETSI Special Topic: Causal Analysis\n",
    "## Jupyter notebook on instrumental variable approach (IV)"
   ]
  },
  {
   "cell_type": "code",
   "execution_count": 22,
   "metadata": {},
   "outputs": [],
   "source": [
    "## Set seed and parameters\n",
    "library(lfe) # for OLS (easier robust SE)\n",
    "library(AER) # for IV\n",
    "set.seed(10)\n",
    "N <- 50000"
   ]
  },
  {
   "cell_type": "markdown",
   "metadata": {},
   "source": [
    "### Naive OLS\n",
    "Causal link from private to salary is confounded by the household wealth, as in the last notebook."
   ]
  },
  {
   "cell_type": "code",
   "execution_count": 23,
   "metadata": {},
   "outputs": [
    {
     "name": "stdout",
     "output_type": "stream",
     "text": [
      "\n",
      " TRUE \n",
      "50000 \n"
     ]
    },
    {
     "data": {
      "text/html": [
       "<table>\n",
       "<caption>A data.frame: 6 × 9</caption>\n",
       "<thead>\n",
       "\t<tr><th scope=col>ID</th><th scope=col>urban</th><th scope=col>hhw</th><th scope=col>private0</th><th scope=col>private1</th><th scope=col>private</th><th scope=col>salary0</th><th scope=col>salary1</th><th scope=col>salary</th></tr>\n",
       "\t<tr><th scope=col>&lt;int&gt;</th><th scope=col>&lt;dbl&gt;</th><th scope=col>&lt;dbl&gt;</th><th scope=col>&lt;dbl&gt;</th><th scope=col>&lt;dbl&gt;</th><th scope=col>&lt;dbl&gt;</th><th scope=col>&lt;dbl&gt;</th><th scope=col>&lt;dbl&gt;</th><th scope=col>&lt;dbl&gt;</th></tr>\n",
       "</thead>\n",
       "<tbody>\n",
       "\t<tr><td>1</td><td>1</td><td>0</td><td>0</td><td>1</td><td>1</td><td> 54717.43</td><td> 64717.43</td><td> 64717.43</td></tr>\n",
       "\t<tr><td>2</td><td>0</td><td>1</td><td>1</td><td>1</td><td>1</td><td>141185.69</td><td>151185.69</td><td>151185.69</td></tr>\n",
       "\t<tr><td>3</td><td>0</td><td>1</td><td>1</td><td>1</td><td>1</td><td> 57274.26</td><td> 67274.26</td><td> 67274.26</td></tr>\n",
       "\t<tr><td>4</td><td>1</td><td>0</td><td>0</td><td>0</td><td>0</td><td> 22573.59</td><td> 32573.59</td><td> 22573.59</td></tr>\n",
       "\t<tr><td>5</td><td>0</td><td>1</td><td>1</td><td>1</td><td>1</td><td> 54664.85</td><td> 64664.85</td><td> 64664.85</td></tr>\n",
       "\t<tr><td>6</td><td>0</td><td>1</td><td>1</td><td>1</td><td>1</td><td> 51817.56</td><td> 61817.56</td><td> 61817.56</td></tr>\n",
       "</tbody>\n",
       "</table>\n"
      ],
      "text/latex": [
       "A data.frame: 6 × 9\n",
       "\\begin{tabular}{r|lllllllll}\n",
       " ID & urban & hhw & private0 & private1 & private & salary0 & salary1 & salary\\\\\n",
       " <int> & <dbl> & <dbl> & <dbl> & <dbl> & <dbl> & <dbl> & <dbl> & <dbl>\\\\\n",
       "\\hline\n",
       "\t 1 & 1 & 0 & 0 & 1 & 1 &  54717.43 &  64717.43 &  64717.43\\\\\n",
       "\t 2 & 0 & 1 & 1 & 1 & 1 & 141185.69 & 151185.69 & 151185.69\\\\\n",
       "\t 3 & 0 & 1 & 1 & 1 & 1 &  57274.26 &  67274.26 &  67274.26\\\\\n",
       "\t 4 & 1 & 0 & 0 & 0 & 0 &  22573.59 &  32573.59 &  22573.59\\\\\n",
       "\t 5 & 0 & 1 & 1 & 1 & 1 &  54664.85 &  64664.85 &  64664.85\\\\\n",
       "\t 6 & 0 & 1 & 1 & 1 & 1 &  51817.56 &  61817.56 &  61817.56\\\\\n",
       "\\end{tabular}\n"
      ],
      "text/markdown": [
       "\n",
       "A data.frame: 6 × 9\n",
       "\n",
       "| ID &lt;int&gt; | urban &lt;dbl&gt; | hhw &lt;dbl&gt; | private0 &lt;dbl&gt; | private1 &lt;dbl&gt; | private &lt;dbl&gt; | salary0 &lt;dbl&gt; | salary1 &lt;dbl&gt; | salary &lt;dbl&gt; |\n",
       "|---|---|---|---|---|---|---|---|---|\n",
       "| 1 | 1 | 0 | 0 | 1 | 1 |  54717.43 |  64717.43 |  64717.43 |\n",
       "| 2 | 0 | 1 | 1 | 1 | 1 | 141185.69 | 151185.69 | 151185.69 |\n",
       "| 3 | 0 | 1 | 1 | 1 | 1 |  57274.26 |  67274.26 |  67274.26 |\n",
       "| 4 | 1 | 0 | 0 | 0 | 0 |  22573.59 |  32573.59 |  22573.59 |\n",
       "| 5 | 0 | 1 | 1 | 1 | 1 |  54664.85 |  64664.85 |  64664.85 |\n",
       "| 6 | 0 | 1 | 1 | 1 | 1 |  51817.56 |  61817.56 |  61817.56 |\n",
       "\n"
      ],
      "text/plain": [
       "  ID urban hhw private0 private1 private salary0   salary1   salary   \n",
       "1 1  1     0   0        1        1        54717.43  64717.43  64717.43\n",
       "2 2  0     1   1        1        1       141185.69 151185.69 151185.69\n",
       "3 3  0     1   1        1        1        57274.26  67274.26  67274.26\n",
       "4 4  1     0   0        0        0        22573.59  32573.59  22573.59\n",
       "5 5  0     1   1        1        1        54664.85  64664.85  64664.85\n",
       "6 6  0     1   1        1        1        51817.56  61817.56  61817.56"
      ]
     },
     "metadata": {},
     "output_type": "display_data"
    },
    {
     "name": "stdout",
     "output_type": "stream",
     "text": [
      "\n",
      "Call:\n",
      "   felm(formula = salary ~ private, data = df) \n",
      "\n",
      "Residuals:\n",
      "    Min      1Q  Median      3Q     Max \n",
      "-167244  -27112       9   27124  165052 \n",
      "\n",
      "Coefficients:\n",
      "            Estimate Robust s.e t value Pr(>|t|)    \n",
      "(Intercept)  51737.9      240.2  215.40   <2e-16 ***\n",
      "private      17144.1      361.5   47.42   <2e-16 ***\n",
      "---\n",
      "Signif. codes:  0 '***' 0.001 '**' 0.01 '*' 0.05 '.' 0.1 ' ' 1\n",
      "\n",
      "Residual standard error: 40140 on 49998 degrees of freedom\n",
      "Multiple R-squared(full model): 0.04312   Adjusted R-squared: 0.0431 \n",
      "Multiple R-squared(proj model): 0.04312   Adjusted R-squared: 0.0431 \n",
      "F-statistic(full model, *iid*): 2253 on 1 and 49998 DF, p-value: < 2.2e-16 \n",
      "F-statistic(proj model):  2249 on 1 and 49998 DF, p-value: < 2.2e-16 \n",
      "\n",
      "\n"
     ]
    }
   ],
   "source": [
    "## Create empty dataframe\n",
    "df <- data.frame(\"ID\" = 1:N)\n",
    "\n",
    "## Simulate location (we'll assume private schools are only in urban area)\n",
    "df$urban <- floor(runif(N, min=0, max=2))\n",
    "\n",
    "## Simulate household wealth\n",
    "### Let's assume that what matters is HH wealth is > 1M or not (specific amount does not matter)\n",
    "df$hhw <- floor(runif(N, min=0, max=2))\n",
    "\n",
    "## Simulate the kid's decision to attend private college \n",
    "### Instead of completely random, more likely to attend private college if from wealthy HH\n",
    "### Living in urban area can sometimes turn decision toward attending private (but not vice versa)\n",
    "### Let's follow potential outcomes approach and simulate both private0 (D0) and private1 (D1)\n",
    "df$private0 <- 0.7*df$hhw + runif(N, min=0, max=1) # private school decision by non-urban (private if >1)\n",
    "df$private1 <- df$private0 + 0.2 # private school decision by urban (private if >1)\n",
    "df$private0 <- 1*(df$private0>1) # Replace with binary numbers\n",
    "df$private1 <- 1*(df$private1>1)\n",
    "\n",
    "### Check monotonicity\n",
    "print(table(df$private1>=df$private0))\n",
    "\n",
    "## Determine private1 vs private0 based on urban status\n",
    "df$private <- df$urban * df$private1 + (1-df$urban) * df$private0\n",
    "\n",
    "## Simulate earning\n",
    "treatment.effect <- 10000\n",
    "df$salary0 <- 50000 + df$hhw*10000 + rnorm(N, mean=0, sd=40000) ## potential outcome, when attending public (Y0)\n",
    "df$salary1 <- df$salary0 + treatment.effect ## potential outcome, when attending private (Y1)\n",
    "df$salary <- df$private * df$salary1 + (1-df$private) * df$salary0\n",
    "\n",
    "## Some sample data\n",
    "head(df)\n",
    "\n",
    "## Regression result\n",
    "OLS <- felm(salary ~ private, data=df)\n",
    "print(summary(OLS, robust=TRUE))"
   ]
  },
  {
   "cell_type": "markdown",
   "metadata": {},
   "source": [
    "### Instrumental variable approach\n",
    "\n",
    "As you can see above, we get biased result when we run this Naive regression. Suppose we don't observe household wealth, so including household wealth in our regression is impossible. What can we do?\n",
    "\n",
    "Fortunately, we have an instrument: urban affects wage only through private (exclusion), being urban can only make you to attend private college (monotonicity), and being in urban is not correlated with private school potential outcomes and wage potential outcomes (exogeneity).\n",
    "\n",
    "Using this, we can run IV and get unbiased estimate for the causal effect of interest."
   ]
  },
  {
   "cell_type": "code",
   "execution_count": 24,
   "metadata": {},
   "outputs": [
    {
     "name": "stdout",
     "output_type": "stream",
     "text": [
      "\n",
      "Call:\n",
      "ivreg(formula = salary ~ private | urban, data = df)\n",
      "\n",
      "Residuals:\n",
      "       Min         1Q     Median         3Q        Max \n",
      "-170859.19  -27217.07      27.89   27159.31  169552.14 \n",
      "\n",
      "Coefficients:\n",
      "            Estimate Std. Error t value Pr(>|t|)    \n",
      "(Intercept)  55352.6      846.4  65.394  < 2e-16 ***\n",
      "private       9029.3     1856.6   4.863 1.16e-06 ***\n",
      "---\n",
      "Signif. codes:  0 '***' 0.001 '**' 0.01 '*' 0.05 '.' 0.1 ' ' 1\n",
      "\n",
      "Residual standard error: 40340 on 49998 degrees of freedom\n",
      "Multiple R-Squared: 0.03346,\tAdjusted R-squared: 0.03344 \n",
      "Wald test: 23.65 on 1 and 49998 DF,  p-value: 1.158e-06 \n",
      "\n"
     ]
    }
   ],
   "source": [
    "IV = ivreg(salary ~ private | urban , data = df)\n",
    "print(summary(IV, robust=TRUE))"
   ]
  },
  {
   "cell_type": "code",
   "execution_count": 25,
   "metadata": {},
   "outputs": [
    {
     "name": "stdout",
     "output_type": "stream",
     "text": [
      "[1] 9029.257\n"
     ]
    }
   ],
   "source": [
    "## Check the result from ivreg is equivalent to FS/RF\n",
    "FS <- felm(private ~ urban, data = df)\n",
    "RF <- felm(salary ~ urban, data = df)\n",
    "FS.coef <- coef(summary(FS))[\"urban\",1]\n",
    "RF.coef <- coef(summary(RF))[\"urban\",1]\n",
    "print(RF.coef/FS.coef)"
   ]
  },
  {
   "cell_type": "markdown",
   "metadata": {},
   "source": [
    "### Causal relationship of the previous simulation represented by DAG"
   ]
  },
  {
   "cell_type": "code",
   "execution_count": 26,
   "metadata": {},
   "outputs": [],
   "source": [
    "library(igraph) # Some igraph tutorial: https://kateto.net/netscix2016.html"
   ]
  },
  {
   "cell_type": "code",
   "execution_count": 27,
   "metadata": {},
   "outputs": [
    {
     "data": {
      "image/png": "[encoded data removed]",
      "text/plain": [
       "Plot with title \"\""
      ]
     },
     "metadata": {},
     "output_type": "display_data"
    }
   ],
   "source": [
    "g1 <- graph_from_literal(Urban--+Private,Private--+Salary,HHW--+Private,HHW--+Salary)\n",
    "E(g1)$lty <- c(1,1,2,2)\n",
    "options(repr.plot.height=5)\n",
    "plot(g1, edge.arrow.size=0.5, edge.color=\"black\", vertex.color=\"white\", vertex.size=5, \n",
    "     vertex.frame.color=\"grey\", vertex.label.color=\"black\", \n",
    "     vertex.label.cex=0.8, vertex.label.dist=1.5, edge.curved=0)"
   ]
  },
  {
   "cell_type": "markdown",
   "metadata": {},
   "source": [
    "### LATE\n",
    "To demonstrate that the treatment effect that we're identifying is treatment effect of compliers, let's give much bigger treatment effect to always-takers and never-takers this time."
   ]
  },
  {
   "cell_type": "code",
   "execution_count": 28,
   "metadata": {},
   "outputs": [
    {
     "name": "stdout",
     "output_type": "stream",
     "text": [
      "\n",
      "Call:\n",
      "ivreg(formula = salary ~ private | urban, data = df.late)\n",
      "\n",
      "Residuals:\n",
      "      Min        1Q    Median        3Q       Max \n",
      "-162834.6  -28396.3     115.8   28326.7  195514.5 \n",
      "\n",
      "Coefficients:\n",
      "            Estimate Std. Error t value Pr(>|t|)    \n",
      "(Intercept)  60394.0      878.3   68.76  < 2e-16 ***\n",
      "private      13254.5     1926.4    6.88 6.04e-12 ***\n",
      "---\n",
      "Signif. codes:  0 '***' 0.001 '**' 0.01 '*' 0.05 '.' 0.1 ' ' 1\n",
      "\n",
      "Residual standard error: 41860 on 49998 degrees of freedom\n",
      "Multiple R-Squared: 0.08986,\tAdjusted R-squared: 0.08984 \n",
      "Wald test: 47.34 on 1 and 49998 DF,  p-value: 6.036e-12 \n",
      "\n"
     ]
    }
   ],
   "source": [
    "df.late <- df\n",
    "te.compliers <- 10000\n",
    "te.others <- 30000 # 10 times bigger treatment effect\n",
    "\n",
    "## potential outcome, when attending public (Y0)\n",
    "df.late$salary0 <- 50000 + df.late$hhw*10000 + rnorm(N, mean=0, sd=40000)\n",
    "\n",
    "## potential outcome, when attending private (Y1)\n",
    "df.late$salary1 <- df.late$salary0 + \n",
    "                    te.compliers*(df.late$private1>df.late$private0) +\n",
    "                    te.others*(df.late$private1==df.late$private0)\n",
    "df.late$salary <- df.late$private * df.late$salary1 + (1-df.late$private) * df.late$salary0\n",
    "\n",
    "## IV\n",
    "IV = ivreg(salary ~ private | urban , data = df.late)\n",
    "print(summary(IV, robust=TRUE))\n",
    "\n",
    "### Check that the result ~= treatment effect that we gave to the compliers"
   ]
  },
  {
   "cell_type": "markdown",
   "metadata": {},
   "source": [
    "### Violations of IV assumptions\n",
    "Now let's take a look at one of the cases where IV assumptions are violated. One example of IV assumption violation is when there is direct effect of being in urban area on our outcome variable (salary). Let's first draw DAG representing this situation, and then simulate it."
   ]
  },
  {
   "cell_type": "code",
   "execution_count": 47,
   "metadata": {},
   "outputs": [
    {
     "data": {
      "image/png": "[encoded data removed]",
      "text/plain": [
       "Plot with title \"\""
      ]
     },
     "metadata": {},
     "output_type": "display_data"
    }
   ],
   "source": [
    "g1 <- graph_from_literal(Urban--+Private,Private--+Salary,HHW--+Private,HHW--+Salary,Urban--+Salary)\n",
    "E(g1)$lty <- c(1,1,1,2,2)\n",
    "options(repr.plot.height=5)\n",
    "plot(g1, edge.arrow.size=0.5, edge.color=\"black\", vertex.color=\"white\", vertex.size=5, \n",
    "     vertex.frame.color=\"grey\", vertex.label.color=\"black\", \n",
    "     vertex.label.cex=0.8, vertex.label.dist=1.5, edge.curved=0.1)"
   ]
  },
  {
   "cell_type": "code",
   "execution_count": 38,
   "metadata": {},
   "outputs": [
    {
     "name": "stdout",
     "output_type": "stream",
     "text": [
      "\n",
      "Call:\n",
      "ivreg(formula = salary ~ private | urban, data = df.v)\n",
      "\n",
      "Residuals:\n",
      "      Min        1Q    Median        3Q       Max \n",
      "-180902.0  -30716.9     413.3   30864.8  194367.8 \n",
      "\n",
      "Coefficients:\n",
      "            Estimate Std. Error t value Pr(>|t|)    \n",
      "(Intercept)  38462.0      943.8   40.75   <2e-16 ***\n",
      "private      58497.6     2070.1   28.26   <2e-16 ***\n",
      "---\n",
      "Signif. codes:  0 '***' 0.001 '**' 0.01 '*' 0.05 '.' 0.1 ' ' 1\n",
      "\n",
      "Residual standard error: 44980 on 49998 degrees of freedom\n",
      "Multiple R-Squared: -0.1643,\tAdjusted R-squared: -0.1643 \n",
      "Wald test: 798.6 on 1 and 49998 DF,  p-value: < 2.2e-16 \n",
      "\n"
     ]
    }
   ],
   "source": [
    "df.v <- df\n",
    "\n",
    "## Simulate earning\n",
    "treatment.effect <- 10000\n",
    "df.v$salary0 <- 50000 + df.v$hhw*10000 + 10000*df.v$urban + rnorm(N, mean=0, sd=40000) ## potential outcome, when attending public (Y0)\n",
    "df.v$salary1 <- df.v$salary0 + treatment.effect ## potential outcome, when attending private (Y1)\n",
    "df.v$salary <- df.v$private * df.v$salary1 + (1-df.v$private) * df.v$salary0\n",
    "\n",
    "## IV\n",
    "IV = ivreg(salary ~ private | urban , data = df.v)\n",
    "print(summary(IV, robust=TRUE))\n",
    "\n",
    "### As you can see, this can introduce pretty serious problem..."
   ]
  },
  {
   "cell_type": "markdown",
   "metadata": {},
   "source": [
    "### Exercise\n",
    "Show a simulation exercise where another IV assumption is violoated."
   ]
  },
  {
   "cell_type": "code",
   "execution_count": null,
   "metadata": {},
   "outputs": [],
   "source": []
  }
 ],
 "metadata": {
  "kernelspec": {
   "display_name": "R",
   "language": "R",
   "name": "ir"
  },
  "language_info": {
   "codemirror_mode": "r",
   "file_extension": ".r",
   "mimetype": "text/x-r-source",
   "name": "R",
   "pygments_lexer": "r",
   "version": "3.6.1"
  }
 },
 "nbformat": 4,
 "nbformat_minor": 2
}
