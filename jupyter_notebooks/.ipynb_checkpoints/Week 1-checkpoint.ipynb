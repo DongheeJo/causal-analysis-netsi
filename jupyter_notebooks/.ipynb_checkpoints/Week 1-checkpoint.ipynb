{
 "cells": [
  {
   "cell_type": "markdown",
   "metadata": {},
   "source": [
    "# NETSI Special Topic: Causal Analysis\n",
    "## Jupyter notebook on regression basics"
   ]
  },
  {
   "cell_type": "code",
   "execution_count": 1,
   "metadata": {},
   "outputs": [
    {
     "name": "stderr",
     "output_type": "stream",
     "text": [
      "Loading required package: Matrix\n"
     ]
    }
   ],
   "source": [
    "## Set seed and parameters\n",
    "library(lfe)\n",
    "set.seed(5)\n",
    "N <- 2000"
   ]
  },
  {
   "cell_type": "markdown",
   "metadata": {},
   "source": [
    "### Baseline regression"
   ]
  },
  {
   "cell_type": "code",
   "execution_count": 2,
   "metadata": {},
   "outputs": [
    {
     "data": {
      "text/html": [
       "<table>\n",
       "<caption>A data.frame: 6 × 4</caption>\n",
       "<thead>\n",
       "\t<tr><th scope=col>ID</th><th scope=col>hhw</th><th scope=col>private</th><th scope=col>salary</th></tr>\n",
       "\t<tr><th scope=col>&lt;int&gt;</th><th scope=col>&lt;dbl&gt;</th><th scope=col>&lt;dbl&gt;</th><th scope=col>&lt;dbl&gt;</th></tr>\n",
       "</thead>\n",
       "<tbody>\n",
       "\t<tr><td>1</td><td>0</td><td>0</td><td>112160.884</td></tr>\n",
       "\t<tr><td>2</td><td>1</td><td>1</td><td> 43530.321</td></tr>\n",
       "\t<tr><td>3</td><td>1</td><td>1</td><td> 74163.727</td></tr>\n",
       "\t<tr><td>4</td><td>0</td><td>1</td><td> 25743.575</td></tr>\n",
       "\t<tr><td>5</td><td>0</td><td>0</td><td> -3212.614</td></tr>\n",
       "\t<tr><td>6</td><td>1</td><td>1</td><td>  6097.829</td></tr>\n",
       "</tbody>\n",
       "</table>\n"
      ],
      "text/latex": [
       "A data.frame: 6 × 4\n",
       "\\begin{tabular}{r|llll}\n",
       " ID & hhw & private & salary\\\\\n",
       " <int> & <dbl> & <dbl> & <dbl>\\\\\n",
       "\\hline\n",
       "\t 1 & 0 & 0 & 112160.884\\\\\n",
       "\t 2 & 1 & 1 &  43530.321\\\\\n",
       "\t 3 & 1 & 1 &  74163.727\\\\\n",
       "\t 4 & 0 & 1 &  25743.575\\\\\n",
       "\t 5 & 0 & 0 &  -3212.614\\\\\n",
       "\t 6 & 1 & 1 &   6097.829\\\\\n",
       "\\end{tabular}\n"
      ],
      "text/markdown": [
       "\n",
       "A data.frame: 6 × 4\n",
       "\n",
       "| ID &lt;int&gt; | hhw &lt;dbl&gt; | private &lt;dbl&gt; | salary &lt;dbl&gt; |\n",
       "|---|---|---|---|\n",
       "| 1 | 0 | 0 | 112160.884 |\n",
       "| 2 | 1 | 1 |  43530.321 |\n",
       "| 3 | 1 | 1 |  74163.727 |\n",
       "| 4 | 0 | 1 |  25743.575 |\n",
       "| 5 | 0 | 0 |  -3212.614 |\n",
       "| 6 | 1 | 1 |   6097.829 |\n",
       "\n"
      ],
      "text/plain": [
       "  ID hhw private salary    \n",
       "1 1  0   0       112160.884\n",
       "2 2  1   1        43530.321\n",
       "3 3  1   1        74163.727\n",
       "4 4  0   1        25743.575\n",
       "5 5  0   0        -3212.614\n",
       "6 6  1   1         6097.829"
      ]
     },
     "metadata": {},
     "output_type": "display_data"
    }
   ],
   "source": [
    "## Create empty dataframe\n",
    "df <- data.frame(\"ID\" = 1:N)\n",
    "\n",
    "## Simulate household wealth\n",
    "### Let's assume that in this hypothetical survey, we only observed whether HH wealth is > 1M or not.\n",
    "df$hhw <- floor(runif(N, min=0, max=2))\n",
    "\n",
    "## Simulate decision to attend private college (completely random for now)\n",
    "df$private <- floor(runif(N, min=0, max=2))\n",
    "\n",
    "## Simulate earning\n",
    "treatment.effect <- 10000\n",
    "df$salary <- 50000 + df$private*treatment.effect + df$hhw*10000 + rnorm(N, mean=0, sd=40000)\n",
    "\n",
    "## Show examples\n",
    "head(df)"
   ]
  },
  {
   "cell_type": "code",
   "execution_count": 3,
   "metadata": {},
   "outputs": [
    {
     "name": "stdout",
     "output_type": "stream",
     "text": [
      "\n",
      "Call:\n",
      "   felm(formula = salary ~ private, data = df) \n",
      "\n",
      "Residuals:\n",
      "    Min      1Q  Median      3Q     Max \n",
      "-141966  -26438     570   27923  151181 \n",
      "\n",
      "Coefficients:\n",
      "            Estimate Robust s.e t value Pr(>|t|)    \n",
      "(Intercept)    56210       1267  44.361  < 2e-16 ***\n",
      "private         6751       1813   3.723 0.000202 ***\n",
      "---\n",
      "Signif. codes:  0 '***' 0.001 '**' 0.01 '*' 0.05 '.' 0.1 ' ' 1\n",
      "\n",
      "Residual standard error: 40600 on 1998 degrees of freedom\n",
      "Multiple R-squared(full model): 0.006864   Adjusted R-squared: 0.006367 \n",
      "Multiple R-squared(proj model): 0.006864   Adjusted R-squared: 0.006367 \n",
      "F-statistic(full model, *iid*):13.81 on 1 and 1998 DF, p-value: 0.0002078 \n",
      "F-statistic(proj model): 13.86 on 1 and 1998 DF, p-value: 0.0002023 \n",
      "\n",
      "\n",
      "\n",
      "Call:\n",
      "   felm(formula = salary ~ private + hhw, data = df) \n",
      "\n",
      "Residuals:\n",
      "    Min      1Q  Median      3Q     Max \n",
      "-147286  -26493    -160   27659  146071 \n",
      "\n",
      "Coefficients:\n",
      "            Estimate Robust s.e t value Pr(>|t|)    \n",
      "(Intercept)    51179       1539  33.257  < 2e-16 ***\n",
      "private         6541       1799   3.635 0.000284 ***\n",
      "hhw            10351       1801   5.747 1.05e-08 ***\n",
      "---\n",
      "Signif. codes:  0 '***' 0.001 '**' 0.01 '*' 0.05 '.' 0.1 ' ' 1\n",
      "\n",
      "Residual standard error: 40280 on 1997 degrees of freedom\n",
      "Multiple R-squared(full model): 0.02301   Adjusted R-squared: 0.02203 \n",
      "Multiple R-squared(proj model): 0.02301   Adjusted R-squared: 0.02203 \n",
      "F-statistic(full model, *iid*):23.52 on 2 and 1997 DF, p-value: 8.023e-11 \n",
      "F-statistic(proj model): 23.16 on 2 and 1997 DF, p-value: 1.137e-10 \n",
      "\n",
      "\n"
     ]
    }
   ],
   "source": [
    "## Run regression without/with HHW\n",
    "short <- felm(salary ~ private, data=df)\n",
    "long <- felm(salary ~ private + hhw, data=df)\n",
    "\n",
    "print(summary(short, robust=TRUE))\n",
    "print(summary(long, robust=TRUE))\n",
    "### robust=TRUE gives heteroskedasticity-robust standard errors\n",
    "\n",
    "### Note that both give roughly correct causal estimates.\n",
    "### The second regression has more \"statistical power\".\n",
    "### \"Statistical power\" = prob (reject null | null is incorrect)\n",
    "### If you run this simulation millions of times, the second regression will reject the null hypothesis\n",
    "### more often than the first regression, meaning the second regression will be more likely to be correct\n",
    "### Feel free to test this. Testing with adequate number of N will give you more definitive answer\n",
    "### (not too small where null is never rejected, not too big where null is always rejected)."
   ]
  },
  {
   "cell_type": "markdown",
   "metadata": {},
   "source": [
    "### Endogenous selection"
   ]
  },
  {
   "cell_type": "code",
   "execution_count": 4,
   "metadata": {},
   "outputs": [
    {
     "name": "stdout",
     "output_type": "stream",
     "text": [
      "\n",
      "   0    1 \n",
      " 967 1033 \n",
      "\n",
      "   0    1 \n",
      "1012  988 \n"
     ]
    },
    {
     "data": {
      "text/html": [
       "<table>\n",
       "<caption>A data.frame: 6 × 4</caption>\n",
       "<thead>\n",
       "\t<tr><th scope=col>ID</th><th scope=col>hhw</th><th scope=col>private</th><th scope=col>salary</th></tr>\n",
       "\t<tr><th scope=col>&lt;int&gt;</th><th scope=col>&lt;dbl&gt;</th><th scope=col>&lt;dbl&gt;</th><th scope=col>&lt;dbl&gt;</th></tr>\n",
       "</thead>\n",
       "<tbody>\n",
       "\t<tr><td>1</td><td>1</td><td>0</td><td> 24784.281</td></tr>\n",
       "\t<tr><td>2</td><td>1</td><td>1</td><td>101131.612</td></tr>\n",
       "\t<tr><td>3</td><td>0</td><td>0</td><td> 80744.346</td></tr>\n",
       "\t<tr><td>4</td><td>1</td><td>1</td><td> 23834.099</td></tr>\n",
       "\t<tr><td>5</td><td>1</td><td>0</td><td>  2135.256</td></tr>\n",
       "\t<tr><td>6</td><td>1</td><td>1</td><td> 20831.842</td></tr>\n",
       "</tbody>\n",
       "</table>\n"
      ],
      "text/latex": [
       "A data.frame: 6 × 4\n",
       "\\begin{tabular}{r|llll}\n",
       " ID & hhw & private & salary\\\\\n",
       " <int> & <dbl> & <dbl> & <dbl>\\\\\n",
       "\\hline\n",
       "\t 1 & 1 & 0 &  24784.281\\\\\n",
       "\t 2 & 1 & 1 & 101131.612\\\\\n",
       "\t 3 & 0 & 0 &  80744.346\\\\\n",
       "\t 4 & 1 & 1 &  23834.099\\\\\n",
       "\t 5 & 1 & 0 &   2135.256\\\\\n",
       "\t 6 & 1 & 1 &  20831.842\\\\\n",
       "\\end{tabular}\n"
      ],
      "text/markdown": [
       "\n",
       "A data.frame: 6 × 4\n",
       "\n",
       "| ID &lt;int&gt; | hhw &lt;dbl&gt; | private &lt;dbl&gt; | salary &lt;dbl&gt; |\n",
       "|---|---|---|---|\n",
       "| 1 | 1 | 0 |  24784.281 |\n",
       "| 2 | 1 | 1 | 101131.612 |\n",
       "| 3 | 0 | 0 |  80744.346 |\n",
       "| 4 | 1 | 1 |  23834.099 |\n",
       "| 5 | 1 | 0 |   2135.256 |\n",
       "| 6 | 1 | 1 |  20831.842 |\n",
       "\n"
      ],
      "text/plain": [
       "  ID hhw private salary    \n",
       "1 1  1   0        24784.281\n",
       "2 2  1   1       101131.612\n",
       "3 3  0   0        80744.346\n",
       "4 4  1   1        23834.099\n",
       "5 5  1   0         2135.256\n",
       "6 6  1   1        20831.842"
      ]
     },
     "metadata": {},
     "output_type": "display_data"
    }
   ],
   "source": [
    "## Create empty dataframe\n",
    "df2 <- data.frame(\"ID\" = 1:N)\n",
    "\n",
    "## Simulate household wealth\n",
    "### Let's assume that in this hypothetical survey, we only observed whether HH wealth is > 1M or not.\n",
    "df2$hhw <- floor(runif(N, min=0, max=2))\n",
    "\n",
    "## Simulate decision to attend private college \n",
    "### Instead of completely random, more likely to attend private college if from wealthy HH)\n",
    "df2$private <- 1* (df2$hhw + runif(N, min=-0.8, max=0.8) > 0.5)\n",
    "\n",
    "## roughly similar number of private college attendees\n",
    "print(table(df$private))\n",
    "print(table(df2$private)) \n",
    "\n",
    "## Simulate earning\n",
    "treatment.effect <- 10000\n",
    "df2$salary <- 50000 + df2$private*treatment.effect + df2$hhw*10000 + rnorm(N, mean=0, sd=40000)\n",
    "\n",
    "## Some sample data\n",
    "head(df2)"
   ]
  },
  {
   "cell_type": "code",
   "execution_count": 5,
   "metadata": {},
   "outputs": [
    {
     "name": "stdout",
     "output_type": "stream",
     "text": [
      "\n",
      "Call:\n",
      "   felm(formula = salary ~ private, data = df2) \n",
      "\n",
      "Residuals:\n",
      "    Min      1Q  Median      3Q     Max \n",
      "-124278  -26752    -760   27812  138709 \n",
      "\n",
      "Coefficients:\n",
      "            Estimate Robust s.e t value Pr(>|t|)    \n",
      "(Intercept)    50891       1252  40.662   <2e-16 ***\n",
      "private        15013       1810   8.296   <2e-16 ***\n",
      "---\n",
      "Signif. codes:  0 '***' 0.001 '**' 0.01 '*' 0.05 '.' 0.1 ' ' 1\n",
      "\n",
      "Residual standard error: 40450 on 1998 degrees of freedom\n",
      "Multiple R-squared(full model): 0.03333   Adjusted R-squared: 0.03284 \n",
      "Multiple R-squared(proj model): 0.03333   Adjusted R-squared: 0.03284 \n",
      "F-statistic(full model, *iid*):68.88 on 1 and 1998 DF, p-value: < 2.2e-16 \n",
      "F-statistic(proj model): 68.83 on 1 and 1998 DF, p-value: < 2.2e-16 \n",
      "\n",
      "\n",
      "\n",
      "Call:\n",
      "   felm(formula = salary ~ private + hhw, data = df2) \n",
      "\n",
      "Residuals:\n",
      "    Min      1Q  Median      3Q     Max \n",
      "-128631  -26789    -719   27360  139860 \n",
      "\n",
      "Coefficients:\n",
      "            Estimate Robust s.e t value Pr(>|t|)    \n",
      "(Intercept)    49740       1330  37.392  < 2e-16 ***\n",
      "private        11090       2371   4.678 3.09e-06 ***\n",
      "hhw             6070       2369   2.562   0.0105 *  \n",
      "---\n",
      "Signif. codes:  0 '***' 0.001 '**' 0.01 '*' 0.05 '.' 0.1 ' ' 1\n",
      "\n",
      "Residual standard error: 40390 on 1997 degrees of freedom\n",
      "Multiple R-squared(full model): 0.0365   Adjusted R-squared: 0.03553 \n",
      "Multiple R-squared(proj model): 0.0365   Adjusted R-squared: 0.03553 \n",
      "F-statistic(full model, *iid*):37.82 on 2 and 1997 DF, p-value: < 2.2e-16 \n",
      "F-statistic(proj model): 37.83 on 2 and 1997 DF, p-value: < 2.2e-16 \n",
      "\n",
      "\n"
     ]
    }
   ],
   "source": [
    "## Run regression without/with HHW\n",
    "short <- felm(salary ~ private, data=df2)\n",
    "long <- felm(salary ~ private + hhw, data=df2)\n",
    "\n",
    "print(summary(short, robust=TRUE))\n",
    "print(summary(long, robust=TRUE))\n",
    "\n",
    "### The short regression gives biased estimate of causal effect\n",
    "### True coefficient, 10000, is not included in the 95% confidence interval.\n",
    "### The long regression brings the estimate back to normal.\n",
    "### The long regression automatically matches wealthy kids with each other and compare private vs. public,\n",
    "### and matches poorer kids with each other and compare private vs. public,\n",
    "### and then calculate weighted average."
   ]
  },
  {
   "cell_type": "code",
   "execution_count": 6,
   "metadata": {
    "scrolled": true
   },
   "outputs": [
    {
     "name": "stdout",
     "output_type": "stream",
     "text": [
      "\n",
      "Call:\n",
      "   felm(formula = hhw ~ private, data = df2) \n",
      "\n",
      "Residuals:\n",
      "    Min      1Q  Median      3Q     Max \n",
      "-0.8360 -0.1897  0.1640  0.1640  0.8103 \n",
      "\n",
      "Coefficients:\n",
      "            Estimate Robust s.e t value Pr(>|t|)    \n",
      "(Intercept)  0.18972    0.01233   15.39   <2e-16 ***\n",
      "private      0.64631    0.01706   37.89   <2e-16 ***\n",
      "---\n",
      "Signif. codes:  0 '***' 0.001 '**' 0.01 '*' 0.05 '.' 0.1 ' ' 1\n",
      "\n",
      "Residual standard error: 0.3816 on 1998 degrees of freedom\n",
      "Multiple R-squared(full model): 0.4178   Adjusted R-squared: 0.4175 \n",
      "Multiple R-squared(proj model): 0.4178   Adjusted R-squared: 0.4175 \n",
      "F-statistic(full model, *iid*): 1434 on 1 and 1998 DF, p-value: < 2.2e-16 \n",
      "F-statistic(proj model):  1436 on 1 and 1998 DF, p-value: < 2.2e-16 \n",
      "\n",
      "\n"
     ]
    }
   ],
   "source": [
    "### The OVB formula\n",
    "fs <- felm(hhw ~ private, data=df2) ### fs = \"first stage\"\n",
    "print(summary(fs, robust=TRUE))"
   ]
  },
  {
   "cell_type": "code",
   "execution_count": 7,
   "metadata": {},
   "outputs": [
    {
     "name": "stdout",
     "output_type": "stream",
     "text": [
      "[1] 3922.767\n",
      "[1] 15013.2\n",
      "[1] 15013.2\n"
     ]
    }
   ],
   "source": [
    "bias <- coef(summary(fs, robust=TRUE))[\"private\",1] * coef(summary(long, robust=TRUE))[\"hhw\",1]\n",
    "long.estimate <- coef(summary(long, robust=TRUE))[\"private\",1]\n",
    "short.estimate <- coef(summary(short, robust=TRUE))[\"private\",1]\n",
    "print(bias)\n",
    "print(bias + long.estimate)\n",
    "print(short.estimate)"
   ]
  },
  {
   "cell_type": "markdown",
   "metadata": {},
   "source": [
    "### Exercise\n",
    "\n",
    "Show a simulation exercise where regression does not go as intended. Explain why."
   ]
  },
  {
   "cell_type": "code",
   "execution_count": null,
   "metadata": {},
   "outputs": [],
   "source": []
  }
 ],
 "metadata": {
  "kernelspec": {
   "display_name": "R",
   "language": "R",
   "name": "ir"
  },
  "language_info": {
   "codemirror_mode": "r",
   "file_extension": ".r",
   "mimetype": "text/x-r-source",
   "name": "R",
   "pygments_lexer": "r",
   "version": "3.6.1"
  }
 },
 "nbformat": 4,
 "nbformat_minor": 2
}
