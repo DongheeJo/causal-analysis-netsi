{
 "cells": [
  {
   "cell_type": "markdown",
   "metadata": {},
   "source": [
    "# NETSI Special Topic: Causal Analysis\n",
    "## Jupyter notebook on Fisher's exact inference\n",
    "\n",
    "In this notebook, we are going to perform Fisher's exact inference. With the advancement of computational capacity, Fisher's exact inference is quickly becoming an attractive alternative to Neyman's superpopulation approach. Let's see how it works!\n",
    "\n",
    "For this exercise, we will use a clinical trial study by van der Leij et al. (2019).\n",
    "* [Article link](https://journals.plos.org/plosone/article?id=10.1371/journal.pone.0223492)\n",
    "* [Data link](https://dataverse.nl/dataset.xhtml?persistentId=hdl:10411/T8LKML)"
   ]
  },
  {
   "cell_type": "code",
   "execution_count": null,
   "metadata": {},
   "outputs": [],
   "source": [
    "## Import necessary libraries\n",
    "\n",
    "## Download data\n",
    "X <- read.csv(url(\"\"))"
   ]
  }
 ],
 "metadata": {
  "kernelspec": {
   "display_name": "R",
   "language": "R",
   "name": "ir"
  },
  "language_info": {
   "codemirror_mode": "r",
   "file_extension": ".r",
   "mimetype": "text/x-r-source",
   "name": "R",
   "pygments_lexer": "r",
   "version": "3.6.1"
  }
 },
 "nbformat": 4,
 "nbformat_minor": 2
}
