{
 "cells": [
  {
   "cell_type": "markdown",
   "metadata": {},
   "source": [
    "# NETSI Special Topic: Causal Analysis\n",
    "## Jupyter notebook on mediation\n",
    "\n",
    "Aliens are plotting against human species. They are trying to use CRISPR technique to genetically make humans crave for smoking! Ultimately they want all humans die due to lung cancer. To test out their plans, they plan to conduct a randomized controlled trial."
   ]
  },
  {
   "cell_type": "code",
   "execution_count": 1,
   "metadata": {},
   "outputs": [
    {
     "name": "stderr",
     "output_type": "stream",
     "text": [
      "\n",
      "Attaching package: 'igraph'\n",
      "\n",
      "The following objects are masked from 'package:stats':\n",
      "\n",
      "    decompose, spectrum\n",
      "\n",
      "The following object is masked from 'package:base':\n",
      "\n",
      "    union\n",
      "\n"
     ]
    },
    {
     "data": {
      "image/png": "[encoded data removed]",
      "text/plain": [
       "Plot with title \"\""
      ]
     },
     "metadata": {},
     "output_type": "display_data"
    }
   ],
   "source": [
    "### DAG for causal chain\n",
    "library(igraph)\n",
    "g1 <- graph_from_literal(A_CRISPR--+M_SMOKING,A_CRISPR--+Y_CANCER,M_SMOKING--+Y_CANCER,U_STRESS--+M_SMOKING,U_STRESS--+Y_CANCER)\n",
    "E(g1)$lty <- c(1,1,1,2,2)\n",
    "options(repr.plot.height=5)\n",
    "plot(g1, edge.arrow.size=0.5, edge.color=\"black\", vertex.color=\"white\", vertex.size=5, \n",
    "     vertex.frame.color=\"grey\", vertex.label.color=\"black\", \n",
    "     vertex.label.cex=0.8, vertex.label.dist=1.5, edge.curved=0)"
   ]
  },
  {
   "cell_type": "code",
   "execution_count": 2,
   "metadata": {},
   "outputs": [
    {
     "name": "stderr",
     "output_type": "stream",
     "text": [
      "Loading required package: Matrix\n"
     ]
    },
    {
     "data": {
      "text/html": [
       "<table>\n",
       "<caption>A data.frame: 6 × 5</caption>\n",
       "<thead>\n",
       "\t<tr><th scope=col>ID</th><th scope=col>A</th><th scope=col>U</th><th scope=col>M</th><th scope=col>Y</th></tr>\n",
       "\t<tr><th scope=col>&lt;int&gt;</th><th scope=col>&lt;dbl&gt;</th><th scope=col>&lt;dbl&gt;</th><th scope=col>&lt;dbl&gt;</th><th scope=col>&lt;dbl&gt;</th></tr>\n",
       "</thead>\n",
       "<tbody>\n",
       "\t<tr><td>1</td><td>1</td><td>1</td><td>1</td><td>1</td></tr>\n",
       "\t<tr><td>2</td><td>0</td><td>0</td><td>0</td><td>0</td></tr>\n",
       "\t<tr><td>3</td><td>1</td><td>1</td><td>0</td><td>1</td></tr>\n",
       "\t<tr><td>4</td><td>1</td><td>1</td><td>1</td><td>1</td></tr>\n",
       "\t<tr><td>5</td><td>0</td><td>1</td><td>0</td><td>0</td></tr>\n",
       "\t<tr><td>6</td><td>1</td><td>0</td><td>0</td><td>0</td></tr>\n",
       "</tbody>\n",
       "</table>\n"
      ],
      "text/latex": [
       "A data.frame: 6 × 5\n",
       "\\begin{tabular}{r|lllll}\n",
       " ID & A & U & M & Y\\\\\n",
       " <int> & <dbl> & <dbl> & <dbl> & <dbl>\\\\\n",
       "\\hline\n",
       "\t 1 & 1 & 1 & 1 & 1\\\\\n",
       "\t 2 & 0 & 0 & 0 & 0\\\\\n",
       "\t 3 & 1 & 1 & 0 & 1\\\\\n",
       "\t 4 & 1 & 1 & 1 & 1\\\\\n",
       "\t 5 & 0 & 1 & 0 & 0\\\\\n",
       "\t 6 & 1 & 0 & 0 & 0\\\\\n",
       "\\end{tabular}\n"
      ],
      "text/markdown": [
       "\n",
       "A data.frame: 6 × 5\n",
       "\n",
       "| ID &lt;int&gt; | A &lt;dbl&gt; | U &lt;dbl&gt; | M &lt;dbl&gt; | Y &lt;dbl&gt; |\n",
       "|---|---|---|---|---|\n",
       "| 1 | 1 | 1 | 1 | 1 |\n",
       "| 2 | 0 | 0 | 0 | 0 |\n",
       "| 3 | 1 | 1 | 0 | 1 |\n",
       "| 4 | 1 | 1 | 1 | 1 |\n",
       "| 5 | 0 | 1 | 0 | 0 |\n",
       "| 6 | 1 | 0 | 0 | 0 |\n",
       "\n"
      ],
      "text/plain": [
       "  ID A U M Y\n",
       "1 1  1 1 1 1\n",
       "2 2  0 0 0 0\n",
       "3 3  1 1 0 1\n",
       "4 4  1 1 1 1\n",
       "5 5  0 1 0 0\n",
       "6 6  1 0 0 0"
      ]
     },
     "metadata": {},
     "output_type": "display_data"
    }
   ],
   "source": [
    "### Setup\n",
    "\n",
    "library(lfe) # for OLS (easier robust SE)\n",
    "set.seed(15)\n",
    "N <- 500\n",
    "\n",
    "### Simluation\n",
    "\n",
    "## Create empty dataframe\n",
    "df <- data.frame(\"ID\" = 1:N)\n",
    "\n",
    "## Simulate CRISPR treatment\n",
    "df$A <- floor(runif(N, min=0, max=2))\n",
    "\n",
    "## Simulate stress level (high vs low)\n",
    "df$U <- floor(runif(N, min=0, max=2))\n",
    "\n",
    "## Smoking level (high vs low)\n",
    "df$M <- 1* (( 0.1*df$A + 0.8*df$U + runif(N, min=0, max=1) ) > 1)\n",
    "\n",
    "\n",
    "## Lung cancer (yes or no)\n",
    "#df$Y <- 1* (( 0.3*df$A + 0.3*df$U + 0.3*df$M + runif(N, min=0, max=1) ) > 1) # This is the version that Aliens have in mind\n",
    "df$Y <- 1* (( 0.1*df$A + 0.8*df$U + runif(N, min=0, max=1) ) > 1) # Version we'll use: no indirect effect through smoking\n",
    "\n",
    "head(df)"
   ]
  },
  {
   "cell_type": "code",
   "execution_count": 3,
   "metadata": {},
   "outputs": [
    {
     "name": "stdout",
     "output_type": "stream",
     "text": [
      "\n",
      "Call:\n",
      "   felm(formula = Y ~ A, data = df) \n",
      "\n",
      "Residuals:\n",
      "    Min      1Q  Median      3Q     Max \n",
      "-0.5275 -0.5275 -0.3745  0.4725  0.6256 \n",
      "\n",
      "Coefficients:\n",
      "            Estimate Std. Error t value Pr(>|t|)    \n",
      "(Intercept)  0.37445    0.03275  11.435  < 2e-16 ***\n",
      "A            0.15302    0.04432   3.453 0.000602 ***\n",
      "---\n",
      "Signif. codes:  0 '***' 0.001 '**' 0.01 '*' 0.05 '.' 0.1 ' ' 1\n",
      "\n",
      "Residual standard error: 0.4934 on 498 degrees of freedom\n",
      "Multiple R-squared(full model): 0.02338   Adjusted R-squared: 0.02142 \n",
      "Multiple R-squared(proj model): 0.02338   Adjusted R-squared: 0.02142 \n",
      "F-statistic(full model):11.92 on 1 and 498 DF, p-value: 0.0006015 \n",
      "F-statistic(proj model): 11.92 on 1 and 498 DF, p-value: 0.0006015 \n",
      "\n",
      "\n"
     ]
    }
   ],
   "source": [
    "### Total effect of CRISPR treatment on lung cancer\n",
    "TE <- felm(Y~A, data=df)\n",
    "print(summary(TE))"
   ]
  },
  {
   "cell_type": "code",
   "execution_count": 4,
   "metadata": {},
   "outputs": [
    {
     "name": "stdout",
     "output_type": "stream",
     "text": [
      "\n",
      "Call:\n",
      "   felm(formula = Y ~ A + M, data = df) \n",
      "\n",
      "Residuals:\n",
      "    Min      1Q  Median      3Q     Max \n",
      "-0.8284 -0.1495 -0.1023  0.1716  0.8977 \n",
      "\n",
      "Coefficients:\n",
      "            Estimate Std. Error t value Pr(>|t|)    \n",
      "(Intercept)  0.10230    0.02737   3.738 0.000207 ***\n",
      "A            0.04719    0.03289   1.435 0.152029    \n",
      "M            0.67889    0.03277  20.719  < 2e-16 ***\n",
      "---\n",
      "Signif. codes:  0 '***' 0.001 '**' 0.01 '*' 0.05 '.' 0.1 ' ' 1\n",
      "\n",
      "Residual standard error: 0.3617 on 497 degrees of freedom\n",
      "Multiple R-squared(full model): 0.476   Adjusted R-squared: 0.4739 \n",
      "Multiple R-squared(proj model): 0.476   Adjusted R-squared: 0.4739 \n",
      "F-statistic(full model):225.7 on 2 and 497 DF, p-value: < 2.2e-16 \n",
      "F-statistic(proj model): 225.7 on 2 and 497 DF, p-value: < 2.2e-16 \n",
      "\n",
      "\n"
     ]
    }
   ],
   "source": [
    "### Aliens are excited to find out that their CRISPR caused high likelihood of cancer.\n",
    "### Is it through smoking, as they originally intended?\n",
    "### We know the answer because we know the data generation process: No!\n",
    "### CRISPR does cause people to smoke more, but in our hypothetical world smoking doesn't cause lung cancer\n",
    "### (In real world it does, stay away from smoking if possible)\n",
    "\n",
    "### Test for mediation often involves simply including the mediator variable into the regression\n",
    "### If coefficient for A goes away as we include the mediator, \n",
    "### some researchers (falsely) believe the mediator is likely to be in the middle of major causal mechanism.\n",
    "ME <- felm(Y~A+M, data=df)\n",
    "print(summary(ME))"
   ]
  },
  {
   "cell_type": "markdown",
   "metadata": {},
   "source": [
    "**As we can see above, mediation analysis can lead to the false conclusion that their CRISPR was successful through the causal chain where people were more likely to smoke, which in turn causes lung cancer. The aliens were accidentally successful because the gene that they thought would induce poeple to smoke also had direct effect (not through smoking) on lung cancer!**"
   ]
  },
  {
   "cell_type": "code",
   "execution_count": null,
   "metadata": {},
   "outputs": [],
   "source": []
  }
 ],
 "metadata": {
  "kernelspec": {
   "display_name": "R",
   "language": "R",
   "name": "ir"
  },
  "language_info": {
   "codemirror_mode": "r",
   "file_extension": ".r",
   "mimetype": "text/x-r-source",
   "name": "R",
   "pygments_lexer": "r",
   "version": "3.6.1"
  }
 },
 "nbformat": 4,
 "nbformat_minor": 2
}
